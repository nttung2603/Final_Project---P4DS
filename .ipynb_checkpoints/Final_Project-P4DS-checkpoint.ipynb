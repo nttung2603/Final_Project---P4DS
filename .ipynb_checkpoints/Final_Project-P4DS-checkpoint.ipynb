{
 "cells": [
  {
   "cell_type": "markdown",
   "metadata": {
    "slideshow": {
     "slide_type": "slide"
    },
    "toc": true
   },
   "source": [
    "<h1>Table of Contents<span class=\"tocSkip\"></span></h1>\n",
    "<div class=\"toc\"><ul class=\"toc-item\"><li><span><a href=\"#Thông-tin-tên-thành-viên\" data-toc-modified-id=\"Thông-tin-tên-thành-viên-1\"><span class=\"toc-item-num\">1&nbsp;&nbsp;</span>Thông tin tên thành viên</a></span></li><li><span><a href=\"#Import-thư-viện-cần-thiết\" data-toc-modified-id=\"Import-thư-viện-cần-thiết-2\"><span class=\"toc-item-num\">2&nbsp;&nbsp;</span>Import thư viện cần thiết</a></span></li><li><span><a href=\"#Thu-thập-dữ-liệu\" data-toc-modified-id=\"Thu-thập-dữ-liệu-3\"><span class=\"toc-item-num\">3&nbsp;&nbsp;</span>Thu thập dữ liệu</a></span></li><li><span><a href=\"#Khám-phá,-tiền-xử-lí-dữ-liệu\" data-toc-modified-id=\"Khám-phá,-tiền-xử-lí-dữ-liệu-4\"><span class=\"toc-item-num\">4&nbsp;&nbsp;</span>Khám phá, tiền xử lí dữ liệu</a></span></li><li><span><a href=\"#Các-câu-hỏi-từ-dữ-liệu\" data-toc-modified-id=\"Các-câu-hỏi-từ-dữ-liệu-5\"><span class=\"toc-item-num\">5&nbsp;&nbsp;</span>Các câu hỏi từ dữ liệu</a></span><ul class=\"toc-item\"><li><span><a href=\"#Xây-dựng-ứng-dụng-về-thể-loại-nào-là-tốt?\" data-toc-modified-id=\"Xây-dựng-ứng-dụng-về-thể-loại-nào-là-tốt?-5.1\"><span class=\"toc-item-num\">5.1&nbsp;&nbsp;</span>Xây dựng ứng dụng về thể loại nào là tốt?</a></span></li><li><span><a href=\"#Xây-dựng-ứng-dụng-miễn-phí-hay-phải-trả-phí?\" data-toc-modified-id=\"Xây-dựng-ứng-dụng-miễn-phí-hay-phải-trả-phí?-5.2\"><span class=\"toc-item-num\">5.2&nbsp;&nbsp;</span>Xây dựng ứng dụng miễn phí hay phải trả phí?</a></span></li><li><span><a href=\"#Yếu-tố-ảnh-hưởng-đến-Install\" data-toc-modified-id=\"Yếu-tố-ảnh-hưởng-đến-Install-5.3\"><span class=\"toc-item-num\">5.3&nbsp;&nbsp;</span>Yếu tố ảnh hưởng đến Install</a></span></li><li><span><a href=\"#Tìm-những-ứng-dụng-được-đánh-giá-tốt-thông-qua-Review-của-khách-hàng\" data-toc-modified-id=\"Tìm-những-ứng-dụng-được-đánh-giá-tốt-thông-qua-Review-của-khách-hàng-5.4\"><span class=\"toc-item-num\">5.4&nbsp;&nbsp;</span>Tìm những ứng dụng được đánh giá tốt thông qua Review của khách hàng</a></span></li></ul></li><li><span><a href=\"#Nhìn-lại-quá-trình-làm-đồ-án.\" data-toc-modified-id=\"Nhìn-lại-quá-trình-làm-đồ-án.-6\"><span class=\"toc-item-num\">6&nbsp;&nbsp;</span>Nhìn lại quá trình làm đồ án.</a></span><ul class=\"toc-item\"><li><span><a href=\"#Khó-khăn.\" data-toc-modified-id=\"Khó-khăn.-6.1\"><span class=\"toc-item-num\">6.1&nbsp;&nbsp;</span>Khó khăn.</a></span></li><li><span><a href=\"#Học-hỏi-được-qua-đồ-án.\" data-toc-modified-id=\"Học-hỏi-được-qua-đồ-án.-6.2\"><span class=\"toc-item-num\">6.2&nbsp;&nbsp;</span>Học hỏi được qua đồ án.</a></span></li><li><span><a href=\"#Cải-thiện-đồ-án-nếu-còn-thời-gian.\" data-toc-modified-id=\"Cải-thiện-đồ-án-nếu-còn-thời-gian.-6.3\"><span class=\"toc-item-num\">6.3&nbsp;&nbsp;</span>Cải thiện đồ án nếu còn thời gian.</a></span></li></ul></li><li><span><a href=\"#Tài-liệu-tham-khảo\" data-toc-modified-id=\"Tài-liệu-tham-khảo-7\"><span class=\"toc-item-num\">7&nbsp;&nbsp;</span>Tài liệu tham khảo</a></span></li></ul></div>"
   ]
  },
  {
   "cell_type": "markdown",
   "metadata": {},
   "source": [
    "---"
   ]
  },
  {
   "cell_type": "markdown",
   "metadata": {},
   "source": [
    "# Thông tin tên thành viên"
   ]
  },
  {
   "cell_type": "markdown",
   "metadata": {},
   "source": [
    "|MSSV|Tên thành viên|Github|\n",
    "|---|---|---|\n",
    "|18120023|Nguyễn Huy Hải|https://github.com/HuyHaiNguyen|\n",
    "|18120104|Nguyễn Thanh Tùng|https://github.com/nttung2603|"
   ]
  },
  {
   "cell_type": "markdown",
   "metadata": {},
   "source": [
    "---"
   ]
  },
  {
   "cell_type": "markdown",
   "metadata": {
    "slideshow": {
     "slide_type": "slide"
    }
   },
   "source": [
    "# Import thư viện cần thiết"
   ]
  },
  {
   "cell_type": "markdown",
   "metadata": {
    "slideshow": {
     "slide_type": "subslide"
    }
   },
   "source": [
    "- Cài đặt thư viện sklearn"
   ]
  },
  {
   "cell_type": "code",
   "execution_count": 1,
   "metadata": {
    "slideshow": {
     "slide_type": "fragment"
    }
   },
   "outputs": [],
   "source": [
    "# !pip install sklearn"
   ]
  },
  {
   "cell_type": "markdown",
   "metadata": {
    "slideshow": {
     "slide_type": "fragment"
    }
   },
   "source": [
    "- Cài đặt thư viện seaborn"
   ]
  },
  {
   "cell_type": "code",
   "execution_count": 2,
   "metadata": {
    "slideshow": {
     "slide_type": "fragment"
    }
   },
   "outputs": [],
   "source": [
    "# !pip install seaborn"
   ]
  },
  {
   "cell_type": "code",
   "execution_count": 3,
   "metadata": {
    "slideshow": {
     "slide_type": "subslide"
    }
   },
   "outputs": [],
   "source": [
    "import pandas as pd\n",
    "import matplotlib.pyplot as plt\n",
    "import numpy as np\n",
    "import seaborn as sns\n",
    "from sklearn.model_selection import GridSearchCV\n",
    "from sklearn.ensemble import RandomForestClassifier"
   ]
  },
  {
   "cell_type": "markdown",
   "metadata": {
    "slideshow": {
     "slide_type": "skip"
    }
   },
   "source": [
    "---"
   ]
  },
  {
   "cell_type": "markdown",
   "metadata": {
    "slideshow": {
     "slide_type": "slide"
    }
   },
   "source": [
    "# Thu thập dữ liệu"
   ]
  },
  {
   "cell_type": "markdown",
   "metadata": {
    "slideshow": {
     "slide_type": "subslide"
    }
   },
   "source": [
    "- Chủ đề của dữ liệu: `Các ứng dụng trên Google Play Store`\n",
    "\n",
    "Các thông tin về ứng dụng trên Google Play Store có thể thúc đẩy các doanh nghiệp sản xuất các ứng dụng thành công hơn. Ngoài ra, những thông tin này còn có thể giúp các nhà phát triển hiểu thêm và nắm bắt thị trường Android."
   ]
  },
  {
   "cell_type": "markdown",
   "metadata": {
    "slideshow": {
     "slide_type": "fragment"
    }
   },
   "source": [
    "- Dữ liệu được lấy từ kaggle: https://www.kaggle.com/lava18/google-play-store-apps?select=googleplaystore.csv "
   ]
  },
  {
   "cell_type": "markdown",
   "metadata": {
    "slideshow": {
     "slide_type": "fragment"
    }
   },
   "source": [
    "- Dữ liệu được thu thập như thế nào?"
   ]
  },
  {
   "cell_type": "markdown",
   "metadata": {
    "slideshow": {
     "slide_type": "fragment"
    }
   },
   "source": [
    "Dữ liệu được lấy trên Google Play Store"
   ]
  },
  {
   "cell_type": "markdown",
   "metadata": {
    "slideshow": {
     "slide_type": "subslide"
    }
   },
   "source": [
    "- Lấy dữ liệu file `googleplaystore.csv`"
   ]
  },
  {
   "cell_type": "code",
   "execution_count": 4,
   "metadata": {
    "scrolled": true,
    "slideshow": {
     "slide_type": "fragment"
    }
   },
   "outputs": [
    {
     "data": {
      "text/html": [
       "<div>\n",
       "<style scoped>\n",
       "    .dataframe tbody tr th:only-of-type {\n",
       "        vertical-align: middle;\n",
       "    }\n",
       "\n",
       "    .dataframe tbody tr th {\n",
       "        vertical-align: top;\n",
       "    }\n",
       "\n",
       "    .dataframe thead th {\n",
       "        text-align: right;\n",
       "    }\n",
       "</style>\n",
       "<table border=\"1\" class=\"dataframe\">\n",
       "  <thead>\n",
       "    <tr style=\"text-align: right;\">\n",
       "      <th></th>\n",
       "      <th>App</th>\n",
       "      <th>Category</th>\n",
       "      <th>Rating</th>\n",
       "      <th>Reviews</th>\n",
       "      <th>Size</th>\n",
       "      <th>Installs</th>\n",
       "      <th>Type</th>\n",
       "      <th>Price</th>\n",
       "      <th>Content Rating</th>\n",
       "      <th>Genres</th>\n",
       "      <th>Last Updated</th>\n",
       "      <th>Current Ver</th>\n",
       "      <th>Android Ver</th>\n",
       "    </tr>\n",
       "  </thead>\n",
       "  <tbody>\n",
       "    <tr>\n",
       "      <th>0</th>\n",
       "      <td>Photo Editor &amp; Candy Camera &amp; Grid &amp; ScrapBook</td>\n",
       "      <td>ART_AND_DESIGN</td>\n",
       "      <td>4.1</td>\n",
       "      <td>159</td>\n",
       "      <td>19M</td>\n",
       "      <td>10,000+</td>\n",
       "      <td>Free</td>\n",
       "      <td>0</td>\n",
       "      <td>Everyone</td>\n",
       "      <td>Art &amp; Design</td>\n",
       "      <td>7-Jan-18</td>\n",
       "      <td>1.0.0</td>\n",
       "      <td>4.0.3 and up</td>\n",
       "    </tr>\n",
       "    <tr>\n",
       "      <th>1</th>\n",
       "      <td>Coloring book moana</td>\n",
       "      <td>ART_AND_DESIGN</td>\n",
       "      <td>3.9</td>\n",
       "      <td>967</td>\n",
       "      <td>14M</td>\n",
       "      <td>500,000+</td>\n",
       "      <td>Free</td>\n",
       "      <td>0</td>\n",
       "      <td>Everyone</td>\n",
       "      <td>Art &amp; Design;Pretend Play</td>\n",
       "      <td>15-Jan-18</td>\n",
       "      <td>2.0.0</td>\n",
       "      <td>4.0.3 and up</td>\n",
       "    </tr>\n",
       "    <tr>\n",
       "      <th>2</th>\n",
       "      <td>U Launcher Lite – FREE Live Cool Themes, Hide ...</td>\n",
       "      <td>ART_AND_DESIGN</td>\n",
       "      <td>4.7</td>\n",
       "      <td>87510</td>\n",
       "      <td>8.7M</td>\n",
       "      <td>5,000,000+</td>\n",
       "      <td>Free</td>\n",
       "      <td>0</td>\n",
       "      <td>Everyone</td>\n",
       "      <td>Art &amp; Design</td>\n",
       "      <td>1-Aug-18</td>\n",
       "      <td>1.2.4</td>\n",
       "      <td>4.0.3 and up</td>\n",
       "    </tr>\n",
       "    <tr>\n",
       "      <th>3</th>\n",
       "      <td>Sketch - Draw &amp; Paint</td>\n",
       "      <td>ART_AND_DESIGN</td>\n",
       "      <td>4.5</td>\n",
       "      <td>215644</td>\n",
       "      <td>25M</td>\n",
       "      <td>50,000,000+</td>\n",
       "      <td>Free</td>\n",
       "      <td>0</td>\n",
       "      <td>Teen</td>\n",
       "      <td>Art &amp; Design</td>\n",
       "      <td>8-Jun-18</td>\n",
       "      <td>Varies with device</td>\n",
       "      <td>4.2 and up</td>\n",
       "    </tr>\n",
       "    <tr>\n",
       "      <th>4</th>\n",
       "      <td>Pixel Draw - Number Art Coloring Book</td>\n",
       "      <td>ART_AND_DESIGN</td>\n",
       "      <td>4.3</td>\n",
       "      <td>967</td>\n",
       "      <td>2.8M</td>\n",
       "      <td>100,000+</td>\n",
       "      <td>Free</td>\n",
       "      <td>0</td>\n",
       "      <td>Everyone</td>\n",
       "      <td>Art &amp; Design;Creativity</td>\n",
       "      <td>20-Jun-18</td>\n",
       "      <td>1.1</td>\n",
       "      <td>4.4 and up</td>\n",
       "    </tr>\n",
       "  </tbody>\n",
       "</table>\n",
       "</div>"
      ],
      "text/plain": [
       "                                                 App        Category  Rating  \\\n",
       "0     Photo Editor & Candy Camera & Grid & ScrapBook  ART_AND_DESIGN     4.1   \n",
       "1                                Coloring book moana  ART_AND_DESIGN     3.9   \n",
       "2  U Launcher Lite – FREE Live Cool Themes, Hide ...  ART_AND_DESIGN     4.7   \n",
       "3                              Sketch - Draw & Paint  ART_AND_DESIGN     4.5   \n",
       "4              Pixel Draw - Number Art Coloring Book  ART_AND_DESIGN     4.3   \n",
       "\n",
       "   Reviews  Size     Installs  Type Price Content Rating  \\\n",
       "0      159   19M      10,000+  Free     0       Everyone   \n",
       "1      967   14M     500,000+  Free     0       Everyone   \n",
       "2    87510  8.7M   5,000,000+  Free     0       Everyone   \n",
       "3   215644   25M  50,000,000+  Free     0           Teen   \n",
       "4      967  2.8M     100,000+  Free     0       Everyone   \n",
       "\n",
       "                      Genres Last Updated         Current Ver   Android Ver  \n",
       "0               Art & Design     7-Jan-18               1.0.0  4.0.3 and up  \n",
       "1  Art & Design;Pretend Play    15-Jan-18               2.0.0  4.0.3 and up  \n",
       "2               Art & Design     1-Aug-18               1.2.4  4.0.3 and up  \n",
       "3               Art & Design     8-Jun-18  Varies with device    4.2 and up  \n",
       "4    Art & Design;Creativity    20-Jun-18                 1.1    4.4 and up  "
      ]
     },
     "execution_count": 4,
     "metadata": {},
     "output_type": "execute_result"
    }
   ],
   "source": [
    "df = pd.read_csv(\"data\\googleplaystore.csv\")\n",
    "df.head()"
   ]
  },
  {
   "cell_type": "markdown",
   "metadata": {
    "slideshow": {
     "slide_type": "skip"
    }
   },
   "source": [
    "---"
   ]
  },
  {
   "cell_type": "markdown",
   "metadata": {
    "slideshow": {
     "slide_type": "slide"
    }
   },
   "source": [
    "# Khám phá, tiền xử lí dữ liệu"
   ]
  },
  {
   "cell_type": "markdown",
   "metadata": {
    "slideshow": {
     "slide_type": "subslide"
    }
   },
   "source": [
    "- Dữ liệu có bao nhiêu dòng, cột?"
   ]
  },
  {
   "cell_type": "code",
   "execution_count": 5,
   "metadata": {
    "slideshow": {
     "slide_type": "fragment"
    }
   },
   "outputs": [],
   "source": [
    "nrow = df.shape[0]\n",
    "ncol = df.shape[1]"
   ]
  },
  {
   "cell_type": "code",
   "execution_count": 6,
   "metadata": {
    "slideshow": {
     "slide_type": "fragment"
    }
   },
   "outputs": [
    {
     "name": "stdout",
     "output_type": "stream",
     "text": [
      "Dữ liệu có 10841 dòng\n",
      "Dữ liệu có 13 cột\n"
     ]
    }
   ],
   "source": [
    "print(\"Dữ liệu có {} dòng\".format(nrow))\n",
    "print(\"Dữ liệu có {} cột\".format(ncol))"
   ]
  },
  {
   "cell_type": "markdown",
   "metadata": {
    "slideshow": {
     "slide_type": "subslide"
    }
   },
   "source": [
    "- Ý nghĩa của mỗi dòng là gì?`"
   ]
  },
  {
   "cell_type": "markdown",
   "metadata": {
    "slideshow": {
     "slide_type": "fragment"
    }
   },
   "source": [
    "Mỗi dòng tương ứng với mỗi App với các dữ liệu về tên app, loại app, rating, lượng review, kích cỡ, giá,..."
   ]
  },
  {
   "cell_type": "markdown",
   "metadata": {
    "slideshow": {
     "slide_type": "subslide"
    }
   },
   "source": [
    "- Dữ liệu có các dòng bị lặp không?"
   ]
  },
  {
   "cell_type": "code",
   "execution_count": 7,
   "metadata": {
    "scrolled": false,
    "slideshow": {
     "slide_type": "fragment"
    }
   },
   "outputs": [
    {
     "name": "stdout",
     "output_type": "stream",
     "text": [
      "Dữ liệu có 483 dòng bị lặp\n"
     ]
    }
   ],
   "source": [
    "nduplicated = df.duplicated().sum()\n",
    "print(\"Dữ liệu có {} dòng bị lặp\".format(nduplicated))"
   ]
  },
  {
   "cell_type": "code",
   "execution_count": 49,
   "metadata": {
    "slideshow": {
     "slide_type": "fragment"
    }
   },
   "outputs": [
    {
     "data": {
      "text/plain": [
       "(10357, 13)"
      ]
     },
     "execution_count": 49,
     "metadata": {},
     "output_type": "execute_result"
    }
   ],
   "source": [
    "#Xử lí dữ liệu lặp\n",
    "df = df.drop_duplicates()\n",
    "df.shape"
   ]
  },
  {
   "cell_type": "markdown",
   "metadata": {
    "slideshow": {
     "slide_type": "fragment"
    }
   },
   "source": [
    "`Nhận xét`: Dữ liệu lúc nào chỉ còn 10357 dòng."
   ]
  },
  {
   "cell_type": "markdown",
   "metadata": {
    "slideshow": {
     "slide_type": "subslide"
    }
   },
   "source": [
    "- Có cột nào bị mất dữ liệu không?"
   ]
  },
  {
   "cell_type": "code",
   "execution_count": 9,
   "metadata": {
    "slideshow": {
     "slide_type": "fragment"
    }
   },
   "outputs": [
    {
     "data": {
      "text/html": [
       "<div>\n",
       "<style scoped>\n",
       "    .dataframe tbody tr th:only-of-type {\n",
       "        vertical-align: middle;\n",
       "    }\n",
       "\n",
       "    .dataframe tbody tr th {\n",
       "        vertical-align: top;\n",
       "    }\n",
       "\n",
       "    .dataframe thead th {\n",
       "        text-align: right;\n",
       "    }\n",
       "</style>\n",
       "<table border=\"1\" class=\"dataframe\">\n",
       "  <thead>\n",
       "    <tr style=\"text-align: right;\">\n",
       "      <th></th>\n",
       "      <th>App</th>\n",
       "      <th>Category</th>\n",
       "      <th>Rating</th>\n",
       "      <th>Reviews</th>\n",
       "      <th>Size</th>\n",
       "      <th>Installs</th>\n",
       "      <th>Type</th>\n",
       "      <th>Price</th>\n",
       "      <th>Content Rating</th>\n",
       "      <th>Genres</th>\n",
       "      <th>Last Updated</th>\n",
       "      <th>Current Ver</th>\n",
       "      <th>Android Ver</th>\n",
       "    </tr>\n",
       "  </thead>\n",
       "  <tbody>\n",
       "    <tr>\n",
       "      <th>missing_ratio</th>\n",
       "      <td>0.0</td>\n",
       "      <td>0.009224</td>\n",
       "      <td>13.596532</td>\n",
       "      <td>0.0</td>\n",
       "      <td>0.0</td>\n",
       "      <td>0.0</td>\n",
       "      <td>0.009224</td>\n",
       "      <td>0.0</td>\n",
       "      <td>0.0</td>\n",
       "      <td>0.009224</td>\n",
       "      <td>0.0</td>\n",
       "      <td>0.073794</td>\n",
       "      <td>0.018448</td>\n",
       "    </tr>\n",
       "  </tbody>\n",
       "</table>\n",
       "</div>"
      ],
      "text/plain": [
       "               App  Category     Rating  Reviews  Size  Installs      Type  \\\n",
       "missing_ratio  0.0  0.009224  13.596532      0.0   0.0       0.0  0.009224   \n",
       "\n",
       "               Price  Content Rating    Genres  Last Updated  Current Ver  \\\n",
       "missing_ratio    0.0             0.0  0.009224           0.0     0.073794   \n",
       "\n",
       "               Android Ver  \n",
       "missing_ratio     0.018448  "
      ]
     },
     "execution_count": 9,
     "metadata": {},
     "output_type": "execute_result"
    }
   ],
   "source": [
    "def missing_ratio(s):\n",
    "    return s.isna().mean() * 100\n",
    "df.agg([missing_ratio])"
   ]
  },
  {
   "cell_type": "markdown",
   "metadata": {
    "slideshow": {
     "slide_type": "subslide"
    }
   },
   "source": [
    "- Xử lý các dòng, cột bị mất dữ liệu\n",
    "    + Dữ liệu bị thiếu ở cột `Type` sẽ điền dựa vào cột `Price` vì cột này không thiếu.\n",
    "    + Các cột còn lại bị mất dữ liệu sẽ không xử lí. Vì mục đích là việc phân tích dữ liệu nên việc điền giá trị thiếu là không cần thiết và có thể sẽ ảnh hưởng đến kết quả phân tích"
   ]
  },
  {
   "cell_type": "markdown",
   "metadata": {
    "slideshow": {
     "slide_type": "fragment"
    }
   },
   "source": [
    "- Dữ liệu bị thiếu ở cột `Type` sẽ điền dựa vào cột `Price` vì cột này không thiếu."
   ]
  },
  {
   "cell_type": "code",
   "execution_count": 10,
   "metadata": {
    "slideshow": {
     "slide_type": "fragment"
    }
   },
   "outputs": [],
   "source": [
    "# Điền dữ liệu thiếu vào cột Type\n",
    "df.loc[df[\"Price\"] == \"0\", \"Type\"] = \"Free\"\n",
    "df.loc[df[\"Price\"] != \"0\", \"Type\"] = \"Paid\"\n",
    "\n",
    "# Xóa dòng có Category thiếu, có vẻ chỉ là 1 dòng nhiễu, không quan trọng\n",
    "df = df[~df[\"Category\"].isna()]"
   ]
  },
  {
   "cell_type": "markdown",
   "metadata": {
    "slideshow": {
     "slide_type": "subslide"
    }
   },
   "source": [
    "- Tính lại tỉ lệ mất dữ liệu ở các cột"
   ]
  },
  {
   "cell_type": "code",
   "execution_count": 11,
   "metadata": {
    "slideshow": {
     "slide_type": "fragment"
    }
   },
   "outputs": [
    {
     "data": {
      "text/html": [
       "<div>\n",
       "<style scoped>\n",
       "    .dataframe tbody tr th:only-of-type {\n",
       "        vertical-align: middle;\n",
       "    }\n",
       "\n",
       "    .dataframe tbody tr th {\n",
       "        vertical-align: top;\n",
       "    }\n",
       "\n",
       "    .dataframe thead th {\n",
       "        text-align: right;\n",
       "    }\n",
       "</style>\n",
       "<table border=\"1\" class=\"dataframe\">\n",
       "  <thead>\n",
       "    <tr style=\"text-align: right;\">\n",
       "      <th></th>\n",
       "      <th>App</th>\n",
       "      <th>Category</th>\n",
       "      <th>Rating</th>\n",
       "      <th>Reviews</th>\n",
       "      <th>Size</th>\n",
       "      <th>Installs</th>\n",
       "      <th>Type</th>\n",
       "      <th>Price</th>\n",
       "      <th>Content Rating</th>\n",
       "      <th>Genres</th>\n",
       "      <th>Last Updated</th>\n",
       "      <th>Current Ver</th>\n",
       "      <th>Android Ver</th>\n",
       "    </tr>\n",
       "  </thead>\n",
       "  <tbody>\n",
       "    <tr>\n",
       "      <th>missing_ratio</th>\n",
       "      <td>0.0</td>\n",
       "      <td>0.0</td>\n",
       "      <td>13.597786</td>\n",
       "      <td>0.0</td>\n",
       "      <td>0.0</td>\n",
       "      <td>0.0</td>\n",
       "      <td>0.0</td>\n",
       "      <td>0.0</td>\n",
       "      <td>0.0</td>\n",
       "      <td>0.0</td>\n",
       "      <td>0.0</td>\n",
       "      <td>0.073801</td>\n",
       "      <td>0.01845</td>\n",
       "    </tr>\n",
       "  </tbody>\n",
       "</table>\n",
       "</div>"
      ],
      "text/plain": [
       "               App  Category     Rating  Reviews  Size  Installs  Type  Price  \\\n",
       "missing_ratio  0.0       0.0  13.597786      0.0   0.0       0.0   0.0    0.0   \n",
       "\n",
       "               Content Rating  Genres  Last Updated  Current Ver  Android Ver  \n",
       "missing_ratio             0.0     0.0           0.0     0.073801      0.01845  "
      ]
     },
     "execution_count": 11,
     "metadata": {},
     "output_type": "execute_result"
    }
   ],
   "source": [
    "def missing_ratio(s):\n",
    "    return s.isna().mean() * 100\n",
    "df.agg([missing_ratio])"
   ]
  },
  {
   "cell_type": "markdown",
   "metadata": {
    "slideshow": {
     "slide_type": "subslide"
    }
   },
   "source": [
    "- Mô tả về ý nghĩa của mỗi cột"
   ]
  },
  {
   "cell_type": "markdown",
   "metadata": {
    "slideshow": {
     "slide_type": "fragment"
    }
   },
   "source": [
    "|Tên cột|Ý nghĩa của cột|\n",
    "|---|---|\n",
    "|App|Tên ứng dụng|\n",
    "|Category|Thể loại của ứng dụng|\n",
    "|Rating|Đánh giá của người dùng về ứng dụng|\n",
    "|Reviews|Số lượng đánh giá của người dùng về ứng dụng|\n",
    "|Size|Kích thước của ứng dụng|\n",
    "|Installs|Số lượt tải xuống / cài đặt của người dùng cho ứng dụng|\n",
    "|Type|Ứng dụng trả phí hay miễn phí|\n",
    "|Price|Giá của ứng dụng|\n",
    "|Content Rating|Nhóm tuổi mà ứng dụng nhắm đến|\n",
    "|Genres|Ứng dụng thuộc nhiều thể loại (ngoài thể loại chính của nó).|\n",
    "|Last Updated|Ngày cập nhật của ứng dụng trên Google Play Store|\n",
    "|Current Ver|Phiên bản hiện tại của ứng dụng trên Google Play Store|\n",
    "|Android Ver|Phiên bản Android tối thiểu của máy|\n",
    "\n",
    "\n"
   ]
  },
  {
   "cell_type": "markdown",
   "metadata": {
    "slideshow": {
     "slide_type": "subslide"
    }
   },
   "source": [
    "- Mỗi cột có kiểu dữ liệu gì?"
   ]
  },
  {
   "cell_type": "code",
   "execution_count": 12,
   "metadata": {
    "slideshow": {
     "slide_type": "fragment"
    }
   },
   "outputs": [
    {
     "data": {
      "text/plain": [
       "App                object\n",
       "Category           object\n",
       "Rating            float64\n",
       "Reviews             int64\n",
       "Size               object\n",
       "Installs           object\n",
       "Type               object\n",
       "Price              object\n",
       "Content Rating     object\n",
       "Genres             object\n",
       "Last Updated       object\n",
       "Current Ver        object\n",
       "Android Ver        object\n",
       "dtype: object"
      ]
     },
     "execution_count": 12,
     "metadata": {},
     "output_type": "execute_result"
    }
   ],
   "source": [
    "df.dtypes"
   ]
  },
  {
   "cell_type": "markdown",
   "metadata": {
    "slideshow": {
     "slide_type": "fragment"
    }
   },
   "source": [
    "- `Nhận xét`:\n",
    "    + Cột Size, Install, Price cần chuyển cột này về kiểu dữ liệu dạng số.\n",
    "    + Cột Last Updated cần chuyển cột này về kiểu dữ liệu datetime."
   ]
  },
  {
   "cell_type": "markdown",
   "metadata": {
    "slideshow": {
     "slide_type": "subslide"
    }
   },
   "source": [
    "- Với mỗi cột dữ liệu dạng số (numeric), các giá trị được phân bố như thế nào?"
   ]
  },
  {
   "cell_type": "code",
   "execution_count": 13,
   "metadata": {
    "slideshow": {
     "slide_type": "fragment"
    }
   },
   "outputs": [],
   "source": [
    "df[\"Size\"] = df[\"Size\"].apply(lambda x: x.replace(\"M\", \"*1024\").replace(\"k\",\"\").replace(\"Varies with device\",\"0\"))\n",
    "df[\"Size\"] = df[\"Size\"].apply(eval)"
   ]
  },
  {
   "cell_type": "code",
   "execution_count": 14,
   "metadata": {
    "slideshow": {
     "slide_type": "fragment"
    }
   },
   "outputs": [],
   "source": [
    "df[\"Installs\"] = df[\"Installs\"].apply(lambda x: x.replace(\"+\", \"\").replace(\",\",\"\"))\n",
    "df[\"Installs\"] = pd.to_numeric(df[\"Installs\"])"
   ]
  },
  {
   "cell_type": "code",
   "execution_count": 15,
   "metadata": {
    "slideshow": {
     "slide_type": "fragment"
    }
   },
   "outputs": [],
   "source": [
    "df[\"Price\"] = df[\"Price\"].apply(lambda x: x.replace(\"$\", \"\"))\n",
    "df[\"Price\"] = pd.to_numeric(df[\"Price\"])"
   ]
  },
  {
   "cell_type": "code",
   "execution_count": 16,
   "metadata": {
    "slideshow": {
     "slide_type": "subslide"
    }
   },
   "outputs": [
    {
     "data": {
      "text/html": [
       "<div>\n",
       "<style scoped>\n",
       "    .dataframe tbody tr th:only-of-type {\n",
       "        vertical-align: middle;\n",
       "    }\n",
       "\n",
       "    .dataframe tbody tr th {\n",
       "        vertical-align: top;\n",
       "    }\n",
       "\n",
       "    .dataframe thead th {\n",
       "        text-align: right;\n",
       "    }\n",
       "</style>\n",
       "<table border=\"1\" class=\"dataframe\">\n",
       "  <thead>\n",
       "    <tr style=\"text-align: right;\">\n",
       "      <th></th>\n",
       "      <th>Rating</th>\n",
       "      <th>Reviews</th>\n",
       "      <th>Size</th>\n",
       "      <th>Installs</th>\n",
       "      <th>Price</th>\n",
       "    </tr>\n",
       "  </thead>\n",
       "  <tbody>\n",
       "    <tr>\n",
       "      <th>count</th>\n",
       "      <td>9366.000000</td>\n",
       "      <td>1.084000e+04</td>\n",
       "      <td>10840.000000</td>\n",
       "      <td>1.084000e+04</td>\n",
       "      <td>10840.000000</td>\n",
       "    </tr>\n",
       "    <tr>\n",
       "      <th>mean</th>\n",
       "      <td>4.191757</td>\n",
       "      <td>4.441529e+05</td>\n",
       "      <td>18587.426282</td>\n",
       "      <td>1.546434e+07</td>\n",
       "      <td>1.027368</td>\n",
       "    </tr>\n",
       "    <tr>\n",
       "      <th>std</th>\n",
       "      <td>0.515219</td>\n",
       "      <td>2.927761e+06</td>\n",
       "      <td>22702.948783</td>\n",
       "      <td>8.502936e+07</td>\n",
       "      <td>15.949703</td>\n",
       "    </tr>\n",
       "    <tr>\n",
       "      <th>min</th>\n",
       "      <td>1.000000</td>\n",
       "      <td>0.000000e+00</td>\n",
       "      <td>0.000000</td>\n",
       "      <td>0.000000e+00</td>\n",
       "      <td>0.000000</td>\n",
       "    </tr>\n",
       "    <tr>\n",
       "      <th>25%</th>\n",
       "      <td>4.000000</td>\n",
       "      <td>3.800000e+01</td>\n",
       "      <td>2662.400000</td>\n",
       "      <td>1.000000e+03</td>\n",
       "      <td>0.000000</td>\n",
       "    </tr>\n",
       "    <tr>\n",
       "      <th>50%</th>\n",
       "      <td>4.300000</td>\n",
       "      <td>2.094000e+03</td>\n",
       "      <td>9420.800000</td>\n",
       "      <td>1.000000e+05</td>\n",
       "      <td>0.000000</td>\n",
       "    </tr>\n",
       "    <tr>\n",
       "      <th>75%</th>\n",
       "      <td>4.500000</td>\n",
       "      <td>5.477550e+04</td>\n",
       "      <td>26624.000000</td>\n",
       "      <td>5.000000e+06</td>\n",
       "      <td>0.000000</td>\n",
       "    </tr>\n",
       "    <tr>\n",
       "      <th>max</th>\n",
       "      <td>5.000000</td>\n",
       "      <td>7.815831e+07</td>\n",
       "      <td>102400.000000</td>\n",
       "      <td>1.000000e+09</td>\n",
       "      <td>400.000000</td>\n",
       "    </tr>\n",
       "  </tbody>\n",
       "</table>\n",
       "</div>"
      ],
      "text/plain": [
       "            Rating       Reviews           Size      Installs         Price\n",
       "count  9366.000000  1.084000e+04   10840.000000  1.084000e+04  10840.000000\n",
       "mean      4.191757  4.441529e+05   18587.426282  1.546434e+07      1.027368\n",
       "std       0.515219  2.927761e+06   22702.948783  8.502936e+07     15.949703\n",
       "min       1.000000  0.000000e+00       0.000000  0.000000e+00      0.000000\n",
       "25%       4.000000  3.800000e+01    2662.400000  1.000000e+03      0.000000\n",
       "50%       4.300000  2.094000e+03    9420.800000  1.000000e+05      0.000000\n",
       "75%       4.500000  5.477550e+04   26624.000000  5.000000e+06      0.000000\n",
       "max       5.000000  7.815831e+07  102400.000000  1.000000e+09    400.000000"
      ]
     },
     "execution_count": 16,
     "metadata": {},
     "output_type": "execute_result"
    }
   ],
   "source": [
    "num_col_df = df.select_dtypes(exclude= 'object')\n",
    "num_col_df.describe()"
   ]
  },
  {
   "cell_type": "markdown",
   "metadata": {
    "slideshow": {
     "slide_type": "fragment"
    }
   },
   "source": [
    "`Nhận xét`: Không nhận thấy giá trị bất hợp lệ qua bảng thống kê mô tả."
   ]
  },
  {
   "cell_type": "markdown",
   "metadata": {
    "slideshow": {
     "slide_type": "subslide"
    }
   },
   "source": [
    "- Sự phân bố các cột numeric"
   ]
  },
  {
   "cell_type": "code",
   "execution_count": 17,
   "metadata": {
    "scrolled": false,
    "slideshow": {
     "slide_type": "fragment"
    }
   },
   "outputs": [
    {
     "name": "stderr",
     "output_type": "stream",
     "text": [
      "<ipython-input-17-2f9b1b529246>:3: UserWarning: To output multiple subplots, the figure containing the passed axes is being cleared\n",
      "  df[df.describe().columns].hist(ax = ax)\n"
     ]
    },
    {
     "data": {
      "image/png": "[encoded data removed]",
      "text/plain": [
       "<Figure size 1440x1080 with 6 Axes>"
      ]
     },
     "metadata": {
      "needs_background": "light"
     },
     "output_type": "display_data"
    }
   ],
   "source": [
    "fig = plt.figure(figsize = (20,15))\n",
    "ax = fig.gca()\n",
    "df[df.describe().columns].hist(ax = ax)\n",
    "plt.show()"
   ]
  },
  {
   "cell_type": "markdown",
   "metadata": {
    "slideshow": {
     "slide_type": "subslide"
    }
   },
   "source": [
    "`Nhận xét`:\n",
    "- Với `Rating` dữ liệu được phân bố rải rác đều hơn, với mức khoảng 4.5 là nhiều nhất.\n",
    "- Cột `Size` thì thể hiện số lượng ứng dụng dung lượng nhỏ nhiều và giảm dần khi dung lượng tăng.\n",
    "- Các cột còn lại do mốc phân chia lớn hơn, ta thấy các giá trị ở mức nhỏ là phổ biến, chỉ có vài giá trị ở mức cao hoặc rất cao (có thể là những ứng dụng nổi trội)."
   ]
  },
  {
   "cell_type": "markdown",
   "metadata": {
    "slideshow": {
     "slide_type": "subslide"
    }
   },
   "source": [
    "- Chuyển cột Last Updated sang kiểu datetime"
   ]
  },
  {
   "cell_type": "code",
   "execution_count": 18,
   "metadata": {
    "slideshow": {
     "slide_type": "fragment"
    }
   },
   "outputs": [],
   "source": [
    "df[\"Last Updated\"] = pd.to_datetime(df[\"Last Updated\"], format = '%d-%b-%y', errors='coerce')"
   ]
  },
  {
   "cell_type": "markdown",
   "metadata": {
    "slideshow": {
     "slide_type": "subslide"
    }
   },
   "source": [
    "- Với mỗi cột dữ liệu dạng phân loại (categorical), các giá trị được phân bố như thế nào?"
   ]
  },
  {
   "cell_type": "code",
   "execution_count": 19,
   "metadata": {
    "slideshow": {
     "slide_type": "fragment"
    }
   },
   "outputs": [
    {
     "data": {
      "text/html": [
       "<div>\n",
       "<style scoped>\n",
       "    .dataframe tbody tr th:only-of-type {\n",
       "        vertical-align: middle;\n",
       "    }\n",
       "\n",
       "    .dataframe tbody tr th {\n",
       "        vertical-align: top;\n",
       "    }\n",
       "\n",
       "    .dataframe thead th {\n",
       "        text-align: right;\n",
       "    }\n",
       "</style>\n",
       "<table border=\"1\" class=\"dataframe\">\n",
       "  <thead>\n",
       "    <tr style=\"text-align: right;\">\n",
       "      <th></th>\n",
       "      <th>App</th>\n",
       "      <th>Category</th>\n",
       "      <th>Type</th>\n",
       "      <th>Content Rating</th>\n",
       "      <th>Genres</th>\n",
       "      <th>Current Ver</th>\n",
       "      <th>Android Ver</th>\n",
       "    </tr>\n",
       "  </thead>\n",
       "  <tbody>\n",
       "    <tr>\n",
       "      <th>count</th>\n",
       "      <td>10840</td>\n",
       "      <td>10840</td>\n",
       "      <td>10840</td>\n",
       "      <td>10840</td>\n",
       "      <td>10840</td>\n",
       "      <td>10832</td>\n",
       "      <td>10838</td>\n",
       "    </tr>\n",
       "    <tr>\n",
       "      <th>unique</th>\n",
       "      <td>9659</td>\n",
       "      <td>33</td>\n",
       "      <td>2</td>\n",
       "      <td>6</td>\n",
       "      <td>119</td>\n",
       "      <td>2783</td>\n",
       "      <td>33</td>\n",
       "    </tr>\n",
       "    <tr>\n",
       "      <th>top</th>\n",
       "      <td>ROBLOX</td>\n",
       "      <td>FAMILY</td>\n",
       "      <td>Free</td>\n",
       "      <td>Everyone</td>\n",
       "      <td>Tools</td>\n",
       "      <td>Varies with device</td>\n",
       "      <td>4.1 and up</td>\n",
       "    </tr>\n",
       "    <tr>\n",
       "      <th>freq</th>\n",
       "      <td>9</td>\n",
       "      <td>1972</td>\n",
       "      <td>10040</td>\n",
       "      <td>8714</td>\n",
       "      <td>842</td>\n",
       "      <td>1459</td>\n",
       "      <td>2451</td>\n",
       "    </tr>\n",
       "  </tbody>\n",
       "</table>\n",
       "</div>"
      ],
      "text/plain": [
       "           App Category   Type Content Rating Genres         Current Ver  \\\n",
       "count    10840    10840  10840          10840  10840               10832   \n",
       "unique    9659       33      2              6    119                2783   \n",
       "top     ROBLOX   FAMILY   Free       Everyone  Tools  Varies with device   \n",
       "freq         9     1972  10040           8714    842                1459   \n",
       "\n",
       "       Android Ver  \n",
       "count        10838  \n",
       "unique          33  \n",
       "top     4.1 and up  \n",
       "freq          2451  "
      ]
     },
     "execution_count": 19,
     "metadata": {},
     "output_type": "execute_result"
    }
   ],
   "source": [
    "cate_col_df = df.select_dtypes(include= 'object')\n",
    "cate_col_df.describe()"
   ]
  },
  {
   "cell_type": "markdown",
   "metadata": {
    "slideshow": {
     "slide_type": "fragment"
    }
   },
   "source": [
    "`Nhận xét`: Dữ liệu đa dạng (Nhiều App, ít trùng; Nhiều thể loại khác nhau) và có vẻ không có gì bất thường. Do đó ta tiến hành các bước tiếp theo."
   ]
  },
  {
   "cell_type": "markdown",
   "metadata": {
    "slideshow": {
     "slide_type": "skip"
    }
   },
   "source": [
    "---"
   ]
  },
  {
   "cell_type": "markdown",
   "metadata": {
    "slideshow": {
     "slide_type": "slide"
    }
   },
   "source": [
    "# Các câu hỏi từ dữ liệu"
   ]
  },
  {
   "cell_type": "markdown",
   "metadata": {
    "slideshow": {
     "slide_type": "subslide"
    }
   },
   "source": [
    "## Xây dựng ứng dụng về thể loại nào là tốt?"
   ]
  },
  {
   "cell_type": "markdown",
   "metadata": {
    "slideshow": {
     "slide_type": "fragment"
    }
   },
   "source": [
    "- Các bước phân tích:\n",
    "    + Tìm hiểu các ứng dụng hiện có trên Google Play Store theo thể loại nào là nhiều? Đếm số lượng ứng dụng ứng với từng thể loại sau đó vẽ biểu đồ để trực quan.\n",
    "    + Lượng cài đặt ứng với từng thể loại là bao nhiêu? Tính trung bình lượng cài đặt của từng thể loại.\n",
    "    + Top 5 thể loại được cài đặt nhiều qua từng năm? Tính lượng cài đặt ứng với từng thể loại qua từng năm sau đó sắp xếp và lấy top 5 thể loại được cài đặt nhiều nhất.\n",
    "    + Top 5 ứng dụng được cài đặt nhiều ứng với từng thể loại? Tính lượng cài đặt từng ứng dụng ứng với từng thể loại sau đó sắp xếp và lấy top 5 ứng dụng được cài đặt nhiều nhất.\n",
    "    + Từng thể loại hướng tới đối tượng nào là chính? Với từng thể loại thì hướng tới đối tượng này có bao nhiêu ứng dụng, sau đó đem chia cho tổng để tính phần trăm cho dễ dàng so sánh.\n",
    "- Ý nghĩa của câu hỏi:\n",
    "    + Biết được thể loại nào đang `hot` (cài đặt và ra nhiều ứng dụng) trên Google Play Store.\n",
    "    + Với thể loại đó thì nên tập trung vào đối tượng nào là tốt nhất?\n",
    "    + Ngoài ra chúng ta còn biết được ứng với từng thể loại thì nếu xây dựng ứng dụng liên quan đến thể loại đó thì có thể cạnh tranh được với các ứng dụng Top cài đặt của thể loại đó hay không?"
   ]
  },
  {
   "cell_type": "markdown",
   "metadata": {
    "slideshow": {
     "slide_type": "subslide"
    }
   },
   "source": [
    "- Các ứng dụng hiện có trên Google Play Store theo thể loại nào là nhiều?"
   ]
  },
  {
   "cell_type": "code",
   "execution_count": 20,
   "metadata": {
    "slideshow": {
     "slide_type": "fragment"
    }
   },
   "outputs": [
    {
     "data": {
      "text/plain": [
       "<BarContainer object of 33 artists>"
      ]
     },
     "execution_count": 20,
     "metadata": {},
     "output_type": "execute_result"
    },
    {
     "data": {
      "image/png": "[encoded data removed]",
      "text/plain": [
       "<Figure size 1080x720 with 1 Axes>"
      ]
     },
     "metadata": {
      "needs_background": "light"
     },
     "output_type": "display_data"
    }
   ],
   "source": [
    "plt.figure(figsize=(15,10))\n",
    "temp_df = df['Category'].value_counts()\n",
    "temp_df = temp_df.sort_values(ascending = True)\n",
    "plt.barh(temp_df.index, temp_df)"
   ]
  },
  {
   "cell_type": "markdown",
   "metadata": {
    "slideshow": {
     "slide_type": "skip"
    }
   },
   "source": [
    "`Nhận xét`:\n",
    "- Các thể loại đa dạng, số lượng lớn.\n",
    "- Có ba thể loại nổi trội nhất là Family, Game, Tools. Có vẻ như nhu cầu về những thể loại này là nhiều hơn hoặc là những thể loại này dễ tiếp cận hơn cả với người tạo ra ứng dụng lẫn người dùng. Ta sẽ đi xem xét kĩ hơn."
   ]
  },
  {
   "cell_type": "markdown",
   "metadata": {
    "slideshow": {
     "slide_type": "subslide"
    }
   },
   "source": [
    "- Lượng cài đặt ứng dụng với từng thể loại là bao nhiêu?"
   ]
  },
  {
   "cell_type": "code",
   "execution_count": 21,
   "metadata": {
    "scrolled": false,
    "slideshow": {
     "slide_type": "fragment"
    }
   },
   "outputs": [
    {
     "data": {
      "text/plain": [
       "<BarContainer object of 33 artists>"
      ]
     },
     "execution_count": 21,
     "metadata": {},
     "output_type": "execute_result"
    },
    {
     "data": {
      "image/png": "[encoded data removed]",
      "text/plain": [
       "<Figure size 1080x720 with 1 Axes>"
      ]
     },
     "metadata": {
      "needs_background": "light"
     },
     "output_type": "display_data"
    }
   ],
   "source": [
    "plt.figure(figsize=(15,10))\n",
    "temp_df = df.groupby(\"Category\")[\"Installs\"].mean()\n",
    "temp_df = temp_df.sort_values(ascending = True)\n",
    "plt.barh(temp_df.index, temp_df)"
   ]
  },
  {
   "cell_type": "markdown",
   "metadata": {
    "slideshow": {
     "slide_type": "skip"
    }
   },
   "source": [
    "`Nhận xét`:\n",
    "- Với góc nhìn này thì ta lại thấy một mặt khác của dữ liệu, rằng những ứng dụng được cài đặt nhiều lại rơi vào các thể loại như COMMUNICATION hay SOCIAL.\n",
    "- Điều này cũng dễ hiểu vì các ứng dụng mạng xã hội (Facebook, Zalo, Instagram, Tiktok, Twitter, ...) hay liên lạc (Messenger, Zalo, Skype, ...) luôn được ưa chuộng nhất trong việc trò chuyện, chia sẻ thông tin hay thậm chí trong công việc."
   ]
  },
  {
   "cell_type": "markdown",
   "metadata": {
    "slideshow": {
     "slide_type": "subslide"
    }
   },
   "source": [
    "- Lấy top 5 `Category` được cài đặt nhiều mỗi năm"
   ]
  },
  {
   "cell_type": "code",
   "execution_count": 22,
   "metadata": {
    "slideshow": {
     "slide_type": "fragment"
    }
   },
   "outputs": [
    {
     "data": {
      "text/html": [
       "<div>\n",
       "<style scoped>\n",
       "    .dataframe tbody tr th:only-of-type {\n",
       "        vertical-align: middle;\n",
       "    }\n",
       "\n",
       "    .dataframe tbody tr th {\n",
       "        vertical-align: top;\n",
       "    }\n",
       "\n",
       "    .dataframe thead th {\n",
       "        text-align: right;\n",
       "    }\n",
       "</style>\n",
       "<table border=\"1\" class=\"dataframe\">\n",
       "  <thead>\n",
       "    <tr style=\"text-align: right;\">\n",
       "      <th>Year</th>\n",
       "      <th>2010</th>\n",
       "      <th>2011</th>\n",
       "      <th>2012</th>\n",
       "      <th>2013</th>\n",
       "      <th>2014</th>\n",
       "      <th>2015</th>\n",
       "      <th>2016</th>\n",
       "      <th>2017</th>\n",
       "      <th>2018</th>\n",
       "    </tr>\n",
       "    <tr>\n",
       "      <th>Top</th>\n",
       "      <th></th>\n",
       "      <th></th>\n",
       "      <th></th>\n",
       "      <th></th>\n",
       "      <th></th>\n",
       "      <th></th>\n",
       "      <th></th>\n",
       "      <th></th>\n",
       "      <th></th>\n",
       "    </tr>\n",
       "  </thead>\n",
       "  <tbody>\n",
       "    <tr>\n",
       "      <th>1</th>\n",
       "      <td>FAMILY</td>\n",
       "      <td>TOOLS</td>\n",
       "      <td>LIBRARIES_AND_DEMO</td>\n",
       "      <td>FAMILY</td>\n",
       "      <td>FAMILY</td>\n",
       "      <td>GAME</td>\n",
       "      <td>VIDEO_PLAYERS</td>\n",
       "      <td>PHOTOGRAPHY</td>\n",
       "      <td>NEWS_AND_MAGAZINES</td>\n",
       "    </tr>\n",
       "    <tr>\n",
       "      <th>2</th>\n",
       "      <td>NaN</td>\n",
       "      <td>GAME</td>\n",
       "      <td>GAME</td>\n",
       "      <td>GAME</td>\n",
       "      <td>PERSONALIZATION</td>\n",
       "      <td>BOOKS_AND_REFERENCE</td>\n",
       "      <td>GAME</td>\n",
       "      <td>GAME</td>\n",
       "      <td>FAMILY</td>\n",
       "    </tr>\n",
       "    <tr>\n",
       "      <th>3</th>\n",
       "      <td>NaN</td>\n",
       "      <td>LIBRARIES_AND_DEMO</td>\n",
       "      <td>HEALTH_AND_FITNESS</td>\n",
       "      <td>LIBRARIES_AND_DEMO</td>\n",
       "      <td>TOOLS</td>\n",
       "      <td>PHOTOGRAPHY</td>\n",
       "      <td>TOOLS</td>\n",
       "      <td>TOOLS</td>\n",
       "      <td>VIDEO_PLAYERS</td>\n",
       "    </tr>\n",
       "    <tr>\n",
       "      <th>4</th>\n",
       "      <td>NaN</td>\n",
       "      <td>BOOKS_AND_REFERENCE</td>\n",
       "      <td>FAMILY</td>\n",
       "      <td>PRODUCTIVITY</td>\n",
       "      <td>GAME</td>\n",
       "      <td>VIDEO_PLAYERS</td>\n",
       "      <td>PRODUCTIVITY</td>\n",
       "      <td>FAMILY</td>\n",
       "      <td>PHOTOGRAPHY</td>\n",
       "    </tr>\n",
       "    <tr>\n",
       "      <th>5</th>\n",
       "      <td>NaN</td>\n",
       "      <td>LIFESTYLE</td>\n",
       "      <td>PHOTOGRAPHY</td>\n",
       "      <td>SPORTS</td>\n",
       "      <td>COMMUNICATION</td>\n",
       "      <td>FAMILY</td>\n",
       "      <td>FAMILY</td>\n",
       "      <td>SPORTS</td>\n",
       "      <td>PRODUCTIVITY</td>\n",
       "    </tr>\n",
       "  </tbody>\n",
       "</table>\n",
       "</div>"
      ],
      "text/plain": [
       "Year    2010                 2011                2012                2013  \\\n",
       "Top                                                                         \n",
       "1     FAMILY                TOOLS  LIBRARIES_AND_DEMO              FAMILY   \n",
       "2        NaN                 GAME                GAME                GAME   \n",
       "3        NaN   LIBRARIES_AND_DEMO  HEALTH_AND_FITNESS  LIBRARIES_AND_DEMO   \n",
       "4        NaN  BOOKS_AND_REFERENCE              FAMILY        PRODUCTIVITY   \n",
       "5        NaN            LIFESTYLE         PHOTOGRAPHY              SPORTS   \n",
       "\n",
       "Year             2014                 2015           2016         2017  \\\n",
       "Top                                                                      \n",
       "1              FAMILY                 GAME  VIDEO_PLAYERS  PHOTOGRAPHY   \n",
       "2     PERSONALIZATION  BOOKS_AND_REFERENCE           GAME         GAME   \n",
       "3               TOOLS          PHOTOGRAPHY          TOOLS        TOOLS   \n",
       "4                GAME        VIDEO_PLAYERS   PRODUCTIVITY       FAMILY   \n",
       "5       COMMUNICATION               FAMILY         FAMILY       SPORTS   \n",
       "\n",
       "Year                2018  \n",
       "Top                       \n",
       "1     NEWS_AND_MAGAZINES  \n",
       "2                 FAMILY  \n",
       "3          VIDEO_PLAYERS  \n",
       "4            PHOTOGRAPHY  \n",
       "5           PRODUCTIVITY  "
      ]
     },
     "execution_count": 22,
     "metadata": {},
     "output_type": "execute_result"
    }
   ],
   "source": [
    "year_df = df.copy()\n",
    "year_df[\"Year\"] = df[\"Last Updated\"].dt.year\n",
    "###\n",
    "g = year_df.groupby(\"Year\")\n",
    "res = g.apply(lambda x: x.reset_index().sort_values(by = \"Installs\", ascending=False).drop_duplicates(subset=\"Category\").head(5)[\"Category\"])\n",
    "top5_category_year_df = pd.DataFrame(res)\n",
    "top5_category_year_df = top5_category_year_df.reset_index().drop(\"level_1\", axis=1)\n",
    "top5_category_year_df.index = np.concatenate([[1],np.arange(0, 40)%5 + 1])\n",
    "top5_category_year_df = top5_category_year_df.reset_index().rename(columns={'index': 'Top'})\n",
    "top5_category_year_df = top5_category_year_df.pivot(index='Top', columns='Year', values='Category')\n",
    "top5_category_year_df"
   ]
  },
  {
   "cell_type": "markdown",
   "metadata": {
    "slideshow": {
     "slide_type": "subslide"
    }
   },
   "source": [
    "- Lấy top 5 `App` được cài đặt nhiều ứng với 6 `Category` có lượng cài đặt nhiều"
   ]
  },
  {
   "cell_type": "code",
   "execution_count": 23,
   "metadata": {
    "scrolled": false,
    "slideshow": {
     "slide_type": "fragment"
    }
   },
   "outputs": [
    {
     "data": {
      "text/html": [
       "<div>\n",
       "<style scoped>\n",
       "    .dataframe tbody tr th:only-of-type {\n",
       "        vertical-align: middle;\n",
       "    }\n",
       "\n",
       "    .dataframe tbody tr th {\n",
       "        vertical-align: top;\n",
       "    }\n",
       "\n",
       "    .dataframe thead th {\n",
       "        text-align: right;\n",
       "    }\n",
       "</style>\n",
       "<table border=\"1\" class=\"dataframe\">\n",
       "  <thead>\n",
       "    <tr style=\"text-align: right;\">\n",
       "      <th>Category</th>\n",
       "      <th>COMMUNICATION</th>\n",
       "      <th>SOCIAL</th>\n",
       "      <th>VIDEO_PLAYERS</th>\n",
       "      <th>PRODUCTIVITY</th>\n",
       "      <th>GAME</th>\n",
       "      <th>PHOTOGRAPHY</th>\n",
       "    </tr>\n",
       "    <tr>\n",
       "      <th>Top</th>\n",
       "      <th></th>\n",
       "      <th></th>\n",
       "      <th></th>\n",
       "      <th></th>\n",
       "      <th></th>\n",
       "      <th></th>\n",
       "    </tr>\n",
       "  </thead>\n",
       "  <tbody>\n",
       "    <tr>\n",
       "      <th>1</th>\n",
       "      <td>Messenger – Text and Video Chat for Free</td>\n",
       "      <td>Facebook</td>\n",
       "      <td>YouTube</td>\n",
       "      <td>Google Drive</td>\n",
       "      <td>Subway Surfers</td>\n",
       "      <td>Google Photos</td>\n",
       "    </tr>\n",
       "    <tr>\n",
       "      <th>2</th>\n",
       "      <td>Skype - free IM &amp; video calls</td>\n",
       "      <td>Google+</td>\n",
       "      <td>Google Play Movies &amp; TV</td>\n",
       "      <td>Microsoft Word</td>\n",
       "      <td>Temple Run 2</td>\n",
       "      <td>Z Camera - Photo Editor, Beauty Selfie, Collage</td>\n",
       "    </tr>\n",
       "    <tr>\n",
       "      <th>3</th>\n",
       "      <td>Google Chrome: Fast &amp; Secure</td>\n",
       "      <td>Instagram</td>\n",
       "      <td>MX Player</td>\n",
       "      <td>Google Calendar</td>\n",
       "      <td>Candy Crush Saga</td>\n",
       "      <td>YouCam Perfect - Selfie Photo Editor</td>\n",
       "    </tr>\n",
       "    <tr>\n",
       "      <th>4</th>\n",
       "      <td>Hangouts</td>\n",
       "      <td>Snapchat</td>\n",
       "      <td>VideoShow-Video Editor, Video Maker, Beauty Ca...</td>\n",
       "      <td>Dropbox</td>\n",
       "      <td>Pou</td>\n",
       "      <td>BeautyPlus - Easy Photo Editor &amp; Selfie Camera</td>\n",
       "    </tr>\n",
       "    <tr>\n",
       "      <th>5</th>\n",
       "      <td>WhatsApp Messenger</td>\n",
       "      <td>Facebook Lite</td>\n",
       "      <td>VivaVideo - Video Editor &amp; Photo Movie</td>\n",
       "      <td>Cloud Print</td>\n",
       "      <td>My Talking Tom</td>\n",
       "      <td>YouCam Makeup - Magic Selfie Makeovers</td>\n",
       "    </tr>\n",
       "  </tbody>\n",
       "</table>\n",
       "</div>"
      ],
      "text/plain": [
       "Category                             COMMUNICATION         SOCIAL  \\\n",
       "Top                                                                 \n",
       "1         Messenger – Text and Video Chat for Free       Facebook   \n",
       "2                    Skype - free IM & video calls        Google+   \n",
       "3                     Google Chrome: Fast & Secure      Instagram   \n",
       "4                                         Hangouts       Snapchat   \n",
       "5                               WhatsApp Messenger  Facebook Lite   \n",
       "\n",
       "Category                                      VIDEO_PLAYERS     PRODUCTIVITY  \\\n",
       "Top                                                                            \n",
       "1                                                   YouTube     Google Drive   \n",
       "2                                   Google Play Movies & TV   Microsoft Word   \n",
       "3                                                 MX Player  Google Calendar   \n",
       "4         VideoShow-Video Editor, Video Maker, Beauty Ca...          Dropbox   \n",
       "5                    VivaVideo - Video Editor & Photo Movie      Cloud Print   \n",
       "\n",
       "Category              GAME                                      PHOTOGRAPHY  \n",
       "Top                                                                          \n",
       "1           Subway Surfers                                    Google Photos  \n",
       "2             Temple Run 2  Z Camera - Photo Editor, Beauty Selfie, Collage  \n",
       "3         Candy Crush Saga             YouCam Perfect - Selfie Photo Editor  \n",
       "4                      Pou   BeautyPlus - Easy Photo Editor & Selfie Camera  \n",
       "5           My Talking Tom           YouCam Makeup - Magic Selfie Makeovers  "
      ]
     },
     "execution_count": 23,
     "metadata": {},
     "output_type": "execute_result"
    }
   ],
   "source": [
    "g = df.groupby(\"Category\")\n",
    "res = g.apply(lambda x: x.reset_index().sort_values(by = \"Installs\", ascending=False).drop_duplicates(subset=\"App\").head(5)[\"App\"])\n",
    "top5_app_category_df = pd.DataFrame(res)\n",
    "top5_app_category_df = top5_app_category_df.reset_index().drop(\"level_1\", axis=1)\n",
    "top5_app_category_df.index = np.arange(0, 165)%5 + 1\n",
    "top5_app_category_df = top5_app_category_df.reset_index().rename(columns={'index': 'Top'})\n",
    "top5_app_category_df = top5_app_category_df.pivot(index='Top', columns='Category', values='App')\n",
    "top5_app_category_df[[\"COMMUNICATION\", \"SOCIAL\", \"VIDEO_PLAYERS\", \"PRODUCTIVITY\", \"GAME\", \"PHOTOGRAPHY\"]]"
   ]
  },
  {
   "cell_type": "markdown",
   "metadata": {
    "slideshow": {
     "slide_type": "subslide"
    }
   },
   "source": [
    "- Trong thể loại `GAME`"
   ]
  },
  {
   "cell_type": "code",
   "execution_count": 24,
   "metadata": {
    "scrolled": false,
    "slideshow": {
     "slide_type": "fragment"
    }
   },
   "outputs": [
    {
     "data": {
      "text/plain": [
       "<BarContainer object of 21 artists>"
      ]
     },
     "execution_count": 24,
     "metadata": {},
     "output_type": "execute_result"
    },
    {
     "data": {
      "image/png": "[encoded data removed]",
      "text/plain": [
       "<Figure size 1080x720 with 1 Axes>"
      ]
     },
     "metadata": {
      "needs_background": "light"
     },
     "output_type": "display_data"
    }
   ],
   "source": [
    "cate_game_sr = df[df[\"Category\"] ==\"GAME\"][\"Genres\"]\n",
    "cate_game_sr = cate_game_sr.map(lambda x: x.split(\";\"))\n",
    "cate_game_sr = cate_game_sr.explode(\"Genres\")\n",
    "plt.figure(figsize=(15,10))\n",
    "temp_df = cate_game_sr.value_counts()\n",
    "temp_df = temp_df.sort_values(ascending = True)\n",
    "plt.barh(temp_df.index, temp_df)"
   ]
  },
  {
   "cell_type": "markdown",
   "metadata": {
    "slideshow": {
     "slide_type": "subslide"
    }
   },
   "source": [
    "`Nhận xét`: Thể loại game cũng rất đa dạng gồm nhiều kiểu game khác nhau mà phổ biến nhất ở đây là hành động (Action) hay giải trí (Arcade)..."
   ]
  },
  {
   "cell_type": "markdown",
   "metadata": {
    "slideshow": {
     "slide_type": "subslide"
    }
   },
   "source": [
    "- Các thể loại hướng tới lứa tuổi nào?"
   ]
  },
  {
   "cell_type": "code",
   "execution_count": 25,
   "metadata": {
    "slideshow": {
     "slide_type": "fragment"
    }
   },
   "outputs": [
    {
     "data": {
      "text/html": [
       "<div>\n",
       "<style scoped>\n",
       "    .dataframe tbody tr th:only-of-type {\n",
       "        vertical-align: middle;\n",
       "    }\n",
       "\n",
       "    .dataframe tbody tr th {\n",
       "        vertical-align: top;\n",
       "    }\n",
       "\n",
       "    .dataframe thead th {\n",
       "        text-align: right;\n",
       "    }\n",
       "</style>\n",
       "<table border=\"1\" class=\"dataframe\">\n",
       "  <thead>\n",
       "    <tr style=\"text-align: right;\">\n",
       "      <th>Content Rating</th>\n",
       "      <th>Adults only 18+</th>\n",
       "      <th>Everyone</th>\n",
       "      <th>Everyone 10+</th>\n",
       "      <th>Mature 17+</th>\n",
       "      <th>Teen</th>\n",
       "      <th>Unrated</th>\n",
       "    </tr>\n",
       "    <tr>\n",
       "      <th>Category</th>\n",
       "      <th></th>\n",
       "      <th></th>\n",
       "      <th></th>\n",
       "      <th></th>\n",
       "      <th></th>\n",
       "      <th></th>\n",
       "    </tr>\n",
       "  </thead>\n",
       "  <tbody>\n",
       "    <tr>\n",
       "      <th>ART_AND_DESIGN</th>\n",
       "      <td>NaN</td>\n",
       "      <td>0.938462</td>\n",
       "      <td>0.015385</td>\n",
       "      <td>NaN</td>\n",
       "      <td>0.046154</td>\n",
       "      <td>NaN</td>\n",
       "    </tr>\n",
       "    <tr>\n",
       "      <th>AUTO_AND_VEHICLES</th>\n",
       "      <td>NaN</td>\n",
       "      <td>0.976471</td>\n",
       "      <td>0.011765</td>\n",
       "      <td>NaN</td>\n",
       "      <td>0.011765</td>\n",
       "      <td>NaN</td>\n",
       "    </tr>\n",
       "    <tr>\n",
       "      <th>BEAUTY</th>\n",
       "      <td>NaN</td>\n",
       "      <td>0.849057</td>\n",
       "      <td>0.037736</td>\n",
       "      <td>0.056604</td>\n",
       "      <td>0.056604</td>\n",
       "      <td>NaN</td>\n",
       "    </tr>\n",
       "    <tr>\n",
       "      <th>BOOKS_AND_REFERENCE</th>\n",
       "      <td>NaN</td>\n",
       "      <td>0.874459</td>\n",
       "      <td>0.021645</td>\n",
       "      <td>0.012987</td>\n",
       "      <td>0.090909</td>\n",
       "      <td>NaN</td>\n",
       "    </tr>\n",
       "    <tr>\n",
       "      <th>BUSINESS</th>\n",
       "      <td>NaN</td>\n",
       "      <td>0.967391</td>\n",
       "      <td>0.002174</td>\n",
       "      <td>0.002174</td>\n",
       "      <td>0.028261</td>\n",
       "      <td>NaN</td>\n",
       "    </tr>\n",
       "    <tr>\n",
       "      <th>COMICS</th>\n",
       "      <td>0.033333</td>\n",
       "      <td>0.433333</td>\n",
       "      <td>0.050000</td>\n",
       "      <td>0.116667</td>\n",
       "      <td>0.366667</td>\n",
       "      <td>NaN</td>\n",
       "    </tr>\n",
       "    <tr>\n",
       "      <th>COMMUNICATION</th>\n",
       "      <td>NaN</td>\n",
       "      <td>0.891473</td>\n",
       "      <td>NaN</td>\n",
       "      <td>0.025840</td>\n",
       "      <td>0.082687</td>\n",
       "      <td>NaN</td>\n",
       "    </tr>\n",
       "    <tr>\n",
       "      <th>DATING</th>\n",
       "      <td>NaN</td>\n",
       "      <td>0.089744</td>\n",
       "      <td>NaN</td>\n",
       "      <td>0.858974</td>\n",
       "      <td>0.051282</td>\n",
       "      <td>NaN</td>\n",
       "    </tr>\n",
       "    <tr>\n",
       "      <th>EDUCATION</th>\n",
       "      <td>NaN</td>\n",
       "      <td>0.923077</td>\n",
       "      <td>0.051282</td>\n",
       "      <td>0.019231</td>\n",
       "      <td>0.006410</td>\n",
       "      <td>NaN</td>\n",
       "    </tr>\n",
       "    <tr>\n",
       "      <th>ENTERTAINMENT</th>\n",
       "      <td>NaN</td>\n",
       "      <td>0.261745</td>\n",
       "      <td>0.033557</td>\n",
       "      <td>0.060403</td>\n",
       "      <td>0.644295</td>\n",
       "      <td>NaN</td>\n",
       "    </tr>\n",
       "    <tr>\n",
       "      <th>EVENTS</th>\n",
       "      <td>NaN</td>\n",
       "      <td>0.828125</td>\n",
       "      <td>0.046875</td>\n",
       "      <td>NaN</td>\n",
       "      <td>0.125000</td>\n",
       "      <td>NaN</td>\n",
       "    </tr>\n",
       "    <tr>\n",
       "      <th>FAMILY</th>\n",
       "      <td>NaN</td>\n",
       "      <td>0.775355</td>\n",
       "      <td>0.066430</td>\n",
       "      <td>0.025355</td>\n",
       "      <td>0.132353</td>\n",
       "      <td>0.000507</td>\n",
       "    </tr>\n",
       "    <tr>\n",
       "      <th>FINANCE</th>\n",
       "      <td>NaN</td>\n",
       "      <td>0.986339</td>\n",
       "      <td>NaN</td>\n",
       "      <td>NaN</td>\n",
       "      <td>0.013661</td>\n",
       "      <td>NaN</td>\n",
       "    </tr>\n",
       "    <tr>\n",
       "      <th>FOOD_AND_DRINK</th>\n",
       "      <td>NaN</td>\n",
       "      <td>0.921260</td>\n",
       "      <td>0.015748</td>\n",
       "      <td>NaN</td>\n",
       "      <td>0.062992</td>\n",
       "      <td>NaN</td>\n",
       "    </tr>\n",
       "    <tr>\n",
       "      <th>GAME</th>\n",
       "      <td>NaN</td>\n",
       "      <td>0.531469</td>\n",
       "      <td>0.114510</td>\n",
       "      <td>0.064685</td>\n",
       "      <td>0.289336</td>\n",
       "      <td>NaN</td>\n",
       "    </tr>\n",
       "    <tr>\n",
       "      <th>HEALTH_AND_FITNESS</th>\n",
       "      <td>NaN</td>\n",
       "      <td>0.900293</td>\n",
       "      <td>0.020528</td>\n",
       "      <td>0.020528</td>\n",
       "      <td>0.058651</td>\n",
       "      <td>NaN</td>\n",
       "    </tr>\n",
       "    <tr>\n",
       "      <th>HOUSE_AND_HOME</th>\n",
       "      <td>NaN</td>\n",
       "      <td>0.977273</td>\n",
       "      <td>NaN</td>\n",
       "      <td>NaN</td>\n",
       "      <td>0.022727</td>\n",
       "      <td>NaN</td>\n",
       "    </tr>\n",
       "    <tr>\n",
       "      <th>LIBRARIES_AND_DEMO</th>\n",
       "      <td>NaN</td>\n",
       "      <td>1.000000</td>\n",
       "      <td>NaN</td>\n",
       "      <td>NaN</td>\n",
       "      <td>NaN</td>\n",
       "      <td>NaN</td>\n",
       "    </tr>\n",
       "    <tr>\n",
       "      <th>LIFESTYLE</th>\n",
       "      <td>NaN</td>\n",
       "      <td>0.903141</td>\n",
       "      <td>0.013089</td>\n",
       "      <td>0.023560</td>\n",
       "      <td>0.060209</td>\n",
       "      <td>NaN</td>\n",
       "    </tr>\n",
       "    <tr>\n",
       "      <th>MAPS_AND_NAVIGATION</th>\n",
       "      <td>NaN</td>\n",
       "      <td>0.970803</td>\n",
       "      <td>0.007299</td>\n",
       "      <td>0.007299</td>\n",
       "      <td>0.014599</td>\n",
       "      <td>NaN</td>\n",
       "    </tr>\n",
       "    <tr>\n",
       "      <th>MEDICAL</th>\n",
       "      <td>NaN</td>\n",
       "      <td>0.954644</td>\n",
       "      <td>0.019438</td>\n",
       "      <td>0.015119</td>\n",
       "      <td>0.010799</td>\n",
       "      <td>NaN</td>\n",
       "    </tr>\n",
       "    <tr>\n",
       "      <th>NEWS_AND_MAGAZINES</th>\n",
       "      <td>NaN</td>\n",
       "      <td>0.597173</td>\n",
       "      <td>0.233216</td>\n",
       "      <td>0.049470</td>\n",
       "      <td>0.120141</td>\n",
       "      <td>NaN</td>\n",
       "    </tr>\n",
       "    <tr>\n",
       "      <th>PARENTING</th>\n",
       "      <td>NaN</td>\n",
       "      <td>0.966667</td>\n",
       "      <td>NaN</td>\n",
       "      <td>0.016667</td>\n",
       "      <td>0.016667</td>\n",
       "      <td>NaN</td>\n",
       "    </tr>\n",
       "    <tr>\n",
       "      <th>PERSONALIZATION</th>\n",
       "      <td>NaN</td>\n",
       "      <td>0.821429</td>\n",
       "      <td>0.012755</td>\n",
       "      <td>0.022959</td>\n",
       "      <td>0.142857</td>\n",
       "      <td>NaN</td>\n",
       "    </tr>\n",
       "    <tr>\n",
       "      <th>PHOTOGRAPHY</th>\n",
       "      <td>NaN</td>\n",
       "      <td>0.949254</td>\n",
       "      <td>NaN</td>\n",
       "      <td>0.014925</td>\n",
       "      <td>0.035821</td>\n",
       "      <td>NaN</td>\n",
       "    </tr>\n",
       "    <tr>\n",
       "      <th>PRODUCTIVITY</th>\n",
       "      <td>NaN</td>\n",
       "      <td>0.974057</td>\n",
       "      <td>0.002358</td>\n",
       "      <td>0.002358</td>\n",
       "      <td>0.021226</td>\n",
       "      <td>NaN</td>\n",
       "    </tr>\n",
       "    <tr>\n",
       "      <th>SHOPPING</th>\n",
       "      <td>NaN</td>\n",
       "      <td>0.800000</td>\n",
       "      <td>NaN</td>\n",
       "      <td>0.011538</td>\n",
       "      <td>0.188462</td>\n",
       "      <td>NaN</td>\n",
       "    </tr>\n",
       "    <tr>\n",
       "      <th>SOCIAL</th>\n",
       "      <td>NaN</td>\n",
       "      <td>0.342373</td>\n",
       "      <td>0.006780</td>\n",
       "      <td>0.227119</td>\n",
       "      <td>0.423729</td>\n",
       "      <td>NaN</td>\n",
       "    </tr>\n",
       "    <tr>\n",
       "      <th>SPORTS</th>\n",
       "      <td>0.002604</td>\n",
       "      <td>0.880208</td>\n",
       "      <td>0.057292</td>\n",
       "      <td>0.018229</td>\n",
       "      <td>0.041667</td>\n",
       "      <td>NaN</td>\n",
       "    </tr>\n",
       "    <tr>\n",
       "      <th>TOOLS</th>\n",
       "      <td>NaN</td>\n",
       "      <td>0.990510</td>\n",
       "      <td>NaN</td>\n",
       "      <td>0.002372</td>\n",
       "      <td>0.005931</td>\n",
       "      <td>0.001186</td>\n",
       "    </tr>\n",
       "    <tr>\n",
       "      <th>TRAVEL_AND_LOCAL</th>\n",
       "      <td>NaN</td>\n",
       "      <td>0.972868</td>\n",
       "      <td>NaN</td>\n",
       "      <td>0.003876</td>\n",
       "      <td>0.023256</td>\n",
       "      <td>NaN</td>\n",
       "    </tr>\n",
       "    <tr>\n",
       "      <th>VIDEO_PLAYERS</th>\n",
       "      <td>NaN</td>\n",
       "      <td>0.834286</td>\n",
       "      <td>0.011429</td>\n",
       "      <td>0.017143</td>\n",
       "      <td>0.137143</td>\n",
       "      <td>NaN</td>\n",
       "    </tr>\n",
       "    <tr>\n",
       "      <th>WEATHER</th>\n",
       "      <td>NaN</td>\n",
       "      <td>0.951220</td>\n",
       "      <td>0.012195</td>\n",
       "      <td>0.012195</td>\n",
       "      <td>0.024390</td>\n",
       "      <td>NaN</td>\n",
       "    </tr>\n",
       "  </tbody>\n",
       "</table>\n",
       "</div>"
      ],
      "text/plain": [
       "Content Rating       Adults only 18+  Everyone  Everyone 10+  Mature 17+  \\\n",
       "Category                                                                   \n",
       "ART_AND_DESIGN                   NaN  0.938462      0.015385         NaN   \n",
       "AUTO_AND_VEHICLES                NaN  0.976471      0.011765         NaN   \n",
       "BEAUTY                           NaN  0.849057      0.037736    0.056604   \n",
       "BOOKS_AND_REFERENCE              NaN  0.874459      0.021645    0.012987   \n",
       "BUSINESS                         NaN  0.967391      0.002174    0.002174   \n",
       "COMICS                      0.033333  0.433333      0.050000    0.116667   \n",
       "COMMUNICATION                    NaN  0.891473           NaN    0.025840   \n",
       "DATING                           NaN  0.089744           NaN    0.858974   \n",
       "EDUCATION                        NaN  0.923077      0.051282    0.019231   \n",
       "ENTERTAINMENT                    NaN  0.261745      0.033557    0.060403   \n",
       "EVENTS                           NaN  0.828125      0.046875         NaN   \n",
       "FAMILY                           NaN  0.775355      0.066430    0.025355   \n",
       "FINANCE                          NaN  0.986339           NaN         NaN   \n",
       "FOOD_AND_DRINK                   NaN  0.921260      0.015748         NaN   \n",
       "GAME                             NaN  0.531469      0.114510    0.064685   \n",
       "HEALTH_AND_FITNESS               NaN  0.900293      0.020528    0.020528   \n",
       "HOUSE_AND_HOME                   NaN  0.977273           NaN         NaN   \n",
       "LIBRARIES_AND_DEMO               NaN  1.000000           NaN         NaN   \n",
       "LIFESTYLE                        NaN  0.903141      0.013089    0.023560   \n",
       "MAPS_AND_NAVIGATION              NaN  0.970803      0.007299    0.007299   \n",
       "MEDICAL                          NaN  0.954644      0.019438    0.015119   \n",
       "NEWS_AND_MAGAZINES               NaN  0.597173      0.233216    0.049470   \n",
       "PARENTING                        NaN  0.966667           NaN    0.016667   \n",
       "PERSONALIZATION                  NaN  0.821429      0.012755    0.022959   \n",
       "PHOTOGRAPHY                      NaN  0.949254           NaN    0.014925   \n",
       "PRODUCTIVITY                     NaN  0.974057      0.002358    0.002358   \n",
       "SHOPPING                         NaN  0.800000           NaN    0.011538   \n",
       "SOCIAL                           NaN  0.342373      0.006780    0.227119   \n",
       "SPORTS                      0.002604  0.880208      0.057292    0.018229   \n",
       "TOOLS                            NaN  0.990510           NaN    0.002372   \n",
       "TRAVEL_AND_LOCAL                 NaN  0.972868           NaN    0.003876   \n",
       "VIDEO_PLAYERS                    NaN  0.834286      0.011429    0.017143   \n",
       "WEATHER                          NaN  0.951220      0.012195    0.012195   \n",
       "\n",
       "Content Rating           Teen   Unrated  \n",
       "Category                                 \n",
       "ART_AND_DESIGN       0.046154       NaN  \n",
       "AUTO_AND_VEHICLES    0.011765       NaN  \n",
       "BEAUTY               0.056604       NaN  \n",
       "BOOKS_AND_REFERENCE  0.090909       NaN  \n",
       "BUSINESS             0.028261       NaN  \n",
       "COMICS               0.366667       NaN  \n",
       "COMMUNICATION        0.082687       NaN  \n",
       "DATING               0.051282       NaN  \n",
       "EDUCATION            0.006410       NaN  \n",
       "ENTERTAINMENT        0.644295       NaN  \n",
       "EVENTS               0.125000       NaN  \n",
       "FAMILY               0.132353  0.000507  \n",
       "FINANCE              0.013661       NaN  \n",
       "FOOD_AND_DRINK       0.062992       NaN  \n",
       "GAME                 0.289336       NaN  \n",
       "HEALTH_AND_FITNESS   0.058651       NaN  \n",
       "HOUSE_AND_HOME       0.022727       NaN  \n",
       "LIBRARIES_AND_DEMO        NaN       NaN  \n",
       "LIFESTYLE            0.060209       NaN  \n",
       "MAPS_AND_NAVIGATION  0.014599       NaN  \n",
       "MEDICAL              0.010799       NaN  \n",
       "NEWS_AND_MAGAZINES   0.120141       NaN  \n",
       "PARENTING            0.016667       NaN  \n",
       "PERSONALIZATION      0.142857       NaN  \n",
       "PHOTOGRAPHY          0.035821       NaN  \n",
       "PRODUCTIVITY         0.021226       NaN  \n",
       "SHOPPING             0.188462       NaN  \n",
       "SOCIAL               0.423729       NaN  \n",
       "SPORTS               0.041667       NaN  \n",
       "TOOLS                0.005931  0.001186  \n",
       "TRAVEL_AND_LOCAL     0.023256       NaN  \n",
       "VIDEO_PLAYERS        0.137143       NaN  \n",
       "WEATHER              0.024390       NaN  "
      ]
     },
     "execution_count": 25,
     "metadata": {},
     "output_type": "execute_result"
    }
   ],
   "source": [
    "temp_df = df.groupby([\"Category\",\"Content Rating\"])[\"App\"].count()/df.groupby([\"Category\"])[\"Content Rating\"].count()\n",
    "temp_df = temp_df.to_frame().reset_index().rename(columns={0:\"Percentage\"})\n",
    "temp_df.pivot(index='Category', columns='Content Rating', values='Percentage')"
   ]
  },
  {
   "cell_type": "markdown",
   "metadata": {
    "slideshow": {
     "slide_type": "slide"
    }
   },
   "source": [
    "## Xây dựng ứng dụng miễn phí hay phải trả phí?"
   ]
  },
  {
   "cell_type": "markdown",
   "metadata": {
    "slideshow": {
     "slide_type": "subslide"
    }
   },
   "source": [
    "- Các bước phân tích:\n",
    "    + So sánh Rating, Reviews, Size, Installs, Price, Count giữa hai loại ứng dụng. Với Rating, Reviews, Size, Installs, Price thì ta tính trung bình, còn Count thì ta gôm nhóm lại và đếm.\n",
    "    + Với từng thể loại khác nhau thì lượng Rating giữa hai loại ứng dụng như thế nào? Tính độ chênh lệch Rating ứng với từng thể loại cụ thể.\n",
    "- Ý nghĩa của câu hỏi:\n",
    "    + Nguồn thu của một ứng dụng thường đến từ lượng cài đặt và giá của ứng dụng nên qua đây ta có thể biết được ứng dụng miễn phí hay trả phí thì lượng cài đặt và giá chênh nhau như thế nào.\n",
    "    + Ngoài ra, ta có thể xem đánh giá trung bình của người dùng về từng thể loại cụ thể ứng với từng loại. Từ đó xem xét xem, nếu như xây dựng ứng dụng Free (hay Paid) về từng thể loại thì người dùng đánh giá như thế nào. Giúp hỗ trợ thêm cho câu hỏi đầu tiên."
   ]
  },
  {
   "cell_type": "markdown",
   "metadata": {
    "slideshow": {
     "slide_type": "subslide"
    }
   },
   "source": [
    "- So sánh Rating, Reviews, Size, Installs, Price, Count"
   ]
  },
  {
   "cell_type": "code",
   "execution_count": 26,
   "metadata": {
    "slideshow": {
     "slide_type": "fragment"
    }
   },
   "outputs": [
    {
     "data": {
      "text/html": [
       "<div>\n",
       "<style scoped>\n",
       "    .dataframe tbody tr th:only-of-type {\n",
       "        vertical-align: middle;\n",
       "    }\n",
       "\n",
       "    .dataframe tbody tr th {\n",
       "        vertical-align: top;\n",
       "    }\n",
       "\n",
       "    .dataframe thead th {\n",
       "        text-align: right;\n",
       "    }\n",
       "</style>\n",
       "<table border=\"1\" class=\"dataframe\">\n",
       "  <thead>\n",
       "    <tr style=\"text-align: right;\">\n",
       "      <th></th>\n",
       "      <th>Rating</th>\n",
       "      <th>Reviews</th>\n",
       "      <th>Size</th>\n",
       "      <th>Installs</th>\n",
       "      <th>Price</th>\n",
       "      <th>Count</th>\n",
       "    </tr>\n",
       "    <tr>\n",
       "      <th>Type</th>\n",
       "      <th></th>\n",
       "      <th></th>\n",
       "      <th></th>\n",
       "      <th></th>\n",
       "      <th></th>\n",
       "      <th></th>\n",
       "    </tr>\n",
       "  </thead>\n",
       "  <tbody>\n",
       "    <tr>\n",
       "      <th>Free</th>\n",
       "      <td>4.186203</td>\n",
       "      <td>478613.420618</td>\n",
       "      <td>18642.858257</td>\n",
       "      <td>1.668929e+07</td>\n",
       "      <td>0.000000</td>\n",
       "      <td>10040</td>\n",
       "    </tr>\n",
       "    <tr>\n",
       "      <th>Paid</th>\n",
       "      <td>4.266615</td>\n",
       "      <td>11673.312500</td>\n",
       "      <td>17891.755000</td>\n",
       "      <td>9.119510e+04</td>\n",
       "      <td>13.920837</td>\n",
       "      <td>800</td>\n",
       "    </tr>\n",
       "  </tbody>\n",
       "</table>\n",
       "</div>"
      ],
      "text/plain": [
       "        Rating        Reviews          Size      Installs      Price  Count\n",
       "Type                                                                       \n",
       "Free  4.186203  478613.420618  18642.858257  1.668929e+07   0.000000  10040\n",
       "Paid  4.266615   11673.312500  17891.755000  9.119510e+04  13.920837    800"
      ]
     },
     "execution_count": 26,
     "metadata": {},
     "output_type": "execute_result"
    }
   ],
   "source": [
    "type_grp=df.groupby('Type')\n",
    "type_grp=type_grp.mean()\n",
    "type_grp['Count']=df.groupby('Type')['App'].count()\n",
    "type_grp"
   ]
  },
  {
   "cell_type": "markdown",
   "metadata": {
    "slideshow": {
     "slide_type": "fragment"
    }
   },
   "source": [
    "`Nhận xét`:\n",
    "- Ta thấy việc phân chia ứng dụng là trả phí (Paid) hay miễn phí (Free) cũng có một mức độ ảnh hưởng nhất định tới các yếu tố khác (hoặc bị các yếu tố khác ảnh hưởng).\n",
    "- Ở đây việc nó mô tả thuộc tính Price là không cần bàn nữa nên ta không quan tâm đến chuyện này.\n",
    "- Số lượng Review, Install giữa 2 thể loại là chênh lệch cũng là điều dễ hiểu vì thường những ứng dụng trả phí sẽ ít được tải và sử dụng hơn nên số lượng nhận xét, đánh giá theo đó cũng giảm xuống.\n",
    "- Về kích thước (Size) thì cũng không liên quan lắm tới việc phân định là ứng dụng phải trả phí hay không vì điều này phụ thuộc vào chất lượng của ứng dụng.\n",
    "- Ở đây ta chỉ quan tâm đến Rating là liệu các ứng dụng trả phí ở những thể loại nào là phù hợp và thường có Rating cao. Hay nói cách khác là các ứng dụng trả phí nên được khai thác vào những thể loại nào để người tạo ứng dụng có thể đạt kết quả tốt nhất. Ta sẽ xem xét điều này dưới đây."
   ]
  },
  {
   "cell_type": "markdown",
   "metadata": {
    "slideshow": {
     "slide_type": "subslide"
    }
   },
   "source": [
    "- Với mỗi `Category` thì ta nên xây dựng ứng dụng miễn phí hay trả phí là hợp lí?"
   ]
  },
  {
   "cell_type": "markdown",
   "metadata": {
    "slideshow": {
     "slide_type": "fragment"
    }
   },
   "source": [
    "Ta sẽ đánh giá qua tỉ lệ `Rating` trung bình ứng với mỗi `Category`"
   ]
  },
  {
   "cell_type": "code",
   "execution_count": 27,
   "metadata": {
    "slideshow": {
     "slide_type": "subslide"
    }
   },
   "outputs": [
    {
     "data": {
      "image/png": "[encoded data removed]",
      "text/plain": [
       "<Figure size 1080x720 with 1 Axes>"
      ]
     },
     "metadata": {
      "needs_background": "light"
     },
     "output_type": "display_data"
    }
   ],
   "source": [
    "plt.figure(figsize=(15,10))\n",
    "temp_df_1 = df[df[\"Type\"] == \"Free\"].groupby(\"Category\")[\"Rating\"].mean()\n",
    "temp_df_2 = df[df[\"Type\"] == \"Paid\"].groupby(\"Category\")[\"Rating\"].mean()\n",
    "temp_df = temp_df_1 - temp_df_2\n",
    "temp_df= temp_df.sort_values()\n",
    "plt.bar(temp_df.index, temp_df)\n",
    "plt.xticks(rotation=90)\n",
    "plt.show()"
   ]
  },
  {
   "cell_type": "markdown",
   "metadata": {
    "slideshow": {
     "slide_type": "subslide"
    }
   },
   "source": [
    "`Nhận xét`:\n",
    "- Đối với các ứng dụng tin tức hay giải trí thì có vẻ người dùng sẵn sàng bỏ tiền ra để có được những tin tức giá trị và thú vị hơn, hoặc được trải nghiệm cảm giác giải trí thoải mái hơn.\n",
    "- Còn đối với làm đẹp (Beauty), nuôi dạy con cái (Parenting), mạng xã hội (Social) hay hẹn hò (Dating)... thì người ta không muốn chi trả nhiều tiền vào đó. Có lẽ vậy :D\n",
    "- Đây chỉ là những đánh giá chủ quan trên tinh thần quan sát dữ liệu trực quan mà thôi."
   ]
  },
  {
   "cell_type": "markdown",
   "metadata": {
    "slideshow": {
     "slide_type": "slide"
    }
   },
   "source": [
    "## Yếu tố ảnh hưởng đến Install"
   ]
  },
  {
   "cell_type": "markdown",
   "metadata": {
    "slideshow": {
     "slide_type": "subslide"
    }
   },
   "source": [
    "- Các bước phân tích:\n",
    "    + Vẽ biểu đồ quan sát xem các thuộc tính Rating, Reviews, Size, Price, Year ảnh hưởng đến Installs như thế nào? Vẽ biểu đồ scatter kết hợp thêm đường hồi quy để xem xét mối tương quan giữa các thuộc tính.\n",
    "    + Để đánh giá tốt hơn ta sử dụng thuật toán Random Forest để đánh giá mức độ ảnh hưởng.\n",
    "- Ý nghĩa của câu hỏi: Thường thì một ứng dụng được cho là thành công nếu có lượng cài đặt cao. Vì vậy, qua câu hỏi ta có thể tìm ra được yếu tố nào sẽ ảnh hưởng nhiều nhất đến lượng cài đặt cho ứng dụng. Từ đó những người tạo nên ứng dụng có thể phát triển ứng dụng của mình tốt hơn nữa để cải thiện lượng cài đặt (Ví dụ: marketing giúp thay đổi lượng review, giảm kích thước của ứng dụng, giảm giá,...)."
   ]
  },
  {
   "cell_type": "markdown",
   "metadata": {
    "slideshow": {
     "slide_type": "subslide"
    }
   },
   "source": [
    "- Vẽ biểu đồ quan sát `Rating`, `Reviews`, `Size`, `Price` ảnh hưởng đến `Installs` như thế nào?"
   ]
  },
  {
   "cell_type": "code",
   "execution_count": 28,
   "metadata": {
    "slideshow": {
     "slide_type": "fragment"
    }
   },
   "outputs": [],
   "source": [
    "df_copy = df.copy()\n",
    "df_copy = df_copy[[\"Rating\", \"Reviews\", \"Size\", \"Price\", \"Installs\"]]"
   ]
  },
  {
   "cell_type": "markdown",
   "metadata": {
    "slideshow": {
     "slide_type": "fragment"
    }
   },
   "source": [
    "- Chuẩn hóa dữ liệu về khoảng 0-1 bằng phương pháp Min-Max"
   ]
  },
  {
   "cell_type": "code",
   "execution_count": 29,
   "metadata": {
    "slideshow": {
     "slide_type": "fragment"
    }
   },
   "outputs": [],
   "source": [
    "df_copy = df_copy.apply(lambda s: (s-s.min())/(s.max()-s.min()))"
   ]
  },
  {
   "cell_type": "code",
   "execution_count": 30,
   "metadata": {
    "slideshow": {
     "slide_type": "subslide"
    }
   },
   "outputs": [
    {
     "data": {
      "text/plain": [
       "<AxesSubplot:xlabel='Rating', ylabel='Installs'>"
      ]
     },
     "execution_count": 30,
     "metadata": {},
     "output_type": "execute_result"
    },
    {
     "data": {
      "image/png": "[encoded data removed]",
      "text/plain": [
       "<Figure size 432x288 with 1 Axes>"
      ]
     },
     "metadata": {
      "needs_background": "light"
     },
     "output_type": "display_data"
    }
   ],
   "source": [
    "sns.regplot(x=\"Rating\", y=\"Installs\", data=df_copy, line_kws={'color': 'red'})"
   ]
  },
  {
   "cell_type": "code",
   "execution_count": 31,
   "metadata": {
    "slideshow": {
     "slide_type": "subslide"
    }
   },
   "outputs": [
    {
     "data": {
      "text/plain": [
       "<AxesSubplot:xlabel='Reviews', ylabel='Installs'>"
      ]
     },
     "execution_count": 31,
     "metadata": {},
     "output_type": "execute_result"
    },
    {
     "data": {
      "image/png": "[encoded data removed]",
      "text/plain": [
       "<Figure size 432x288 with 1 Axes>"
      ]
     },
     "metadata": {
      "needs_background": "light"
     },
     "output_type": "display_data"
    }
   ],
   "source": [
    "sns.regplot(x=\"Reviews\", y=\"Installs\", data=df_copy, line_kws={'color': 'red'})"
   ]
  },
  {
   "cell_type": "code",
   "execution_count": 32,
   "metadata": {
    "slideshow": {
     "slide_type": "subslide"
    }
   },
   "outputs": [
    {
     "data": {
      "text/plain": [
       "<AxesSubplot:xlabel='Size', ylabel='Installs'>"
      ]
     },
     "execution_count": 32,
     "metadata": {},
     "output_type": "execute_result"
    },
    {
     "data": {
      "image/png": "[encoded data removed]",
      "text/plain": [
       "<Figure size 432x288 with 1 Axes>"
      ]
     },
     "metadata": {
      "needs_background": "light"
     },
     "output_type": "display_data"
    }
   ],
   "source": [
    "sns.regplot(x=\"Size\", y=\"Installs\", data=df_copy, line_kws={'color': 'red'})"
   ]
  },
  {
   "cell_type": "code",
   "execution_count": 33,
   "metadata": {
    "slideshow": {
     "slide_type": "subslide"
    }
   },
   "outputs": [
    {
     "data": {
      "text/plain": [
       "<AxesSubplot:xlabel='Price', ylabel='Installs'>"
      ]
     },
     "execution_count": 33,
     "metadata": {},
     "output_type": "execute_result"
    },
    {
     "data": {
      "image/png": "[encoded data removed]",
      "text/plain": [
       "<Figure size 432x288 with 1 Axes>"
      ]
     },
     "metadata": {
      "needs_background": "light"
     },
     "output_type": "display_data"
    }
   ],
   "source": [
    "sns.regplot(x=\"Price\", y=\"Installs\", data=df_copy, line_kws={'color': 'red'})"
   ]
  },
  {
   "cell_type": "markdown",
   "metadata": {
    "slideshow": {
     "slide_type": "subslide"
    }
   },
   "source": [
    "`Nhận xét`:\n",
    "- Qua các biểu đồ hồi quy trên ta có thể quan sát được tầm ảnh hưởng của các yếu tố tới lượng Installs của ứng dụng.\n",
    "- Với số lượt Reviews là ảnh hưởng lớn nhất tới thuộc tính này. Điều này dễ hiểu.\n",
    "- Tuy nhiên với những thuộc tính còn lại thì việc phân định tầm quan trọng không được rõ ràng. Do đó ta sẽ xem xét còn cách nào khác để phân định tầm quan trọng của các thuộc tính đối với Installs hay không."
   ]
  },
  {
   "cell_type": "markdown",
   "metadata": {
    "slideshow": {
     "slide_type": "subslide"
    }
   },
   "source": [
    "- Lượng install trung bình qua các năm"
   ]
  },
  {
   "cell_type": "code",
   "execution_count": 34,
   "metadata": {
    "slideshow": {
     "slide_type": "fragment"
    }
   },
   "outputs": [
    {
     "data": {
      "text/plain": [
       "<AxesSubplot:xlabel='Year'>"
      ]
     },
     "execution_count": 34,
     "metadata": {},
     "output_type": "execute_result"
    },
    {
     "data": {
      "image/png": "[encoded data removed]",
      "text/plain": [
       "<Figure size 1080x576 with 1 Axes>"
      ]
     },
     "metadata": {
      "needs_background": "light"
     },
     "output_type": "display_data"
    }
   ],
   "source": [
    "install_ysr = year_df.groupby(\"Year\")[\"Installs\"].mean()\n",
    "install_ysr.plot(kind=\"line\", marker = \"o\", figsize = (15,8))"
   ]
  },
  {
   "cell_type": "markdown",
   "metadata": {
    "slideshow": {
     "slide_type": "subslide"
    }
   },
   "source": [
    "`Nhận xét`: \n",
    "- Nhận thấy không thể qua quan sát bình thường có thể nhận thấy sự ảnh hưởng của các thuộc tính `Rating`, `Reviews`, `Size`, `Price` tới lượng `Installs`.\n",
    "- Qua từng năm thì lượng Installs các ứng dụng càng ngày càng tăng vậy `Year` có phải ảnh hưởng lớn đến lượng Install không?"
   ]
  },
  {
   "cell_type": "markdown",
   "metadata": {
    "slideshow": {
     "slide_type": "subslide"
    }
   },
   "source": [
    "- Sử dụng thuật toán RandomForestClassifier để tìm ra tầm quan trọng của các thuộc tính ảnh hưởng đến lượng `Installs`"
   ]
  },
  {
   "cell_type": "code",
   "execution_count": 35,
   "metadata": {
    "slideshow": {
     "slide_type": "fragment"
    }
   },
   "outputs": [],
   "source": [
    "year_df = year_df.dropna()\n",
    "y = year_df[\"Installs\"]\n",
    "x = year_df[[\"Rating\", \"Reviews\", \"Size\", \"Price\", \"Year\"]]"
   ]
  },
  {
   "cell_type": "code",
   "execution_count": 36,
   "metadata": {
    "slideshow": {
     "slide_type": "fragment"
    }
   },
   "outputs": [
    {
     "name": "stderr",
     "output_type": "stream",
     "text": [
      "C:\\Users\\84911\\anaconda3\\lib\\site-packages\\sklearn\\model_selection\\_split.py:666: UserWarning: The least populated class in y has only 3 members, which is less than n_splits=5.\n",
      "  warnings.warn((\"The least populated class in y has only %d\"\n"
     ]
    },
    {
     "data": {
      "text/plain": [
       "GridSearchCV(cv=5, estimator=RandomForestClassifier(),\n",
       "             param_grid={'n_estimators': [10, 50, 100]}, scoring='f1_macro')"
      ]
     },
     "execution_count": 36,
     "metadata": {},
     "output_type": "execute_result"
    }
   ],
   "source": [
    "clf_base = RandomForestClassifier()\n",
    "grid = {'n_estimators': [10, 50, 100]}\n",
    "clf_rf = GridSearchCV(clf_base, grid, cv=5, scoring='f1_macro')\n",
    "\n",
    "clf_rf.fit(x, y)"
   ]
  },
  {
   "cell_type": "code",
   "execution_count": 37,
   "metadata": {
    "slideshow": {
     "slide_type": "subslide"
    }
   },
   "outputs": [
    {
     "data": {
      "text/plain": [
       "Text(0.5, 1.0, 'Random Forest Classifier Feature Importance')"
      ]
     },
     "execution_count": 37,
     "metadata": {},
     "output_type": "execute_result"
    },
    {
     "data": {
      "image/png": "[encoded data removed]",
      "text/plain": [
       "<Figure size 1080x720 with 1 Axes>"
      ]
     },
     "metadata": {
      "needs_background": "light"
     },
     "output_type": "display_data"
    }
   ],
   "source": [
    "importances = pd.DataFrame(np.zeros((x.shape[1], 1)), columns=['importance'], index = x.columns)\n",
    "\n",
    "importances.iloc[:,0] = clf_rf.best_estimator_.feature_importances_\n",
    "\n",
    "importances.sort_values(by='importance', inplace=True, ascending=False)\n",
    "importances30 = importances.head(30)\n",
    "\n",
    "plt.figure(figsize=(15, 10))\n",
    "sns.barplot(x='importance', y=importances30.index, data=importances30)\n",
    "\n",
    "plt.xlabel('')\n",
    "plt.tick_params(axis='x', labelsize=10)\n",
    "plt.tick_params(axis='y', labelsize=10)\n",
    "plt.title('Random Forest Classifier Feature Importance', size=20, weight='bold')"
   ]
  },
  {
   "cell_type": "markdown",
   "metadata": {
    "slideshow": {
     "slide_type": "subslide"
    }
   },
   "source": [
    "`Nhận xét`:\n",
    "- Quan sát kết quả của mô hình được xây dựng từ dữ liệu của chúng ta thì dường như 2 thuộc tính `Year` và `Price` không quá ảnh hưởng đến quyết định của người dùng, cụ thể ở đây là số lượt `Installs`.\n",
    "- Thay vào đó thì số lượt `Reviews` lại có vẻ như đóng một vai trò rất quan trọng đối với yếu tố `Installs`.\n",
    "- Vì vậy khi xây dựng và vận hành các ứng dụng, các nhà phát triển phải đặc biệt chú tâm tới các lượt `Reviews` thì ứng dụng của mình mới có thể phát triển tốt được."
   ]
  },
  {
   "cell_type": "markdown",
   "metadata": {
    "slideshow": {
     "slide_type": "slide"
    }
   },
   "source": [
    "## Tìm những ứng dụng được đánh giá tốt thông qua Review của khách hàng"
   ]
  },
  {
   "cell_type": "markdown",
   "metadata": {
    "slideshow": {
     "slide_type": "subslide"
    }
   },
   "source": [
    "- Các bước phân tích dựa vào file dữ liệu googleplaystore_user_reviews.csv:\n",
    "    + Khám phá dữ liệu.\n",
    "    + Tính Sentiment_Objectivity để đánh giá Review đó có thực sự chính xác hay không? Tính bằng cách lấy Sentiment_Polarity / Sentiment_Subjectivity.\n",
    "    + Tìm ra những ứng dụng được đánh giá tốt bằng cách sắp xếp dựa trên Sentiment_Objectivity.\n",
    "- Ý nghĩa của câu hỏi: Khi xây dựng một ứng dụng thì việc tìm hiểu những ưu điểm của các ứng dụng được khách hàng đánh giá tốt là rất cần thiết. Từ đó, mình có thể biết được khách hàng muốn điều gì từ ứng dụng. Vì vậy, ta có thể xem thử với từng thể loại thì ứng dụng nào được khách hàng đánh giá tốt. Nhờ vậy, nếu muốn xây dựng thể loại nào thì ta có thể tham khảo các ứng dụng được khách hàng đánh giá tốt trên thị trường để xây dựng ứng dụng của mình tốt hơn."
   ]
  },
  {
   "cell_type": "markdown",
   "metadata": {
    "slideshow": {
     "slide_type": "subslide"
    }
   },
   "source": [
    "- Đọc file dữ liệu `googleplaystore_user_reviews.csv`"
   ]
  },
  {
   "cell_type": "code",
   "execution_count": 38,
   "metadata": {
    "slideshow": {
     "slide_type": "fragment"
    }
   },
   "outputs": [
    {
     "data": {
      "text/html": [
       "<div>\n",
       "<style scoped>\n",
       "    .dataframe tbody tr th:only-of-type {\n",
       "        vertical-align: middle;\n",
       "    }\n",
       "\n",
       "    .dataframe tbody tr th {\n",
       "        vertical-align: top;\n",
       "    }\n",
       "\n",
       "    .dataframe thead th {\n",
       "        text-align: right;\n",
       "    }\n",
       "</style>\n",
       "<table border=\"1\" class=\"dataframe\">\n",
       "  <thead>\n",
       "    <tr style=\"text-align: right;\">\n",
       "      <th></th>\n",
       "      <th>App</th>\n",
       "      <th>Translated_Review</th>\n",
       "      <th>Sentiment</th>\n",
       "      <th>Sentiment_Polarity</th>\n",
       "      <th>Sentiment_Subjectivity</th>\n",
       "    </tr>\n",
       "  </thead>\n",
       "  <tbody>\n",
       "    <tr>\n",
       "      <th>0</th>\n",
       "      <td>10 Best Foods for You</td>\n",
       "      <td>I like eat delicious food. That's I'm cooking ...</td>\n",
       "      <td>Positive</td>\n",
       "      <td>1.00</td>\n",
       "      <td>0.533333</td>\n",
       "    </tr>\n",
       "    <tr>\n",
       "      <th>1</th>\n",
       "      <td>10 Best Foods for You</td>\n",
       "      <td>This help eating healthy exercise regular basis</td>\n",
       "      <td>Positive</td>\n",
       "      <td>0.25</td>\n",
       "      <td>0.288462</td>\n",
       "    </tr>\n",
       "    <tr>\n",
       "      <th>2</th>\n",
       "      <td>10 Best Foods for You</td>\n",
       "      <td>NaN</td>\n",
       "      <td>NaN</td>\n",
       "      <td>NaN</td>\n",
       "      <td>NaN</td>\n",
       "    </tr>\n",
       "    <tr>\n",
       "      <th>3</th>\n",
       "      <td>10 Best Foods for You</td>\n",
       "      <td>Works great especially going grocery store</td>\n",
       "      <td>Positive</td>\n",
       "      <td>0.40</td>\n",
       "      <td>0.875000</td>\n",
       "    </tr>\n",
       "    <tr>\n",
       "      <th>4</th>\n",
       "      <td>10 Best Foods for You</td>\n",
       "      <td>Best idea us</td>\n",
       "      <td>Positive</td>\n",
       "      <td>1.00</td>\n",
       "      <td>0.300000</td>\n",
       "    </tr>\n",
       "    <tr>\n",
       "      <th>...</th>\n",
       "      <td>...</td>\n",
       "      <td>...</td>\n",
       "      <td>...</td>\n",
       "      <td>...</td>\n",
       "      <td>...</td>\n",
       "    </tr>\n",
       "    <tr>\n",
       "      <th>64290</th>\n",
       "      <td>Houzz Interior Design Ideas</td>\n",
       "      <td>NaN</td>\n",
       "      <td>NaN</td>\n",
       "      <td>NaN</td>\n",
       "      <td>NaN</td>\n",
       "    </tr>\n",
       "    <tr>\n",
       "      <th>64291</th>\n",
       "      <td>Houzz Interior Design Ideas</td>\n",
       "      <td>NaN</td>\n",
       "      <td>NaN</td>\n",
       "      <td>NaN</td>\n",
       "      <td>NaN</td>\n",
       "    </tr>\n",
       "    <tr>\n",
       "      <th>64292</th>\n",
       "      <td>Houzz Interior Design Ideas</td>\n",
       "      <td>NaN</td>\n",
       "      <td>NaN</td>\n",
       "      <td>NaN</td>\n",
       "      <td>NaN</td>\n",
       "    </tr>\n",
       "    <tr>\n",
       "      <th>64293</th>\n",
       "      <td>Houzz Interior Design Ideas</td>\n",
       "      <td>NaN</td>\n",
       "      <td>NaN</td>\n",
       "      <td>NaN</td>\n",
       "      <td>NaN</td>\n",
       "    </tr>\n",
       "    <tr>\n",
       "      <th>64294</th>\n",
       "      <td>Houzz Interior Design Ideas</td>\n",
       "      <td>NaN</td>\n",
       "      <td>NaN</td>\n",
       "      <td>NaN</td>\n",
       "      <td>NaN</td>\n",
       "    </tr>\n",
       "  </tbody>\n",
       "</table>\n",
       "<p>64295 rows × 5 columns</p>\n",
       "</div>"
      ],
      "text/plain": [
       "                               App  \\\n",
       "0            10 Best Foods for You   \n",
       "1            10 Best Foods for You   \n",
       "2            10 Best Foods for You   \n",
       "3            10 Best Foods for You   \n",
       "4            10 Best Foods for You   \n",
       "...                            ...   \n",
       "64290  Houzz Interior Design Ideas   \n",
       "64291  Houzz Interior Design Ideas   \n",
       "64292  Houzz Interior Design Ideas   \n",
       "64293  Houzz Interior Design Ideas   \n",
       "64294  Houzz Interior Design Ideas   \n",
       "\n",
       "                                       Translated_Review Sentiment  \\\n",
       "0      I like eat delicious food. That's I'm cooking ...  Positive   \n",
       "1        This help eating healthy exercise regular basis  Positive   \n",
       "2                                                    NaN       NaN   \n",
       "3             Works great especially going grocery store  Positive   \n",
       "4                                           Best idea us  Positive   \n",
       "...                                                  ...       ...   \n",
       "64290                                                NaN       NaN   \n",
       "64291                                                NaN       NaN   \n",
       "64292                                                NaN       NaN   \n",
       "64293                                                NaN       NaN   \n",
       "64294                                                NaN       NaN   \n",
       "\n",
       "       Sentiment_Polarity  Sentiment_Subjectivity  \n",
       "0                    1.00                0.533333  \n",
       "1                    0.25                0.288462  \n",
       "2                     NaN                     NaN  \n",
       "3                    0.40                0.875000  \n",
       "4                    1.00                0.300000  \n",
       "...                   ...                     ...  \n",
       "64290                 NaN                     NaN  \n",
       "64291                 NaN                     NaN  \n",
       "64292                 NaN                     NaN  \n",
       "64293                 NaN                     NaN  \n",
       "64294                 NaN                     NaN  \n",
       "\n",
       "[64295 rows x 5 columns]"
      ]
     },
     "execution_count": 38,
     "metadata": {},
     "output_type": "execute_result"
    }
   ],
   "source": [
    "df2 = pd.read_csv(\"data\\googleplaystore_user_reviews.csv\")\n",
    "df2"
   ]
  },
  {
   "cell_type": "markdown",
   "metadata": {
    "slideshow": {
     "slide_type": "subslide"
    }
   },
   "source": [
    "- Dữ liệu có bao nhiêu dòng, cột?"
   ]
  },
  {
   "cell_type": "code",
   "execution_count": 39,
   "metadata": {
    "slideshow": {
     "slide_type": "fragment"
    }
   },
   "outputs": [
    {
     "data": {
      "text/plain": [
       "(64295, 5)"
      ]
     },
     "execution_count": 39,
     "metadata": {},
     "output_type": "execute_result"
    }
   ],
   "source": [
    "df2.shape"
   ]
  },
  {
   "cell_type": "markdown",
   "metadata": {
    "slideshow": {
     "slide_type": "subslide"
    }
   },
   "source": [
    "- Thông tin mỗi cột"
   ]
  },
  {
   "cell_type": "markdown",
   "metadata": {
    "slideshow": {
     "slide_type": "fragment"
    }
   },
   "source": [
    "File này là dữ liệu về các lượt đánh giá (`Reviews`) của các ứng dụng (đã phiên dịch sang tiếng anh) và các thông tin hữu ích được rút trích ra từ các lượt đánh giá đó. Đầu tiên ta tìm hiểu những cột có ý nghĩa còn mơ hồ:\n",
    "- `Sentiment`: Là thái độ của người đánh giá dựa vào việc phân tích câu đánh giá, được phân làm 3 loại là Positive, Negative, Neutral.\n",
    "- `Sentiment_Polarity`: Là thái độ của người đánh giá được chuyển về dạng số với giới hạn trong khoảng [-1, 1] với các giá trị càng gần -1 là càng tiêu cực và ngược lại càng về 1 là càng tích cực.\n",
    "- `Sentiment_Subjectivity`: Là mức độ chủ quan trong lời đánh giá của người viết, giới hạn trong khoảng [0, 1] với các giá trị càng gần 1 thì mức độ chủ quan càng cao.\n",
    "\n",
    "Công việc bây giờ của chúng ta là từ những cột giá trị trên để tìm hiểu xem những ứng dụng nào được xem là tốt nhất từ tất cả các lời đánh giá (`Reviews`) của người dùng."
   ]
  },
  {
   "cell_type": "markdown",
   "metadata": {
    "slideshow": {
     "slide_type": "subslide"
    }
   },
   "source": [
    "- Tạo cột mới `Sentiment_Objectivity` để đánh giá Review đó có thực sự chính xác hay không?\n",
    "\n",
    "Giá trị của cột này sẽ được coi là thái độ khách quan của người dùng đối với ứng dụng qua lời đánh giá. Được tính bằng cách lấy giá trị của cột `Sentiment_Polarity` chia cho cột `Sentiment_Subjectivity` (Lý do là vì nếu đánh giá đó là tốt mà mức độ chủ quan càng ít thì sẽ cho kết quả cao và ngược lại)."
   ]
  },
  {
   "cell_type": "code",
   "execution_count": 40,
   "metadata": {
    "slideshow": {
     "slide_type": "fragment"
    }
   },
   "outputs": [
    {
     "data": {
      "text/html": [
       "<div>\n",
       "<style scoped>\n",
       "    .dataframe tbody tr th:only-of-type {\n",
       "        vertical-align: middle;\n",
       "    }\n",
       "\n",
       "    .dataframe tbody tr th {\n",
       "        vertical-align: top;\n",
       "    }\n",
       "\n",
       "    .dataframe thead th {\n",
       "        text-align: right;\n",
       "    }\n",
       "</style>\n",
       "<table border=\"1\" class=\"dataframe\">\n",
       "  <thead>\n",
       "    <tr style=\"text-align: right;\">\n",
       "      <th></th>\n",
       "      <th>App</th>\n",
       "      <th>Translated_Review</th>\n",
       "      <th>Sentiment</th>\n",
       "      <th>Sentiment_Polarity</th>\n",
       "      <th>Sentiment_Subjectivity</th>\n",
       "      <th>Sentiment_Objectivity</th>\n",
       "    </tr>\n",
       "  </thead>\n",
       "  <tbody>\n",
       "    <tr>\n",
       "      <th>0</th>\n",
       "      <td>10 Best Foods for You</td>\n",
       "      <td>I like eat delicious food. That's I'm cooking ...</td>\n",
       "      <td>Positive</td>\n",
       "      <td>1.000000</td>\n",
       "      <td>0.533333</td>\n",
       "      <td>1.874996</td>\n",
       "    </tr>\n",
       "    <tr>\n",
       "      <th>1</th>\n",
       "      <td>10 Best Foods for You</td>\n",
       "      <td>This help eating healthy exercise regular basis</td>\n",
       "      <td>Positive</td>\n",
       "      <td>0.250000</td>\n",
       "      <td>0.288462</td>\n",
       "      <td>0.866664</td>\n",
       "    </tr>\n",
       "    <tr>\n",
       "      <th>3</th>\n",
       "      <td>10 Best Foods for You</td>\n",
       "      <td>Works great especially going grocery store</td>\n",
       "      <td>Positive</td>\n",
       "      <td>0.400000</td>\n",
       "      <td>0.875000</td>\n",
       "      <td>0.457142</td>\n",
       "    </tr>\n",
       "    <tr>\n",
       "      <th>4</th>\n",
       "      <td>10 Best Foods for You</td>\n",
       "      <td>Best idea us</td>\n",
       "      <td>Positive</td>\n",
       "      <td>1.000000</td>\n",
       "      <td>0.300000</td>\n",
       "      <td>3.333322</td>\n",
       "    </tr>\n",
       "    <tr>\n",
       "      <th>5</th>\n",
       "      <td>10 Best Foods for You</td>\n",
       "      <td>Best way</td>\n",
       "      <td>Positive</td>\n",
       "      <td>1.000000</td>\n",
       "      <td>0.300000</td>\n",
       "      <td>3.333322</td>\n",
       "    </tr>\n",
       "    <tr>\n",
       "      <th>...</th>\n",
       "      <td>...</td>\n",
       "      <td>...</td>\n",
       "      <td>...</td>\n",
       "      <td>...</td>\n",
       "      <td>...</td>\n",
       "      <td>...</td>\n",
       "    </tr>\n",
       "    <tr>\n",
       "      <th>64222</th>\n",
       "      <td>Housing-Real Estate &amp; Property</td>\n",
       "      <td>Most ads older many agents ..not much owner po...</td>\n",
       "      <td>Positive</td>\n",
       "      <td>0.173333</td>\n",
       "      <td>0.486667</td>\n",
       "      <td>0.356164</td>\n",
       "    </tr>\n",
       "    <tr>\n",
       "      <th>64223</th>\n",
       "      <td>Housing-Real Estate &amp; Property</td>\n",
       "      <td>If photos posted portal load, fit purpose. I'm...</td>\n",
       "      <td>Positive</td>\n",
       "      <td>0.225000</td>\n",
       "      <td>0.447222</td>\n",
       "      <td>0.503104</td>\n",
       "    </tr>\n",
       "    <tr>\n",
       "      <th>64226</th>\n",
       "      <td>Housing-Real Estate &amp; Property</td>\n",
       "      <td>Dumb app, I wanted post property rent give opt...</td>\n",
       "      <td>Negative</td>\n",
       "      <td>-0.287500</td>\n",
       "      <td>0.250000</td>\n",
       "      <td>-1.149995</td>\n",
       "    </tr>\n",
       "    <tr>\n",
       "      <th>64227</th>\n",
       "      <td>Housing-Real Estate &amp; Property</td>\n",
       "      <td>I property business got link SMS happy perform...</td>\n",
       "      <td>Positive</td>\n",
       "      <td>0.800000</td>\n",
       "      <td>1.000000</td>\n",
       "      <td>0.799999</td>\n",
       "    </tr>\n",
       "    <tr>\n",
       "      <th>64230</th>\n",
       "      <td>Housing-Real Estate &amp; Property</td>\n",
       "      <td>Useless app, I searched flats kondapur, Hydera...</td>\n",
       "      <td>Negative</td>\n",
       "      <td>-0.316667</td>\n",
       "      <td>0.400000</td>\n",
       "      <td>-0.791665</td>\n",
       "    </tr>\n",
       "  </tbody>\n",
       "</table>\n",
       "<p>37427 rows × 6 columns</p>\n",
       "</div>"
      ],
      "text/plain": [
       "                                  App  \\\n",
       "0               10 Best Foods for You   \n",
       "1               10 Best Foods for You   \n",
       "3               10 Best Foods for You   \n",
       "4               10 Best Foods for You   \n",
       "5               10 Best Foods for You   \n",
       "...                               ...   \n",
       "64222  Housing-Real Estate & Property   \n",
       "64223  Housing-Real Estate & Property   \n",
       "64226  Housing-Real Estate & Property   \n",
       "64227  Housing-Real Estate & Property   \n",
       "64230  Housing-Real Estate & Property   \n",
       "\n",
       "                                       Translated_Review Sentiment  \\\n",
       "0      I like eat delicious food. That's I'm cooking ...  Positive   \n",
       "1        This help eating healthy exercise regular basis  Positive   \n",
       "3             Works great especially going grocery store  Positive   \n",
       "4                                           Best idea us  Positive   \n",
       "5                                               Best way  Positive   \n",
       "...                                                  ...       ...   \n",
       "64222  Most ads older many agents ..not much owner po...  Positive   \n",
       "64223  If photos posted portal load, fit purpose. I'm...  Positive   \n",
       "64226  Dumb app, I wanted post property rent give opt...  Negative   \n",
       "64227  I property business got link SMS happy perform...  Positive   \n",
       "64230  Useless app, I searched flats kondapur, Hydera...  Negative   \n",
       "\n",
       "       Sentiment_Polarity  Sentiment_Subjectivity  Sentiment_Objectivity  \n",
       "0                1.000000                0.533333               1.874996  \n",
       "1                0.250000                0.288462               0.866664  \n",
       "3                0.400000                0.875000               0.457142  \n",
       "4                1.000000                0.300000               3.333322  \n",
       "5                1.000000                0.300000               3.333322  \n",
       "...                   ...                     ...                    ...  \n",
       "64222            0.173333                0.486667               0.356164  \n",
       "64223            0.225000                0.447222               0.503104  \n",
       "64226           -0.287500                0.250000              -1.149995  \n",
       "64227            0.800000                1.000000               0.799999  \n",
       "64230           -0.316667                0.400000              -0.791665  \n",
       "\n",
       "[37427 rows x 6 columns]"
      ]
     },
     "execution_count": 40,
     "metadata": {},
     "output_type": "execute_result"
    }
   ],
   "source": [
    "df2.dropna(inplace=True)\n",
    "df2[\"Sentiment_Objectivity\"] = df2[\"Sentiment_Polarity\"] / (df2[\"Sentiment_Subjectivity\"]+0.000001)\n",
    "df2"
   ]
  },
  {
   "cell_type": "markdown",
   "metadata": {
    "slideshow": {
     "slide_type": "subslide"
    }
   },
   "source": [
    "- Ghép 2 DataFrame lại với nhau để lấy thông tin về thể loại của mỗi ứng dụng."
   ]
  },
  {
   "cell_type": "code",
   "execution_count": 41,
   "metadata": {
    "slideshow": {
     "slide_type": "fragment"
    }
   },
   "outputs": [
    {
     "data": {
      "text/html": [
       "<div>\n",
       "<style scoped>\n",
       "    .dataframe tbody tr th:only-of-type {\n",
       "        vertical-align: middle;\n",
       "    }\n",
       "\n",
       "    .dataframe tbody tr th {\n",
       "        vertical-align: top;\n",
       "    }\n",
       "\n",
       "    .dataframe thead th {\n",
       "        text-align: right;\n",
       "    }\n",
       "</style>\n",
       "<table border=\"1\" class=\"dataframe\">\n",
       "  <thead>\n",
       "    <tr style=\"text-align: right;\">\n",
       "      <th></th>\n",
       "      <th>App</th>\n",
       "      <th>Category</th>\n",
       "      <th>Sentiment_Objectivity</th>\n",
       "    </tr>\n",
       "  </thead>\n",
       "  <tbody>\n",
       "    <tr>\n",
       "      <th>0</th>\n",
       "      <td>10 Best Foods for You</td>\n",
       "      <td>HEALTH_AND_FITNESS</td>\n",
       "      <td>-102.148813</td>\n",
       "    </tr>\n",
       "    <tr>\n",
       "      <th>1</th>\n",
       "      <td>11st</td>\n",
       "      <td>SHOPPING</td>\n",
       "      <td>0.195005</td>\n",
       "    </tr>\n",
       "    <tr>\n",
       "      <th>2</th>\n",
       "      <td>1800 Contacts - Lens Store</td>\n",
       "      <td>MEDICAL</td>\n",
       "      <td>0.400902</td>\n",
       "    </tr>\n",
       "    <tr>\n",
       "      <th>3</th>\n",
       "      <td>1LINE – One Line with One Touch</td>\n",
       "      <td>GAME</td>\n",
       "      <td>0.304564</td>\n",
       "    </tr>\n",
       "    <tr>\n",
       "      <th>4</th>\n",
       "      <td>2018Emoji Keyboard 😂 Emoticons Lite -sticker&amp;gif</td>\n",
       "      <td>PERSONALIZATION</td>\n",
       "      <td>0.833469</td>\n",
       "    </tr>\n",
       "    <tr>\n",
       "      <th>...</th>\n",
       "      <td>...</td>\n",
       "      <td>...</td>\n",
       "      <td>...</td>\n",
       "    </tr>\n",
       "    <tr>\n",
       "      <th>843</th>\n",
       "      <td>Hotels.com: Book Hotel Rooms &amp; Find Vacation D...</td>\n",
       "      <td>TRAVEL_AND_LOCAL</td>\n",
       "      <td>0.213013</td>\n",
       "    </tr>\n",
       "    <tr>\n",
       "      <th>844</th>\n",
       "      <td>Hotspot Shield Free VPN Proxy &amp; Wi-Fi Security</td>\n",
       "      <td>TOOLS</td>\n",
       "      <td>0.456832</td>\n",
       "    </tr>\n",
       "    <tr>\n",
       "      <th>845</th>\n",
       "      <td>Hotstar</td>\n",
       "      <td>ENTERTAINMENT</td>\n",
       "      <td>0.053837</td>\n",
       "    </tr>\n",
       "    <tr>\n",
       "      <th>846</th>\n",
       "      <td>Hotwire Hotel &amp; Car Rental App</td>\n",
       "      <td>TRAVEL_AND_LOCAL</td>\n",
       "      <td>0.321771</td>\n",
       "    </tr>\n",
       "    <tr>\n",
       "      <th>847</th>\n",
       "      <td>Housing-Real Estate &amp; Property</td>\n",
       "      <td>LIFESTYLE</td>\n",
       "      <td>-0.281928</td>\n",
       "    </tr>\n",
       "  </tbody>\n",
       "</table>\n",
       "<p>848 rows × 3 columns</p>\n",
       "</div>"
      ],
      "text/plain": [
       "                                                   App            Category  \\\n",
       "0                                10 Best Foods for You  HEALTH_AND_FITNESS   \n",
       "1                                                 11st            SHOPPING   \n",
       "2                           1800 Contacts - Lens Store             MEDICAL   \n",
       "3                      1LINE – One Line with One Touch                GAME   \n",
       "4     2018Emoji Keyboard 😂 Emoticons Lite -sticker&gif     PERSONALIZATION   \n",
       "..                                                 ...                 ...   \n",
       "843  Hotels.com: Book Hotel Rooms & Find Vacation D...    TRAVEL_AND_LOCAL   \n",
       "844     Hotspot Shield Free VPN Proxy & Wi-Fi Security               TOOLS   \n",
       "845                                            Hotstar       ENTERTAINMENT   \n",
       "846                     Hotwire Hotel & Car Rental App    TRAVEL_AND_LOCAL   \n",
       "847                     Housing-Real Estate & Property           LIFESTYLE   \n",
       "\n",
       "     Sentiment_Objectivity  \n",
       "0              -102.148813  \n",
       "1                 0.195005  \n",
       "2                 0.400902  \n",
       "3                 0.304564  \n",
       "4                 0.833469  \n",
       "..                     ...  \n",
       "843               0.213013  \n",
       "844               0.456832  \n",
       "845               0.053837  \n",
       "846               0.321771  \n",
       "847              -0.281928  \n",
       "\n",
       "[848 rows x 3 columns]"
      ]
     },
     "execution_count": 41,
     "metadata": {},
     "output_type": "execute_result"
    }
   ],
   "source": [
    "new_df = df2.merge(df, how = \"left\", on = \"App\")[[\"App\", \"Sentiment_Objectivity\", \"Category\"]]\n",
    "new_df = new_df.groupby([\"App\", \"Category\"])[\"Sentiment_Objectivity\"].mean().reset_index()\n",
    "new_df"
   ]
  },
  {
   "cell_type": "markdown",
   "metadata": {
    "slideshow": {
     "slide_type": "subslide"
    }
   },
   "source": [
    "- Sau đó ta sẽ hiển thị những ứng dụng được 'đánh giá tốt nhất' trong mỗi thể loại trong dữ liệu."
   ]
  },
  {
   "cell_type": "code",
   "execution_count": 42,
   "metadata": {
    "slideshow": {
     "slide_type": "fragment"
    }
   },
   "outputs": [
    {
     "data": {
      "text/html": [
       "<div>\n",
       "<style scoped>\n",
       "    .dataframe tbody tr th:only-of-type {\n",
       "        vertical-align: middle;\n",
       "    }\n",
       "\n",
       "    .dataframe tbody tr th {\n",
       "        vertical-align: top;\n",
       "    }\n",
       "\n",
       "    .dataframe thead th {\n",
       "        text-align: right;\n",
       "    }\n",
       "</style>\n",
       "<table border=\"1\" class=\"dataframe\">\n",
       "  <thead>\n",
       "    <tr style=\"text-align: right;\">\n",
       "      <th>Category</th>\n",
       "      <th>ART_AND_DESIGN</th>\n",
       "      <th>AUTO_AND_VEHICLES</th>\n",
       "      <th>BEAUTY</th>\n",
       "      <th>BOOKS_AND_REFERENCE</th>\n",
       "      <th>BUSINESS</th>\n",
       "      <th>COMICS</th>\n",
       "      <th>COMMUNICATION</th>\n",
       "      <th>DATING</th>\n",
       "      <th>EDUCATION</th>\n",
       "      <th>ENTERTAINMENT</th>\n",
       "      <th>...</th>\n",
       "      <th>PERSONALIZATION</th>\n",
       "      <th>PHOTOGRAPHY</th>\n",
       "      <th>PRODUCTIVITY</th>\n",
       "      <th>SHOPPING</th>\n",
       "      <th>SOCIAL</th>\n",
       "      <th>SPORTS</th>\n",
       "      <th>TOOLS</th>\n",
       "      <th>TRAVEL_AND_LOCAL</th>\n",
       "      <th>VIDEO_PLAYERS</th>\n",
       "      <th>WEATHER</th>\n",
       "    </tr>\n",
       "  </thead>\n",
       "  <tbody>\n",
       "    <tr>\n",
       "      <th>App</th>\n",
       "      <td>Canva: Poster, banner, card maker &amp; graphic de...</td>\n",
       "      <td>AutoScout24 Switzerland – Find your new car</td>\n",
       "      <td>Hairstyles step by step</td>\n",
       "      <td>Golden Dictionary (EN-AR)</td>\n",
       "      <td>Google My Business</td>\n",
       "      <td>DC Comics</td>\n",
       "      <td>Contacts+</td>\n",
       "      <td>Chat Rooms, Avatars, Date - Galaxy</td>\n",
       "      <td>Edmodo</td>\n",
       "      <td>Amazon Prime Video</td>\n",
       "      <td>...</td>\n",
       "      <td>APUS Launcher - Theme, Wallpaper, Hide Apps</td>\n",
       "      <td>Cameringo Lite. Filters Camera</td>\n",
       "      <td>AutoCAD - DWG Viewer &amp; Editor</td>\n",
       "      <td>Flipp - Weekly Shopping</td>\n",
       "      <td>Badoo - Free Chat &amp; Dating App</td>\n",
       "      <td>All Football - Latest News &amp; Videos</td>\n",
       "      <td>App vault</td>\n",
       "      <td>Google Trips - Travel Planner</td>\n",
       "      <td>All Video Downloader 2018</td>\n",
       "      <td>APE Weather ( Live Forecast)</td>\n",
       "    </tr>\n",
       "  </tbody>\n",
       "</table>\n",
       "<p>1 rows × 33 columns</p>\n",
       "</div>"
      ],
      "text/plain": [
       "Category                                     ART_AND_DESIGN  \\\n",
       "App       Canva: Poster, banner, card maker & graphic de...   \n",
       "\n",
       "Category                            AUTO_AND_VEHICLES  \\\n",
       "App       AutoScout24 Switzerland – Find your new car   \n",
       "\n",
       "Category                   BEAUTY        BOOKS_AND_REFERENCE  \\\n",
       "App       Hairstyles step by step  Golden Dictionary (EN-AR)   \n",
       "\n",
       "Category            BUSINESS     COMICS COMMUNICATION  \\\n",
       "App       Google My Business  DC Comics     Contacts+   \n",
       "\n",
       "Category                              DATING EDUCATION       ENTERTAINMENT  \\\n",
       "App       Chat Rooms, Avatars, Date - Galaxy    Edmodo  Amazon Prime Video   \n",
       "\n",
       "Category  ...                              PERSONALIZATION  \\\n",
       "App       ...  APUS Launcher - Theme, Wallpaper, Hide Apps   \n",
       "\n",
       "Category                     PHOTOGRAPHY                   PRODUCTIVITY  \\\n",
       "App       Cameringo Lite. Filters Camera  AutoCAD - DWG Viewer & Editor   \n",
       "\n",
       "Category                 SHOPPING                          SOCIAL  \\\n",
       "App       Flipp - Weekly Shopping  Badoo - Free Chat & Dating App   \n",
       "\n",
       "Category                               SPORTS      TOOLS  \\\n",
       "App       All Football - Latest News & Videos  App vault   \n",
       "\n",
       "Category               TRAVEL_AND_LOCAL              VIDEO_PLAYERS  \\\n",
       "App       Google Trips - Travel Planner  All Video Downloader 2018   \n",
       "\n",
       "Category                       WEATHER  \n",
       "App       APE Weather ( Live Forecast)  \n",
       "\n",
       "[1 rows x 33 columns]"
      ]
     },
     "execution_count": 42,
     "metadata": {},
     "output_type": "execute_result"
    }
   ],
   "source": [
    "g = new_df.groupby(\"Category\")\n",
    "res = g.apply(lambda x: x.sort_values(by = \"Sentiment_Objectivity\", ascending=False).drop_duplicates(subset=\"App\").head(1)[\"App\"])\n",
    "temp_df = pd.DataFrame(res)\n",
    "temp_df = temp_df.reset_index().drop(\"level_1\", axis=1).set_index(\"Category\")\n",
    "temp_df.T"
   ]
  },
  {
   "cell_type": "markdown",
   "metadata": {
    "slideshow": {
     "slide_type": "subslide"
    }
   },
   "source": [
    "`Nhận xét`:\n",
    "- Qua việc trả lời câu hỏi trên, ta có thể tìm được ứng dụng nào được xem là làm hài lòng người sử dụng nhất ở mỗi thể loại. Điều này sẽ có ích cho cả các nhà phát triển ứng dụng lẫn người sử dụng.\n",
    "- Với những người lập trình, phát triển ứng dụng, khi cần xây dựng ứng dụng thuộc một thể loại nào đó. Người ta có thể tham khảo những ứng dụng được đánh giá cao để học hỏi.\n",
    "- Còn với người sử dụng, khi có nhu cầu về một loại ứng dụng nào, có thể dễ dàng dựa vào đây để tìm sản phẩm phù hợp cho mình. Mà không phí thời gian, tiền của vào những ứng dụng không đáng."
   ]
  },
  {
   "cell_type": "markdown",
   "metadata": {
    "slideshow": {
     "slide_type": "skip"
    }
   },
   "source": [
    "---"
   ]
  },
  {
   "cell_type": "markdown",
   "metadata": {
    "slideshow": {
     "slide_type": "slide"
    }
   },
   "source": [
    "# Nhìn lại quá trình làm đồ án."
   ]
  },
  {
   "cell_type": "markdown",
   "metadata": {
    "slideshow": {
     "slide_type": "subslide"
    }
   },
   "source": [
    "## Khó khăn."
   ]
  },
  {
   "cell_type": "markdown",
   "metadata": {
    "slideshow": {
     "slide_type": "fragment"
    }
   },
   "source": [
    "- Tìm dữ liệu thực sự có ích để phân tích.\n",
    "- Đưa ra các câu hỏi sao cho có ý nghĩa thực tiễn"
   ]
  },
  {
   "cell_type": "markdown",
   "metadata": {
    "slideshow": {
     "slide_type": "subslide"
    }
   },
   "source": [
    "## Học hỏi được qua đồ án."
   ]
  },
  {
   "cell_type": "markdown",
   "metadata": {
    "slideshow": {
     "slide_type": "fragment"
    }
   },
   "source": [
    "- Cách làm việc nhóm.\n",
    "- Cách sử dụng các thư viện numpy, pandas, matplotlib một cách hiệu quả.\n",
    "- Các bước để phân tích dữ liệu."
   ]
  },
  {
   "cell_type": "markdown",
   "metadata": {
    "slideshow": {
     "slide_type": "fragment"
    }
   },
   "source": [
    "## Cải thiện đồ án nếu còn thời gian."
   ]
  },
  {
   "cell_type": "markdown",
   "metadata": {
    "slideshow": {
     "slide_type": "fragment"
    }
   },
   "source": [
    "- Ở dữ liệu này thì tụi em nghĩ có thể áp dụng Machine Learning vào để:\n",
    "    + Dự đoán Rating, Installs của một ứng dụng.\n",
    "    + Phân tích Review của khách hàng để đánh giá được Review đó như thế nào.\n",
    "- Dữ liệu này tụi em nghĩ nó còn có thể phân tích thêm để trả lời thêm một số câu hỏi khác nên nếu có thời gian tụi em sẽ tìm hiểu kĩ hơn nữa để đưa ra thêm các câu hỏi có ý nghĩa với người tạo nên ứng dụng và người sử dụng ứng dụng đó."
   ]
  },
  {
   "cell_type": "markdown",
   "metadata": {
    "slideshow": {
     "slide_type": "slide"
    }
   },
   "source": [
    "# Tài liệu tham khảo"
   ]
  },
  {
   "cell_type": "markdown",
   "metadata": {
    "slideshow": {
     "slide_type": "fragment"
    }
   },
   "source": [
    "- Link tham khảo: https://www.kaggle.com/lava18/google-play-store-apps/tasks"
   ]
  },
  {
   "cell_type": "markdown",
   "metadata": {
    "slideshow": {
     "slide_type": "slide"
    }
   },
   "source": [
    "Nhóm em xin chân thành cảm ơn"
   ]
  }
 ],
 "metadata": {
  "kernelspec": {
   "display_name": "Python 3",
   "language": "python",
   "name": "python3"
  },
  "language_info": {
   "codemirror_mode": {
    "name": "ipython",
    "version": 3
   },
   "file_extension": ".py",
   "mimetype": "text/x-python",
   "name": "python",
   "nbconvert_exporter": "python",
   "pygments_lexer": "ipython3",
   "version": "3.8.5"
  },
  "toc": {
   "base_numbering": 1,
   "nav_menu": {},
   "number_sections": true,
   "sideBar": true,
   "skip_h1_title": false,
   "title_cell": "Table of Contents",
   "title_sidebar": "Contents",
   "toc_cell": true,
   "toc_position": {},
   "toc_section_display": true,
   "toc_window_display": false
  }
 },
 "nbformat": 4,
 "nbformat_minor": 4
}
