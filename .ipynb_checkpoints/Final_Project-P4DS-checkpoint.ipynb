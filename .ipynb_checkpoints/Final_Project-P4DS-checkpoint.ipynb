{
 "cells": [
  {
   "cell_type": "markdown",
   "metadata": {
    "toc": true
   },
   "source": [
    "<h1>Table of Contents<span class=\"tocSkip\"></span></h1>\n",
    "<div class=\"toc\"><ul class=\"toc-item\"><li><span><a href=\"#Import-thư-viện\" data-toc-modified-id=\"Import-thư-viện-1\"><span class=\"toc-item-num\">1&nbsp;&nbsp;</span>Import thư viện</a></span></li><li><span><a href=\"#Thu-thập-dữ-liệu\" data-toc-modified-id=\"Thu-thập-dữ-liệu-2\"><span class=\"toc-item-num\">2&nbsp;&nbsp;</span>Thu thập dữ liệu</a></span></li><li><span><a href=\"#Khám-phá,-tiền-xử-lí-dữ-liệu\" data-toc-modified-id=\"Khám-phá,-tiền-xử-lí-dữ-liệu-3\"><span class=\"toc-item-num\">3&nbsp;&nbsp;</span>Khám phá, tiền xử lí dữ liệu</a></span></li><li><span><a href=\"#Các-câu-hỏi-từ-dữ-liệu\" data-toc-modified-id=\"Các-câu-hỏi-từ-dữ-liệu-4\"><span class=\"toc-item-num\">4&nbsp;&nbsp;</span>Các câu hỏi từ dữ liệu</a></span><ul class=\"toc-item\"><li><span><a href=\"#Xây-dựng-ứng-dụng-về-các-chủ-đề-nào-là-tốt?\" data-toc-modified-id=\"Xây-dựng-ứng-dụng-về-các-chủ-đề-nào-là-tốt?-4.1\"><span class=\"toc-item-num\">4.1&nbsp;&nbsp;</span>Xây dựng ứng dụng về các chủ đề nào là tốt?</a></span></li></ul></li></ul></div>"
   ]
  },
  {
   "cell_type": "markdown",
   "metadata": {},
   "source": [
    "# Import thư viện"
   ]
  },
  {
   "cell_type": "code",
   "execution_count": 1,
   "metadata": {},
   "outputs": [],
   "source": [
    "import pandas as pd\n",
    "import matplotlib.pyplot as plt\n",
    "import datetime as dt\n",
    "import seaborn as sns\n",
    "import numpy as np"
   ]
  },
  {
   "cell_type": "markdown",
   "metadata": {},
   "source": [
    "# Thu thập dữ liệu"
   ]
  },
  {
   "cell_type": "markdown",
   "metadata": {},
   "source": [
    "- Chủ đề của dữ liệu: `Các ứng dụng trên Google Play Store`\n",
    "\n",
    "Các thông tin về ứng dụng trên Google Play Store có thể thúc đẩy các doanh nghiệp sản xuất các ứng dụng thành công hơn. Ngoài ra, những thông tin này còn có thể giúp các nhà phát triển hiểu thêm và nắm bắt thị trường Android."
   ]
  },
  {
   "cell_type": "markdown",
   "metadata": {},
   "source": [
    "- Dữ liệu được lấy từ kaggle: https://www.kaggle.com/lava18/google-play-store-apps?select=googleplaystore.csv "
   ]
  },
  {
   "cell_type": "markdown",
   "metadata": {},
   "source": [
    "- Dữ liệu được thu thập như thế nào?"
   ]
  },
  {
   "cell_type": "markdown",
   "metadata": {},
   "source": [
    "Dữ liệu được lấy trên Google Play Store"
   ]
  },
  {
   "cell_type": "markdown",
   "metadata": {},
   "source": [
    "- Lấy dữ liệu file `googleplaystore.csv`"
   ]
  },
  {
   "cell_type": "code",
   "execution_count": 2,
   "metadata": {},
   "outputs": [
    {
     "data": {
      "text/html": [
       "<div>\n",
       "<style scoped>\n",
       "    .dataframe tbody tr th:only-of-type {\n",
       "        vertical-align: middle;\n",
       "    }\n",
       "\n",
       "    .dataframe tbody tr th {\n",
       "        vertical-align: top;\n",
       "    }\n",
       "\n",
       "    .dataframe thead th {\n",
       "        text-align: right;\n",
       "    }\n",
       "</style>\n",
       "<table border=\"1\" class=\"dataframe\">\n",
       "  <thead>\n",
       "    <tr style=\"text-align: right;\">\n",
       "      <th></th>\n",
       "      <th>App</th>\n",
       "      <th>Category</th>\n",
       "      <th>Rating</th>\n",
       "      <th>Reviews</th>\n",
       "      <th>Size</th>\n",
       "      <th>Installs</th>\n",
       "      <th>Type</th>\n",
       "      <th>Price</th>\n",
       "      <th>Content Rating</th>\n",
       "      <th>Genres</th>\n",
       "      <th>Last Updated</th>\n",
       "      <th>Current Ver</th>\n",
       "      <th>Android Ver</th>\n",
       "    </tr>\n",
       "  </thead>\n",
       "  <tbody>\n",
       "    <tr>\n",
       "      <th>0</th>\n",
       "      <td>Photo Editor &amp; Candy Camera &amp; Grid &amp; ScrapBook</td>\n",
       "      <td>ART_AND_DESIGN</td>\n",
       "      <td>4.1</td>\n",
       "      <td>159</td>\n",
       "      <td>19M</td>\n",
       "      <td>10,000+</td>\n",
       "      <td>Free</td>\n",
       "      <td>0</td>\n",
       "      <td>Everyone</td>\n",
       "      <td>Art &amp; Design</td>\n",
       "      <td>7-Jan-18</td>\n",
       "      <td>1.0.0</td>\n",
       "      <td>4.0.3 and up</td>\n",
       "    </tr>\n",
       "    <tr>\n",
       "      <th>1</th>\n",
       "      <td>Coloring book moana</td>\n",
       "      <td>ART_AND_DESIGN</td>\n",
       "      <td>3.9</td>\n",
       "      <td>967</td>\n",
       "      <td>14M</td>\n",
       "      <td>500,000+</td>\n",
       "      <td>Free</td>\n",
       "      <td>0</td>\n",
       "      <td>Everyone</td>\n",
       "      <td>Art &amp; Design;Pretend Play</td>\n",
       "      <td>15-Jan-18</td>\n",
       "      <td>2.0.0</td>\n",
       "      <td>4.0.3 and up</td>\n",
       "    </tr>\n",
       "    <tr>\n",
       "      <th>2</th>\n",
       "      <td>U Launcher Lite – FREE Live Cool Themes, Hide ...</td>\n",
       "      <td>ART_AND_DESIGN</td>\n",
       "      <td>4.7</td>\n",
       "      <td>87510</td>\n",
       "      <td>8.7M</td>\n",
       "      <td>5,000,000+</td>\n",
       "      <td>Free</td>\n",
       "      <td>0</td>\n",
       "      <td>Everyone</td>\n",
       "      <td>Art &amp; Design</td>\n",
       "      <td>1-Aug-18</td>\n",
       "      <td>1.2.4</td>\n",
       "      <td>4.0.3 and up</td>\n",
       "    </tr>\n",
       "    <tr>\n",
       "      <th>3</th>\n",
       "      <td>Sketch - Draw &amp; Paint</td>\n",
       "      <td>ART_AND_DESIGN</td>\n",
       "      <td>4.5</td>\n",
       "      <td>215644</td>\n",
       "      <td>25M</td>\n",
       "      <td>50,000,000+</td>\n",
       "      <td>Free</td>\n",
       "      <td>0</td>\n",
       "      <td>Teen</td>\n",
       "      <td>Art &amp; Design</td>\n",
       "      <td>8-Jun-18</td>\n",
       "      <td>Varies with device</td>\n",
       "      <td>4.2 and up</td>\n",
       "    </tr>\n",
       "    <tr>\n",
       "      <th>4</th>\n",
       "      <td>Pixel Draw - Number Art Coloring Book</td>\n",
       "      <td>ART_AND_DESIGN</td>\n",
       "      <td>4.3</td>\n",
       "      <td>967</td>\n",
       "      <td>2.8M</td>\n",
       "      <td>100,000+</td>\n",
       "      <td>Free</td>\n",
       "      <td>0</td>\n",
       "      <td>Everyone</td>\n",
       "      <td>Art &amp; Design;Creativity</td>\n",
       "      <td>20-Jun-18</td>\n",
       "      <td>1.1</td>\n",
       "      <td>4.4 and up</td>\n",
       "    </tr>\n",
       "  </tbody>\n",
       "</table>\n",
       "</div>"
      ],
      "text/plain": [
       "                                                 App        Category  Rating  \\\n",
       "0     Photo Editor & Candy Camera & Grid & ScrapBook  ART_AND_DESIGN     4.1   \n",
       "1                                Coloring book moana  ART_AND_DESIGN     3.9   \n",
       "2  U Launcher Lite – FREE Live Cool Themes, Hide ...  ART_AND_DESIGN     4.7   \n",
       "3                              Sketch - Draw & Paint  ART_AND_DESIGN     4.5   \n",
       "4              Pixel Draw - Number Art Coloring Book  ART_AND_DESIGN     4.3   \n",
       "\n",
       "   Reviews  Size     Installs  Type Price Content Rating  \\\n",
       "0      159   19M      10,000+  Free     0       Everyone   \n",
       "1      967   14M     500,000+  Free     0       Everyone   \n",
       "2    87510  8.7M   5,000,000+  Free     0       Everyone   \n",
       "3   215644   25M  50,000,000+  Free     0           Teen   \n",
       "4      967  2.8M     100,000+  Free     0       Everyone   \n",
       "\n",
       "                      Genres Last Updated         Current Ver   Android Ver  \n",
       "0               Art & Design     7-Jan-18               1.0.0  4.0.3 and up  \n",
       "1  Art & Design;Pretend Play    15-Jan-18               2.0.0  4.0.3 and up  \n",
       "2               Art & Design     1-Aug-18               1.2.4  4.0.3 and up  \n",
       "3               Art & Design     8-Jun-18  Varies with device    4.2 and up  \n",
       "4    Art & Design;Creativity    20-Jun-18                 1.1    4.4 and up  "
      ]
     },
     "execution_count": 2,
     "metadata": {},
     "output_type": "execute_result"
    }
   ],
   "source": [
    "df = pd.read_csv(\"data\\googleplaystore.csv\")\n",
    "df.head()"
   ]
  },
  {
   "cell_type": "markdown",
   "metadata": {},
   "source": [
    "# Khám phá, tiền xử lí dữ liệu"
   ]
  },
  {
   "cell_type": "markdown",
   "metadata": {},
   "source": [
    "- Dữ liệu có bao nhiêu dòng, cột?"
   ]
  },
  {
   "cell_type": "code",
   "execution_count": 3,
   "metadata": {},
   "outputs": [],
   "source": [
    "nrow = df.shape[0]\n",
    "ncol = df.shape[1]"
   ]
  },
  {
   "cell_type": "code",
   "execution_count": 4,
   "metadata": {},
   "outputs": [
    {
     "name": "stdout",
     "output_type": "stream",
     "text": [
      "Dữ liệu có 10841 dòng\n",
      "Dữ liệu có 13 cột\n"
     ]
    }
   ],
   "source": [
    "print(\"Dữ liệu có {} dòng\".format(nrow))\n",
    "print(\"Dữ liệu có {} cột\".format(ncol))"
   ]
  },
  {
   "cell_type": "markdown",
   "metadata": {},
   "source": [
    "- Ý nghĩa của mỗi dòng là gì?`"
   ]
  },
  {
   "cell_type": "markdown",
   "metadata": {},
   "source": [
    "Mỗi dòng tương ứng với mỗi App với các dữ liệu về tên app, loại app, rating, lượng review, kích cỡ, giá,..."
   ]
  },
  {
   "cell_type": "markdown",
   "metadata": {},
   "source": [
    "- Dữ liệu có các dòng bị lặp không?"
   ]
  },
  {
   "cell_type": "code",
   "execution_count": 5,
   "metadata": {
    "scrolled": false
   },
   "outputs": [
    {
     "name": "stdout",
     "output_type": "stream",
     "text": [
      "Dữ liệu có 483 dòng bị lặp\n"
     ]
    }
   ],
   "source": [
    "nduplicated = df.duplicated().sum()\n",
    "print(\"Dữ liệu có {} dòng bị lặp\".format(nduplicated))"
   ]
  },
  {
   "cell_type": "markdown",
   "metadata": {},
   "source": [
    "- Có cột nào bị mất dữ liệu không?"
   ]
  },
  {
   "cell_type": "code",
   "execution_count": 6,
   "metadata": {},
   "outputs": [
    {
     "data": {
      "text/html": [
       "<div>\n",
       "<style scoped>\n",
       "    .dataframe tbody tr th:only-of-type {\n",
       "        vertical-align: middle;\n",
       "    }\n",
       "\n",
       "    .dataframe tbody tr th {\n",
       "        vertical-align: top;\n",
       "    }\n",
       "\n",
       "    .dataframe thead th {\n",
       "        text-align: right;\n",
       "    }\n",
       "</style>\n",
       "<table border=\"1\" class=\"dataframe\">\n",
       "  <thead>\n",
       "    <tr style=\"text-align: right;\">\n",
       "      <th></th>\n",
       "      <th>App</th>\n",
       "      <th>Category</th>\n",
       "      <th>Rating</th>\n",
       "      <th>Reviews</th>\n",
       "      <th>Size</th>\n",
       "      <th>Installs</th>\n",
       "      <th>Type</th>\n",
       "      <th>Price</th>\n",
       "      <th>Content Rating</th>\n",
       "      <th>Genres</th>\n",
       "      <th>Last Updated</th>\n",
       "      <th>Current Ver</th>\n",
       "      <th>Android Ver</th>\n",
       "    </tr>\n",
       "  </thead>\n",
       "  <tbody>\n",
       "    <tr>\n",
       "      <th>missing_ratio</th>\n",
       "      <td>0.0</td>\n",
       "      <td>0.009224</td>\n",
       "      <td>13.596532</td>\n",
       "      <td>0.0</td>\n",
       "      <td>0.0</td>\n",
       "      <td>0.0</td>\n",
       "      <td>0.009224</td>\n",
       "      <td>0.0</td>\n",
       "      <td>0.0</td>\n",
       "      <td>0.009224</td>\n",
       "      <td>0.0</td>\n",
       "      <td>0.073794</td>\n",
       "      <td>0.018448</td>\n",
       "    </tr>\n",
       "  </tbody>\n",
       "</table>\n",
       "</div>"
      ],
      "text/plain": [
       "               App  Category     Rating  Reviews  Size  Installs      Type  \\\n",
       "missing_ratio  0.0  0.009224  13.596532      0.0   0.0       0.0  0.009224   \n",
       "\n",
       "               Price  Content Rating    Genres  Last Updated  Current Ver  \\\n",
       "missing_ratio    0.0             0.0  0.009224           0.0     0.073794   \n",
       "\n",
       "               Android Ver  \n",
       "missing_ratio     0.018448  "
      ]
     },
     "execution_count": 6,
     "metadata": {},
     "output_type": "execute_result"
    }
   ],
   "source": [
    "def missing_ratio(s):\n",
    "    return s.isna().mean() * 100\n",
    "df.agg([missing_ratio])"
   ]
  },
  {
   "cell_type": "markdown",
   "metadata": {},
   "source": [
    "- Mô tả về ý nghĩa của mỗi cột"
   ]
  },
  {
   "cell_type": "markdown",
   "metadata": {},
   "source": [
    "- Mỗi cột có kiểu dữ liệu gì?"
   ]
  },
  {
   "cell_type": "code",
   "execution_count": 7,
   "metadata": {},
   "outputs": [
    {
     "data": {
      "text/plain": [
       "App                object\n",
       "Category           object\n",
       "Rating            float64\n",
       "Reviews             int64\n",
       "Size               object\n",
       "Installs           object\n",
       "Type               object\n",
       "Price              object\n",
       "Content Rating     object\n",
       "Genres             object\n",
       "Last Updated       object\n",
       "Current Ver        object\n",
       "Android Ver        object\n",
       "dtype: object"
      ]
     },
     "execution_count": 7,
     "metadata": {},
     "output_type": "execute_result"
    }
   ],
   "source": [
    "df.dtypes"
   ]
  },
  {
   "cell_type": "markdown",
   "metadata": {},
   "source": [
    "`Nhận xét`:\n",
    "- Cột Size, Install, Price cần chuyển cột này về kiểu dữ liệu dạng số.\n",
    "- Cột Last Updated cần chuyển cột này về kiểu dữ liệu datetime."
   ]
  },
  {
   "cell_type": "markdown",
   "metadata": {},
   "source": [
    "- Với mỗi cột dữ liệu dạng số (numeric), các giá trị được phân bố như thế nào?"
   ]
  },
  {
   "cell_type": "code",
   "execution_count": 8,
   "metadata": {},
   "outputs": [],
   "source": [
    "df[\"Size\"] = df[\"Size\"].apply(lambda x: x.replace(\"M\", \"e+6\").replace(\"k\",\"e+3\").replace(\"Varies with device\",\"0\"))\n",
    "df[\"Size\"] = pd.to_numeric(df[\"Size\"])"
   ]
  },
  {
   "cell_type": "code",
   "execution_count": 9,
   "metadata": {},
   "outputs": [],
   "source": [
    "df[\"Installs\"] = df[\"Installs\"].apply(lambda x: x.replace(\"+\", \"\").replace(\",\",\"\"))\n",
    "df[\"Installs\"] = pd.to_numeric(df[\"Installs\"])"
   ]
  },
  {
   "cell_type": "code",
   "execution_count": 10,
   "metadata": {},
   "outputs": [],
   "source": [
    "df[\"Price\"] = df[\"Price\"].apply(lambda x: x.replace(\"$\", \"\"))\n",
    "df[\"Price\"] = pd.to_numeric(df[\"Price\"])"
   ]
  },
  {
   "cell_type": "code",
   "execution_count": 11,
   "metadata": {},
   "outputs": [
    {
     "data": {
      "text/html": [
       "<div>\n",
       "<style scoped>\n",
       "    .dataframe tbody tr th:only-of-type {\n",
       "        vertical-align: middle;\n",
       "    }\n",
       "\n",
       "    .dataframe tbody tr th {\n",
       "        vertical-align: top;\n",
       "    }\n",
       "\n",
       "    .dataframe thead th {\n",
       "        text-align: right;\n",
       "    }\n",
       "</style>\n",
       "<table border=\"1\" class=\"dataframe\">\n",
       "  <thead>\n",
       "    <tr style=\"text-align: right;\">\n",
       "      <th></th>\n",
       "      <th>Rating</th>\n",
       "      <th>Reviews</th>\n",
       "      <th>Size</th>\n",
       "      <th>Installs</th>\n",
       "      <th>Price</th>\n",
       "    </tr>\n",
       "  </thead>\n",
       "  <tbody>\n",
       "    <tr>\n",
       "      <th>count</th>\n",
       "      <td>9367.000000</td>\n",
       "      <td>1.084100e+04</td>\n",
       "      <td>1.084100e+04</td>\n",
       "      <td>1.084100e+04</td>\n",
       "      <td>10841.000000</td>\n",
       "    </tr>\n",
       "    <tr>\n",
       "      <th>mean</th>\n",
       "      <td>4.191513</td>\n",
       "      <td>4.441119e+05</td>\n",
       "      <td>1.815069e+07</td>\n",
       "      <td>1.546291e+07</td>\n",
       "      <td>1.027273</td>\n",
       "    </tr>\n",
       "    <tr>\n",
       "      <th>std</th>\n",
       "      <td>0.515735</td>\n",
       "      <td>2.927629e+06</td>\n",
       "      <td>2.217006e+07</td>\n",
       "      <td>8.502557e+07</td>\n",
       "      <td>15.948971</td>\n",
       "    </tr>\n",
       "    <tr>\n",
       "      <th>min</th>\n",
       "      <td>1.000000</td>\n",
       "      <td>0.000000e+00</td>\n",
       "      <td>0.000000e+00</td>\n",
       "      <td>0.000000e+00</td>\n",
       "      <td>0.000000</td>\n",
       "    </tr>\n",
       "    <tr>\n",
       "      <th>25%</th>\n",
       "      <td>4.000000</td>\n",
       "      <td>3.800000e+01</td>\n",
       "      <td>2.600000e+06</td>\n",
       "      <td>1.000000e+03</td>\n",
       "      <td>0.000000</td>\n",
       "    </tr>\n",
       "    <tr>\n",
       "      <th>50%</th>\n",
       "      <td>4.300000</td>\n",
       "      <td>2.094000e+03</td>\n",
       "      <td>9.200000e+06</td>\n",
       "      <td>1.000000e+05</td>\n",
       "      <td>0.000000</td>\n",
       "    </tr>\n",
       "    <tr>\n",
       "      <th>75%</th>\n",
       "      <td>4.500000</td>\n",
       "      <td>5.476800e+04</td>\n",
       "      <td>2.600000e+07</td>\n",
       "      <td>5.000000e+06</td>\n",
       "      <td>0.000000</td>\n",
       "    </tr>\n",
       "    <tr>\n",
       "      <th>max</th>\n",
       "      <td>5.000000</td>\n",
       "      <td>7.815831e+07</td>\n",
       "      <td>1.000000e+08</td>\n",
       "      <td>1.000000e+09</td>\n",
       "      <td>400.000000</td>\n",
       "    </tr>\n",
       "  </tbody>\n",
       "</table>\n",
       "</div>"
      ],
      "text/plain": [
       "            Rating       Reviews          Size      Installs         Price\n",
       "count  9367.000000  1.084100e+04  1.084100e+04  1.084100e+04  10841.000000\n",
       "mean      4.191513  4.441119e+05  1.815069e+07  1.546291e+07      1.027273\n",
       "std       0.515735  2.927629e+06  2.217006e+07  8.502557e+07     15.948971\n",
       "min       1.000000  0.000000e+00  0.000000e+00  0.000000e+00      0.000000\n",
       "25%       4.000000  3.800000e+01  2.600000e+06  1.000000e+03      0.000000\n",
       "50%       4.300000  2.094000e+03  9.200000e+06  1.000000e+05      0.000000\n",
       "75%       4.500000  5.476800e+04  2.600000e+07  5.000000e+06      0.000000\n",
       "max       5.000000  7.815831e+07  1.000000e+08  1.000000e+09    400.000000"
      ]
     },
     "execution_count": 11,
     "metadata": {},
     "output_type": "execute_result"
    }
   ],
   "source": [
    "num_col_df = df.select_dtypes(exclude= 'object')\n",
    "num_col_df.describe()"
   ]
  },
  {
   "cell_type": "markdown",
   "metadata": {},
   "source": [
    "- Sự phân bố các cột numeric"
   ]
  },
  {
   "cell_type": "code",
   "execution_count": 12,
   "metadata": {
    "scrolled": false
   },
   "outputs": [
    {
     "name": "stderr",
     "output_type": "stream",
     "text": [
      "<ipython-input-12-2f9b1b529246>:3: UserWarning: To output multiple subplots, the figure containing the passed axes is being cleared\n",
      "  df[df.describe().columns].hist(ax = ax)\n"
     ]
    },
    {
     "data": {
      "image/png": "[encoded data removed]",
      "text/plain": [
       "<Figure size 1440x1080 with 6 Axes>"
      ]
     },
     "metadata": {
      "needs_background": "light"
     },
     "output_type": "display_data"
    }
   ],
   "source": [
    "fig = plt.figure(figsize = (20,15))\n",
    "ax = fig.gca()\n",
    "df[df.describe().columns].hist(ax = ax)\n",
    "plt.show()"
   ]
  },
  {
   "cell_type": "markdown",
   "metadata": {},
   "source": [
    "- Chuyển cột Last Updated sang kiểu datetime"
   ]
  },
  {
   "cell_type": "code",
   "execution_count": 13,
   "metadata": {},
   "outputs": [],
   "source": [
    "df[\"Last Updated\"] = pd.to_datetime(df[\"Last Updated\"], format = '%d-%b-%y', errors='coerce')"
   ]
  },
  {
   "cell_type": "markdown",
   "metadata": {},
   "source": [
    "- Với mỗi cột dữ liệu dạng phân loại (categorical), các giá trị được phân bố như thế nào?"
   ]
  },
  {
   "cell_type": "code",
   "execution_count": 14,
   "metadata": {},
   "outputs": [
    {
     "data": {
      "text/html": [
       "<div>\n",
       "<style scoped>\n",
       "    .dataframe tbody tr th:only-of-type {\n",
       "        vertical-align: middle;\n",
       "    }\n",
       "\n",
       "    .dataframe tbody tr th {\n",
       "        vertical-align: top;\n",
       "    }\n",
       "\n",
       "    .dataframe thead th {\n",
       "        text-align: right;\n",
       "    }\n",
       "</style>\n",
       "<table border=\"1\" class=\"dataframe\">\n",
       "  <thead>\n",
       "    <tr style=\"text-align: right;\">\n",
       "      <th></th>\n",
       "      <th>App</th>\n",
       "      <th>Category</th>\n",
       "      <th>Type</th>\n",
       "      <th>Content Rating</th>\n",
       "      <th>Genres</th>\n",
       "      <th>Current Ver</th>\n",
       "      <th>Android Ver</th>\n",
       "    </tr>\n",
       "  </thead>\n",
       "  <tbody>\n",
       "    <tr>\n",
       "      <th>count</th>\n",
       "      <td>10841</td>\n",
       "      <td>10840</td>\n",
       "      <td>10840</td>\n",
       "      <td>10841</td>\n",
       "      <td>10840</td>\n",
       "      <td>10833</td>\n",
       "      <td>10839</td>\n",
       "    </tr>\n",
       "    <tr>\n",
       "      <th>unique</th>\n",
       "      <td>9660</td>\n",
       "      <td>33</td>\n",
       "      <td>2</td>\n",
       "      <td>6</td>\n",
       "      <td>119</td>\n",
       "      <td>2783</td>\n",
       "      <td>33</td>\n",
       "    </tr>\n",
       "    <tr>\n",
       "      <th>top</th>\n",
       "      <td>ROBLOX</td>\n",
       "      <td>FAMILY</td>\n",
       "      <td>Free</td>\n",
       "      <td>Everyone</td>\n",
       "      <td>Tools</td>\n",
       "      <td>Varies with device</td>\n",
       "      <td>4.1 and up</td>\n",
       "    </tr>\n",
       "    <tr>\n",
       "      <th>freq</th>\n",
       "      <td>9</td>\n",
       "      <td>1972</td>\n",
       "      <td>10040</td>\n",
       "      <td>8715</td>\n",
       "      <td>842</td>\n",
       "      <td>1459</td>\n",
       "      <td>2451</td>\n",
       "    </tr>\n",
       "  </tbody>\n",
       "</table>\n",
       "</div>"
      ],
      "text/plain": [
       "           App Category   Type Content Rating Genres         Current Ver  \\\n",
       "count    10841    10840  10840          10841  10840               10833   \n",
       "unique    9660       33      2              6    119                2783   \n",
       "top     ROBLOX   FAMILY   Free       Everyone  Tools  Varies with device   \n",
       "freq         9     1972  10040           8715    842                1459   \n",
       "\n",
       "       Android Ver  \n",
       "count        10839  \n",
       "unique          33  \n",
       "top     4.1 and up  \n",
       "freq          2451  "
      ]
     },
     "execution_count": 14,
     "metadata": {},
     "output_type": "execute_result"
    }
   ],
   "source": [
    "cate_col_df = df.select_dtypes(include= 'object')\n",
    "cate_col_df.describe()"
   ]
  },
  {
   "cell_type": "markdown",
   "metadata": {},
   "source": [
    "# Các câu hỏi từ dữ liệu"
   ]
  },
  {
   "cell_type": "markdown",
   "metadata": {},
   "source": [
    "## Xây dựng ứng dụng về các chủ đề nào là tốt?"
   ]
  },
  {
   "cell_type": "markdown",
   "metadata": {},
   "source": [
    "- Các ứng dụng hiện này theo chủ đề nào là nhiều?"
   ]
  },
  {
   "cell_type": "code",
   "execution_count": 15,
   "metadata": {},
   "outputs": [
    {
     "data": {
      "text/plain": [
       "<AxesSubplot:xlabel='count', ylabel='Category'>"
      ]
     },
     "execution_count": 15,
     "metadata": {},
     "output_type": "execute_result"
    },
    {
     "data": {
      "image/png": "[encoded data removed]",
      "text/plain": [
       "<Figure size 1080x720 with 1 Axes>"
      ]
     },
     "metadata": {
      "needs_background": "light"
     },
     "output_type": "display_data"
    }
   ],
   "source": [
    "plt.figure(figsize=(15,10))\n",
    "sns.countplot(y = \"Category\", data = df, order = df['Category'].value_counts().index)"
   ]
  },
  {
   "cell_type": "markdown",
   "metadata": {},
   "source": [
    "- Lượng cài đặt ứng dụng với từng chủ đề là bao nhiêu?"
   ]
  },
  {
   "cell_type": "code",
   "execution_count": 16,
   "metadata": {
    "scrolled": false
   },
   "outputs": [
    {
     "data": {
      "text/plain": [
       "<BarContainer object of 33 artists>"
      ]
     },
     "execution_count": 16,
     "metadata": {},
     "output_type": "execute_result"
    },
    {
     "data": {
      "image/png": "[encoded data removed]",
      "text/plain": [
       "<Figure size 1080x720 with 1 Axes>"
      ]
     },
     "metadata": {
      "needs_background": "light"
     },
     "output_type": "display_data"
    }
   ],
   "source": [
    "temp_df = df.groupby(\"Category\")[\"Installs\"].mean()\n",
    "temp_df = temp_df.sort_values(ascending = True)\n",
    "plt.figure(figsize=(15,10))\n",
    "plt.barh(temp_df.index, temp_df)"
   ]
  },
  {
   "cell_type": "markdown",
   "metadata": {},
   "source": [
    "- Lấy top 5 `Category` được cài nhiều mỗi năm"
   ]
  },
  {
   "cell_type": "code",
   "execution_count": 17,
   "metadata": {},
   "outputs": [
    {
     "data": {
      "text/html": [
       "<div>\n",
       "<style scoped>\n",
       "    .dataframe tbody tr th:only-of-type {\n",
       "        vertical-align: middle;\n",
       "    }\n",
       "\n",
       "    .dataframe tbody tr th {\n",
       "        vertical-align: top;\n",
       "    }\n",
       "\n",
       "    .dataframe thead th {\n",
       "        text-align: right;\n",
       "    }\n",
       "</style>\n",
       "<table border=\"1\" class=\"dataframe\">\n",
       "  <thead>\n",
       "    <tr style=\"text-align: right;\">\n",
       "      <th>Year</th>\n",
       "      <th>2010</th>\n",
       "      <th>2011</th>\n",
       "      <th>2012</th>\n",
       "      <th>2013</th>\n",
       "      <th>2014</th>\n",
       "      <th>2015</th>\n",
       "      <th>2016</th>\n",
       "      <th>2017</th>\n",
       "      <th>2018</th>\n",
       "    </tr>\n",
       "    <tr>\n",
       "      <th>Top</th>\n",
       "      <th></th>\n",
       "      <th></th>\n",
       "      <th></th>\n",
       "      <th></th>\n",
       "      <th></th>\n",
       "      <th></th>\n",
       "      <th></th>\n",
       "      <th></th>\n",
       "      <th></th>\n",
       "    </tr>\n",
       "  </thead>\n",
       "  <tbody>\n",
       "    <tr>\n",
       "      <th>1</th>\n",
       "      <td>FAMILY</td>\n",
       "      <td>TOOLS</td>\n",
       "      <td>LIBRARIES_AND_DEMO</td>\n",
       "      <td>FAMILY</td>\n",
       "      <td>FAMILY</td>\n",
       "      <td>GAME</td>\n",
       "      <td>VIDEO_PLAYERS</td>\n",
       "      <td>PHOTOGRAPHY</td>\n",
       "      <td>TOOLS</td>\n",
       "    </tr>\n",
       "    <tr>\n",
       "      <th>2</th>\n",
       "      <td>NaN</td>\n",
       "      <td>GAME</td>\n",
       "      <td>GAME</td>\n",
       "      <td>GAME</td>\n",
       "      <td>PERSONALIZATION</td>\n",
       "      <td>BOOKS_AND_REFERENCE</td>\n",
       "      <td>GAME</td>\n",
       "      <td>GAME</td>\n",
       "      <td>GAME</td>\n",
       "    </tr>\n",
       "    <tr>\n",
       "      <th>3</th>\n",
       "      <td>NaN</td>\n",
       "      <td>LIBRARIES_AND_DEMO</td>\n",
       "      <td>HEALTH_AND_FITNESS</td>\n",
       "      <td>LIBRARIES_AND_DEMO</td>\n",
       "      <td>TOOLS</td>\n",
       "      <td>PHOTOGRAPHY</td>\n",
       "      <td>TOOLS</td>\n",
       "      <td>TOOLS</td>\n",
       "      <td>SOCIAL</td>\n",
       "    </tr>\n",
       "    <tr>\n",
       "      <th>4</th>\n",
       "      <td>NaN</td>\n",
       "      <td>BOOKS_AND_REFERENCE</td>\n",
       "      <td>FAMILY</td>\n",
       "      <td>PRODUCTIVITY</td>\n",
       "      <td>GAME</td>\n",
       "      <td>VIDEO_PLAYERS</td>\n",
       "      <td>PRODUCTIVITY</td>\n",
       "      <td>FAMILY</td>\n",
       "      <td>COMMUNICATION</td>\n",
       "    </tr>\n",
       "    <tr>\n",
       "      <th>5</th>\n",
       "      <td>NaN</td>\n",
       "      <td>LIFESTYLE</td>\n",
       "      <td>PHOTOGRAPHY</td>\n",
       "      <td>SPORTS</td>\n",
       "      <td>COMMUNICATION</td>\n",
       "      <td>FAMILY</td>\n",
       "      <td>FAMILY</td>\n",
       "      <td>SPORTS</td>\n",
       "      <td>TRAVEL_AND_LOCAL</td>\n",
       "    </tr>\n",
       "  </tbody>\n",
       "</table>\n",
       "</div>"
      ],
      "text/plain": [
       "Year    2010                 2011                2012                2013  \\\n",
       "Top                                                                         \n",
       "1     FAMILY                TOOLS  LIBRARIES_AND_DEMO              FAMILY   \n",
       "2        NaN                 GAME                GAME                GAME   \n",
       "3        NaN   LIBRARIES_AND_DEMO  HEALTH_AND_FITNESS  LIBRARIES_AND_DEMO   \n",
       "4        NaN  BOOKS_AND_REFERENCE              FAMILY        PRODUCTIVITY   \n",
       "5        NaN            LIFESTYLE         PHOTOGRAPHY              SPORTS   \n",
       "\n",
       "Year             2014                 2015           2016         2017  \\\n",
       "Top                                                                      \n",
       "1              FAMILY                 GAME  VIDEO_PLAYERS  PHOTOGRAPHY   \n",
       "2     PERSONALIZATION  BOOKS_AND_REFERENCE           GAME         GAME   \n",
       "3               TOOLS          PHOTOGRAPHY          TOOLS        TOOLS   \n",
       "4                GAME        VIDEO_PLAYERS   PRODUCTIVITY       FAMILY   \n",
       "5       COMMUNICATION               FAMILY         FAMILY       SPORTS   \n",
       "\n",
       "Year              2018  \n",
       "Top                     \n",
       "1                TOOLS  \n",
       "2                 GAME  \n",
       "3               SOCIAL  \n",
       "4        COMMUNICATION  \n",
       "5     TRAVEL_AND_LOCAL  "
      ]
     },
     "execution_count": 17,
     "metadata": {},
     "output_type": "execute_result"
    }
   ],
   "source": [
    "year_df = df.copy()\n",
    "year_df[\"Year\"] = df[\"Last Updated\"].dt.year\n",
    "###\n",
    "g = year_df.groupby(\"Year\")\n",
    "res = g.apply(lambda x: x.reset_index().sort_values(by = \"Installs\", ascending=False).drop_duplicates(subset=\"Category\").head(5)[\"Category\"])\n",
    "top5_category_year_df = pd.DataFrame(res)\n",
    "top5_category_year_df = top5_category_year_df.reset_index().drop(\"level_1\", axis=1)\n",
    "top5_category_year_df.index = np.concatenate([[1],np.arange(0, 40)%5 + 1])\n",
    "top5_category_year_df = top5_category_year_df.reset_index().rename(columns={'index': 'Top'})\n",
    "top5_category_year_df = top5_category_year_df.pivot(index='Top', columns='Year', values='Category')\n",
    "top5_category_year_df"
   ]
  },
  {
   "cell_type": "markdown",
   "metadata": {},
   "source": [
    "- Lấy top 5 `App` được cài đặt nhiều ứng với mỗi `Category`"
   ]
  },
  {
   "cell_type": "code",
   "execution_count": 18,
   "metadata": {
    "scrolled": false
   },
   "outputs": [
    {
     "data": {
      "text/html": [
       "<div>\n",
       "<style scoped>\n",
       "    .dataframe tbody tr th:only-of-type {\n",
       "        vertical-align: middle;\n",
       "    }\n",
       "\n",
       "    .dataframe tbody tr th {\n",
       "        vertical-align: top;\n",
       "    }\n",
       "\n",
       "    .dataframe thead th {\n",
       "        text-align: right;\n",
       "    }\n",
       "</style>\n",
       "<table border=\"1\" class=\"dataframe\">\n",
       "  <thead>\n",
       "    <tr style=\"text-align: right;\">\n",
       "      <th>Category</th>\n",
       "      <th>COMMUNICATION</th>\n",
       "      <th>SOCIAL</th>\n",
       "      <th>VIDEO_PLAYERS</th>\n",
       "      <th>PRODUCTIVITY</th>\n",
       "      <th>GAME</th>\n",
       "      <th>PHOTOGRAPHY</th>\n",
       "    </tr>\n",
       "    <tr>\n",
       "      <th>Top</th>\n",
       "      <th></th>\n",
       "      <th></th>\n",
       "      <th></th>\n",
       "      <th></th>\n",
       "      <th></th>\n",
       "      <th></th>\n",
       "    </tr>\n",
       "  </thead>\n",
       "  <tbody>\n",
       "    <tr>\n",
       "      <th>1</th>\n",
       "      <td>Messenger – Text and Video Chat for Free</td>\n",
       "      <td>Facebook</td>\n",
       "      <td>YouTube</td>\n",
       "      <td>Google Drive</td>\n",
       "      <td>Subway Surfers</td>\n",
       "      <td>Google Photos</td>\n",
       "    </tr>\n",
       "    <tr>\n",
       "      <th>2</th>\n",
       "      <td>Skype - free IM &amp; video calls</td>\n",
       "      <td>Google+</td>\n",
       "      <td>Google Play Movies &amp; TV</td>\n",
       "      <td>Microsoft Word</td>\n",
       "      <td>Temple Run 2</td>\n",
       "      <td>Z Camera - Photo Editor, Beauty Selfie, Collage</td>\n",
       "    </tr>\n",
       "    <tr>\n",
       "      <th>3</th>\n",
       "      <td>Google Chrome: Fast &amp; Secure</td>\n",
       "      <td>Instagram</td>\n",
       "      <td>MX Player</td>\n",
       "      <td>Google Calendar</td>\n",
       "      <td>Candy Crush Saga</td>\n",
       "      <td>YouCam Perfect - Selfie Photo Editor</td>\n",
       "    </tr>\n",
       "    <tr>\n",
       "      <th>4</th>\n",
       "      <td>Hangouts</td>\n",
       "      <td>Snapchat</td>\n",
       "      <td>VideoShow-Video Editor, Video Maker, Beauty Ca...</td>\n",
       "      <td>Dropbox</td>\n",
       "      <td>Pou</td>\n",
       "      <td>BeautyPlus - Easy Photo Editor &amp; Selfie Camera</td>\n",
       "    </tr>\n",
       "    <tr>\n",
       "      <th>5</th>\n",
       "      <td>WhatsApp Messenger</td>\n",
       "      <td>Facebook Lite</td>\n",
       "      <td>VivaVideo - Video Editor &amp; Photo Movie</td>\n",
       "      <td>Cloud Print</td>\n",
       "      <td>My Talking Tom</td>\n",
       "      <td>YouCam Makeup - Magic Selfie Makeovers</td>\n",
       "    </tr>\n",
       "  </tbody>\n",
       "</table>\n",
       "</div>"
      ],
      "text/plain": [
       "Category                             COMMUNICATION         SOCIAL  \\\n",
       "Top                                                                 \n",
       "1         Messenger – Text and Video Chat for Free       Facebook   \n",
       "2                    Skype - free IM & video calls        Google+   \n",
       "3                     Google Chrome: Fast & Secure      Instagram   \n",
       "4                                         Hangouts       Snapchat   \n",
       "5                               WhatsApp Messenger  Facebook Lite   \n",
       "\n",
       "Category                                      VIDEO_PLAYERS     PRODUCTIVITY  \\\n",
       "Top                                                                            \n",
       "1                                                   YouTube     Google Drive   \n",
       "2                                   Google Play Movies & TV   Microsoft Word   \n",
       "3                                                 MX Player  Google Calendar   \n",
       "4         VideoShow-Video Editor, Video Maker, Beauty Ca...          Dropbox   \n",
       "5                    VivaVideo - Video Editor & Photo Movie      Cloud Print   \n",
       "\n",
       "Category              GAME                                      PHOTOGRAPHY  \n",
       "Top                                                                          \n",
       "1           Subway Surfers                                    Google Photos  \n",
       "2             Temple Run 2  Z Camera - Photo Editor, Beauty Selfie, Collage  \n",
       "3         Candy Crush Saga             YouCam Perfect - Selfie Photo Editor  \n",
       "4                      Pou   BeautyPlus - Easy Photo Editor & Selfie Camera  \n",
       "5           My Talking Tom           YouCam Makeup - Magic Selfie Makeovers  "
      ]
     },
     "execution_count": 18,
     "metadata": {},
     "output_type": "execute_result"
    }
   ],
   "source": [
    "g = df.groupby(\"Category\")\n",
    "res = g.apply(lambda x: x.reset_index().sort_values(by = \"Installs\", ascending=False).drop_duplicates(subset=\"App\").head(5)[\"App\"])\n",
    "top5_app_category_df = pd.DataFrame(res)\n",
    "top5_app_category_df = top5_app_category_df.reset_index().drop(\"level_1\", axis=1)\n",
    "top5_app_category_df.index = np.arange(0, 165)%5 + 1\n",
    "top5_app_category_df = top5_app_category_df.reset_index().rename(columns={'index': 'Top'})\n",
    "top5_app_category_df = top5_app_category_df.pivot(index='Top', columns='Category', values='App')\n",
    "top5_app_category_df[[\"COMMUNICATION\", \"SOCIAL\", \"VIDEO_PLAYERS\", \"PRODUCTIVITY\", \"GAME\", \"PHOTOGRAPHY\"]]"
   ]
  },
  {
   "cell_type": "markdown",
   "metadata": {},
   "source": [
    "- Trong thể loại `GAME`"
   ]
  },
  {
   "cell_type": "code",
   "execution_count": 19,
   "metadata": {
    "scrolled": false
   },
   "outputs": [
    {
     "data": {
      "text/plain": [
       "<AxesSubplot:xlabel='count', ylabel='Genres'>"
      ]
     },
     "execution_count": 19,
     "metadata": {},
     "output_type": "execute_result"
    },
    {
     "data": {
      "image/png": "[encoded data removed]",
      "text/plain": [
       "<Figure size 1080x720 with 1 Axes>"
      ]
     },
     "metadata": {
      "needs_background": "light"
     },
     "output_type": "display_data"
    }
   ],
   "source": [
    "cate_game_sr = df[df[\"Category\"] ==\"GAME\"][\"Genres\"]\n",
    "cate_game_sr = cate_game_sr.map(lambda x: x.split(\";\"))\n",
    "cate_game_sr = cate_game_sr.explode(\"Genres\")\n",
    "plt.figure(figsize=(15,10))\n",
    "sns.countplot(y = cate_game_sr, order = cate_game_sr.value_counts().index)"
   ]
  }
 ],
 "metadata": {
  "kernelspec": {
   "display_name": "Python 3",
   "language": "python",
   "name": "python3"
  },
  "language_info": {
   "codemirror_mode": {
    "name": "ipython",
    "version": 3
   },
   "file_extension": ".py",
   "mimetype": "text/x-python",
   "name": "python",
   "nbconvert_exporter": "python",
   "pygments_lexer": "ipython3",
   "version": "3.8.5"
  },
  "toc": {
   "base_numbering": 1,
   "nav_menu": {},
   "number_sections": true,
   "sideBar": true,
   "skip_h1_title": false,
   "title_cell": "Table of Contents",
   "title_sidebar": "Contents",
   "toc_cell": true,
   "toc_position": {},
   "toc_section_display": true,
   "toc_window_display": true
  }
 },
 "nbformat": 4,
 "nbformat_minor": 4
}
