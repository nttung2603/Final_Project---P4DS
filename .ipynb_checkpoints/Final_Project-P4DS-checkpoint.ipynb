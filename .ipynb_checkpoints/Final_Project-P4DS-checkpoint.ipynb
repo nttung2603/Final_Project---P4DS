{
 "cells": [
  {
   "cell_type": "markdown",
   "metadata": {
    "slideshow": {
     "slide_type": "slide"
    },
    "toc": true
   },
   "source": [
    "<h1>Table of Contents<span class=\"tocSkip\"></span></h1>\n",
    "<div class=\"toc\"><ul class=\"toc-item\"><li><span><a href=\"#Import-thư-viện\" data-toc-modified-id=\"Import-thư-viện-1\"><span class=\"toc-item-num\">1&nbsp;&nbsp;</span>Import thư viện</a></span></li><li><span><a href=\"#Thu-thập-dữ-liệu\" data-toc-modified-id=\"Thu-thập-dữ-liệu-2\"><span class=\"toc-item-num\">2&nbsp;&nbsp;</span>Thu thập dữ liệu</a></span></li><li><span><a href=\"#Khám-phá,-tiền-xử-lí-dữ-liệu\" data-toc-modified-id=\"Khám-phá,-tiền-xử-lí-dữ-liệu-3\"><span class=\"toc-item-num\">3&nbsp;&nbsp;</span>Khám phá, tiền xử lí dữ liệu</a></span></li><li><span><a href=\"#Các-câu-hỏi-từ-dữ-liệu\" data-toc-modified-id=\"Các-câu-hỏi-từ-dữ-liệu-4\"><span class=\"toc-item-num\">4&nbsp;&nbsp;</span>Các câu hỏi từ dữ liệu</a></span><ul class=\"toc-item\"><li><span><a href=\"#Xây-dựng-ứng-dụng-về-các-chủ-đề-nào-là-tốt?\" data-toc-modified-id=\"Xây-dựng-ứng-dụng-về-các-chủ-đề-nào-là-tốt?-4.1\"><span class=\"toc-item-num\">4.1&nbsp;&nbsp;</span>Xây dựng ứng dụng về các chủ đề nào là tốt?</a></span></li><li><span><a href=\"#Xây-dựng-ứng-dụng-Free-hay-Paid.\" data-toc-modified-id=\"Xây-dựng-ứng-dụng-Free-hay-Paid.-4.2\"><span class=\"toc-item-num\">4.2&nbsp;&nbsp;</span>Xây dựng ứng dụng Free hay Paid.</a></span></li><li><span><a href=\"#Yếu-tố-ảnh-hưởng-đến-Install\" data-toc-modified-id=\"Yếu-tố-ảnh-hưởng-đến-Install-4.3\"><span class=\"toc-item-num\">4.3&nbsp;&nbsp;</span>Yếu tố ảnh hưởng đến Install</a></span></li><li><span><a href=\"#Tìm-những-ứng-dụng-được-đánh-giá-tốt-thông-qua-Review-của-khách-hàng\" data-toc-modified-id=\"Tìm-những-ứng-dụng-được-đánh-giá-tốt-thông-qua-Review-của-khách-hàng-4.4\"><span class=\"toc-item-num\">4.4&nbsp;&nbsp;</span>Tìm những ứng dụng được đánh giá tốt thông qua Review của khách hàng</a></span></li></ul></li></ul></div>"
   ]
  },
  {
   "cell_type": "markdown",
   "metadata": {
    "slideshow": {
     "slide_type": "slide"
    }
   },
   "source": [
    "# Import thư viện"
   ]
  },
  {
   "cell_type": "code",
   "execution_count": 1,
   "metadata": {
    "slideshow": {
     "slide_type": "fragment"
    }
   },
   "outputs": [],
   "source": [
    "import pandas as pd\n",
    "import matplotlib.pyplot as plt\n",
    "import datetime as dt\n",
    "import seaborn as sns\n",
    "import numpy as np"
   ]
  },
  {
   "cell_type": "markdown",
   "metadata": {
    "slideshow": {
     "slide_type": "slide"
    }
   },
   "source": [
    "# Thu thập dữ liệu"
   ]
  },
  {
   "cell_type": "markdown",
   "metadata": {
    "slideshow": {
     "slide_type": "subslide"
    }
   },
   "source": [
    "- Chủ đề của dữ liệu: `Các ứng dụng trên Google Play Store`\n",
    "\n",
    "Các thông tin về ứng dụng trên Google Play Store có thể thúc đẩy các doanh nghiệp sản xuất các ứng dụng thành công hơn. Ngoài ra, những thông tin này còn có thể giúp các nhà phát triển hiểu thêm và nắm bắt thị trường Android."
   ]
  },
  {
   "cell_type": "markdown",
   "metadata": {
    "slideshow": {
     "slide_type": "fragment"
    }
   },
   "source": [
    "- Dữ liệu được lấy từ kaggle: https://www.kaggle.com/lava18/google-play-store-apps?select=googleplaystore.csv "
   ]
  },
  {
   "cell_type": "markdown",
   "metadata": {
    "slideshow": {
     "slide_type": "fragment"
    }
   },
   "source": [
    "- Dữ liệu được thu thập như thế nào?"
   ]
  },
  {
   "cell_type": "markdown",
   "metadata": {
    "slideshow": {
     "slide_type": "fragment"
    }
   },
   "source": [
    "Dữ liệu được lấy trên Google Play Store"
   ]
  },
  {
   "cell_type": "markdown",
   "metadata": {
    "slideshow": {
     "slide_type": "subslide"
    }
   },
   "source": [
    "- Lấy dữ liệu file `googleplaystore.csv`"
   ]
  },
  {
   "cell_type": "code",
   "execution_count": 2,
   "metadata": {
    "scrolled": false,
    "slideshow": {
     "slide_type": "fragment"
    }
   },
   "outputs": [
    {
     "data": {
      "text/html": [
       "<div>\n",
       "<style scoped>\n",
       "    .dataframe tbody tr th:only-of-type {\n",
       "        vertical-align: middle;\n",
       "    }\n",
       "\n",
       "    .dataframe tbody tr th {\n",
       "        vertical-align: top;\n",
       "    }\n",
       "\n",
       "    .dataframe thead th {\n",
       "        text-align: right;\n",
       "    }\n",
       "</style>\n",
       "<table border=\"1\" class=\"dataframe\">\n",
       "  <thead>\n",
       "    <tr style=\"text-align: right;\">\n",
       "      <th></th>\n",
       "      <th>App</th>\n",
       "      <th>Category</th>\n",
       "      <th>Rating</th>\n",
       "      <th>Reviews</th>\n",
       "      <th>Size</th>\n",
       "      <th>Installs</th>\n",
       "      <th>Type</th>\n",
       "      <th>Price</th>\n",
       "      <th>Content Rating</th>\n",
       "      <th>Genres</th>\n",
       "      <th>Last Updated</th>\n",
       "      <th>Current Ver</th>\n",
       "      <th>Android Ver</th>\n",
       "    </tr>\n",
       "  </thead>\n",
       "  <tbody>\n",
       "    <tr>\n",
       "      <th>0</th>\n",
       "      <td>Photo Editor &amp; Candy Camera &amp; Grid &amp; ScrapBook</td>\n",
       "      <td>ART_AND_DESIGN</td>\n",
       "      <td>4.1</td>\n",
       "      <td>159</td>\n",
       "      <td>19M</td>\n",
       "      <td>10,000+</td>\n",
       "      <td>Free</td>\n",
       "      <td>0</td>\n",
       "      <td>Everyone</td>\n",
       "      <td>Art &amp; Design</td>\n",
       "      <td>7-Jan-18</td>\n",
       "      <td>1.0.0</td>\n",
       "      <td>4.0.3 and up</td>\n",
       "    </tr>\n",
       "    <tr>\n",
       "      <th>1</th>\n",
       "      <td>Coloring book moana</td>\n",
       "      <td>ART_AND_DESIGN</td>\n",
       "      <td>3.9</td>\n",
       "      <td>967</td>\n",
       "      <td>14M</td>\n",
       "      <td>500,000+</td>\n",
       "      <td>Free</td>\n",
       "      <td>0</td>\n",
       "      <td>Everyone</td>\n",
       "      <td>Art &amp; Design;Pretend Play</td>\n",
       "      <td>15-Jan-18</td>\n",
       "      <td>2.0.0</td>\n",
       "      <td>4.0.3 and up</td>\n",
       "    </tr>\n",
       "    <tr>\n",
       "      <th>2</th>\n",
       "      <td>U Launcher Lite – FREE Live Cool Themes, Hide ...</td>\n",
       "      <td>ART_AND_DESIGN</td>\n",
       "      <td>4.7</td>\n",
       "      <td>87510</td>\n",
       "      <td>8.7M</td>\n",
       "      <td>5,000,000+</td>\n",
       "      <td>Free</td>\n",
       "      <td>0</td>\n",
       "      <td>Everyone</td>\n",
       "      <td>Art &amp; Design</td>\n",
       "      <td>1-Aug-18</td>\n",
       "      <td>1.2.4</td>\n",
       "      <td>4.0.3 and up</td>\n",
       "    </tr>\n",
       "    <tr>\n",
       "      <th>3</th>\n",
       "      <td>Sketch - Draw &amp; Paint</td>\n",
       "      <td>ART_AND_DESIGN</td>\n",
       "      <td>4.5</td>\n",
       "      <td>215644</td>\n",
       "      <td>25M</td>\n",
       "      <td>50,000,000+</td>\n",
       "      <td>Free</td>\n",
       "      <td>0</td>\n",
       "      <td>Teen</td>\n",
       "      <td>Art &amp; Design</td>\n",
       "      <td>8-Jun-18</td>\n",
       "      <td>Varies with device</td>\n",
       "      <td>4.2 and up</td>\n",
       "    </tr>\n",
       "    <tr>\n",
       "      <th>4</th>\n",
       "      <td>Pixel Draw - Number Art Coloring Book</td>\n",
       "      <td>ART_AND_DESIGN</td>\n",
       "      <td>4.3</td>\n",
       "      <td>967</td>\n",
       "      <td>2.8M</td>\n",
       "      <td>100,000+</td>\n",
       "      <td>Free</td>\n",
       "      <td>0</td>\n",
       "      <td>Everyone</td>\n",
       "      <td>Art &amp; Design;Creativity</td>\n",
       "      <td>20-Jun-18</td>\n",
       "      <td>1.1</td>\n",
       "      <td>4.4 and up</td>\n",
       "    </tr>\n",
       "  </tbody>\n",
       "</table>\n",
       "</div>"
      ],
      "text/plain": [
       "                                                 App        Category  Rating  \\\n",
       "0     Photo Editor & Candy Camera & Grid & ScrapBook  ART_AND_DESIGN     4.1   \n",
       "1                                Coloring book moana  ART_AND_DESIGN     3.9   \n",
       "2  U Launcher Lite – FREE Live Cool Themes, Hide ...  ART_AND_DESIGN     4.7   \n",
       "3                              Sketch - Draw & Paint  ART_AND_DESIGN     4.5   \n",
       "4              Pixel Draw - Number Art Coloring Book  ART_AND_DESIGN     4.3   \n",
       "\n",
       "   Reviews  Size     Installs  Type Price Content Rating  \\\n",
       "0      159   19M      10,000+  Free     0       Everyone   \n",
       "1      967   14M     500,000+  Free     0       Everyone   \n",
       "2    87510  8.7M   5,000,000+  Free     0       Everyone   \n",
       "3   215644   25M  50,000,000+  Free     0           Teen   \n",
       "4      967  2.8M     100,000+  Free     0       Everyone   \n",
       "\n",
       "                      Genres Last Updated         Current Ver   Android Ver  \n",
       "0               Art & Design     7-Jan-18               1.0.0  4.0.3 and up  \n",
       "1  Art & Design;Pretend Play    15-Jan-18               2.0.0  4.0.3 and up  \n",
       "2               Art & Design     1-Aug-18               1.2.4  4.0.3 and up  \n",
       "3               Art & Design     8-Jun-18  Varies with device    4.2 and up  \n",
       "4    Art & Design;Creativity    20-Jun-18                 1.1    4.4 and up  "
      ]
     },
     "execution_count": 2,
     "metadata": {},
     "output_type": "execute_result"
    }
   ],
   "source": [
    "df = pd.read_csv(\"data\\googleplaystore.csv\")\n",
    "df.head()"
   ]
  },
  {
   "cell_type": "markdown",
   "metadata": {
    "slideshow": {
     "slide_type": "slide"
    }
   },
   "source": [
    "# Khám phá, tiền xử lí dữ liệu"
   ]
  },
  {
   "cell_type": "markdown",
   "metadata": {
    "slideshow": {
     "slide_type": "subslide"
    }
   },
   "source": [
    "- Dữ liệu có bao nhiêu dòng, cột?"
   ]
  },
  {
   "cell_type": "code",
   "execution_count": 3,
   "metadata": {
    "slideshow": {
     "slide_type": "fragment"
    }
   },
   "outputs": [],
   "source": [
    "nrow = df.shape[0]\n",
    "ncol = df.shape[1]"
   ]
  },
  {
   "cell_type": "code",
   "execution_count": 4,
   "metadata": {
    "slideshow": {
     "slide_type": "fragment"
    }
   },
   "outputs": [
    {
     "name": "stdout",
     "output_type": "stream",
     "text": [
      "Dữ liệu có 10841 dòng\n",
      "Dữ liệu có 13 cột\n"
     ]
    }
   ],
   "source": [
    "print(\"Dữ liệu có {} dòng\".format(nrow))\n",
    "print(\"Dữ liệu có {} cột\".format(ncol))"
   ]
  },
  {
   "cell_type": "markdown",
   "metadata": {
    "slideshow": {
     "slide_type": "subslide"
    }
   },
   "source": [
    "- Ý nghĩa của mỗi dòng là gì?`"
   ]
  },
  {
   "cell_type": "markdown",
   "metadata": {
    "slideshow": {
     "slide_type": "fragment"
    }
   },
   "source": [
    "Mỗi dòng tương ứng với mỗi App với các dữ liệu về tên app, loại app, rating, lượng review, kích cỡ, giá,..."
   ]
  },
  {
   "cell_type": "markdown",
   "metadata": {
    "slideshow": {
     "slide_type": "fragment"
    }
   },
   "source": [
    "- Dữ liệu có các dòng bị lặp không?"
   ]
  },
  {
   "cell_type": "code",
   "execution_count": 5,
   "metadata": {
    "scrolled": false,
    "slideshow": {
     "slide_type": "fragment"
    }
   },
   "outputs": [
    {
     "name": "stdout",
     "output_type": "stream",
     "text": [
      "Dữ liệu có 483 dòng bị lặp\n"
     ]
    }
   ],
   "source": [
    "nduplicated = df.duplicated().sum()\n",
    "print(\"Dữ liệu có {} dòng bị lặp\".format(nduplicated))"
   ]
  },
  {
   "cell_type": "markdown",
   "metadata": {
    "slideshow": {
     "slide_type": "subslide"
    }
   },
   "source": [
    "- Có cột nào bị mất dữ liệu không?"
   ]
  },
  {
   "cell_type": "code",
   "execution_count": 6,
   "metadata": {
    "slideshow": {
     "slide_type": "fragment"
    }
   },
   "outputs": [
    {
     "data": {
      "text/html": [
       "<div>\n",
       "<style scoped>\n",
       "    .dataframe tbody tr th:only-of-type {\n",
       "        vertical-align: middle;\n",
       "    }\n",
       "\n",
       "    .dataframe tbody tr th {\n",
       "        vertical-align: top;\n",
       "    }\n",
       "\n",
       "    .dataframe thead th {\n",
       "        text-align: right;\n",
       "    }\n",
       "</style>\n",
       "<table border=\"1\" class=\"dataframe\">\n",
       "  <thead>\n",
       "    <tr style=\"text-align: right;\">\n",
       "      <th></th>\n",
       "      <th>App</th>\n",
       "      <th>Category</th>\n",
       "      <th>Rating</th>\n",
       "      <th>Reviews</th>\n",
       "      <th>Size</th>\n",
       "      <th>Installs</th>\n",
       "      <th>Type</th>\n",
       "      <th>Price</th>\n",
       "      <th>Content Rating</th>\n",
       "      <th>Genres</th>\n",
       "      <th>Last Updated</th>\n",
       "      <th>Current Ver</th>\n",
       "      <th>Android Ver</th>\n",
       "    </tr>\n",
       "  </thead>\n",
       "  <tbody>\n",
       "    <tr>\n",
       "      <th>missing_ratio</th>\n",
       "      <td>0.0</td>\n",
       "      <td>0.009224</td>\n",
       "      <td>13.596532</td>\n",
       "      <td>0.0</td>\n",
       "      <td>0.0</td>\n",
       "      <td>0.0</td>\n",
       "      <td>0.009224</td>\n",
       "      <td>0.0</td>\n",
       "      <td>0.0</td>\n",
       "      <td>0.009224</td>\n",
       "      <td>0.0</td>\n",
       "      <td>0.073794</td>\n",
       "      <td>0.018448</td>\n",
       "    </tr>\n",
       "  </tbody>\n",
       "</table>\n",
       "</div>"
      ],
      "text/plain": [
       "               App  Category     Rating  Reviews  Size  Installs      Type  \\\n",
       "missing_ratio  0.0  0.009224  13.596532      0.0   0.0       0.0  0.009224   \n",
       "\n",
       "               Price  Content Rating    Genres  Last Updated  Current Ver  \\\n",
       "missing_ratio    0.0             0.0  0.009224           0.0     0.073794   \n",
       "\n",
       "               Android Ver  \n",
       "missing_ratio     0.018448  "
      ]
     },
     "execution_count": 6,
     "metadata": {},
     "output_type": "execute_result"
    }
   ],
   "source": [
    "def missing_ratio(s):\n",
    "    return s.isna().mean() * 100\n",
    "df.agg([missing_ratio])"
   ]
  },
  {
   "cell_type": "markdown",
   "metadata": {},
   "source": [
    "- Xử lý các dòng, cột bị mất dữ liệu\n",
    "    + Dữ liệu bị thiếu ở cột `Rating` sẽ được điền bằng trung bình của các app trong cùng một `Category`.\n",
    "    + Dữ liệu bị thiếu ở cột `Type` sẽ điền dựa vào cột `Price` vì cột này không thiếu.\n",
    "    + Hai cột `Category` và `Genre` thì khó điền vì phụ thuộc nhiều yếu tố, không thể chỉ xử lý đơn giản. Thêm vào đó dữ liệu thiếu này chỉ tập trung vào số ít các dòng nên có thể xóa bỏ các dòng này.\n",
    "    + Hai cột `Current Ver` và `Android Ver` thì không quá cần thiết trong quá trình phân tích của nhóm nên dữ liệu có thể thiếu không sao."
   ]
  },
  {
   "cell_type": "code",
   "execution_count": 7,
   "metadata": {},
   "outputs": [],
   "source": [
    "# Điền dữ liệu thiếu vào cột Rating\n",
    "temp_df = df.groupby(\"Category\")[\"Rating\"].mean()\n",
    "temp_df = pd.DataFrame(temp_df)\n",
    "temp_df.reset_index(inplace=True)\n",
    "temp_df.rename(columns={'Rating':'Rating_mean'}, inplace=True)\n",
    "new_df = temp_df.merge(df, how = \"right\", on = \"Category\")\n",
    "new_df.loc[new_df[\"Rating\"].isna(), \"Rating\"] = new_df.loc[new_df[\"Rating\"].isna(), \"Rating_mean\"]\n",
    "df[\"Rating\"] = new_df[\"Rating\"]"
   ]
  },
  {
   "cell_type": "code",
   "execution_count": 8,
   "metadata": {},
   "outputs": [],
   "source": [
    "# Điền dữ liệu thiếu vào cột Type\n",
    "df.loc[df[\"Price\"] == \"0\", \"Type\"] = \"Free\"\n",
    "df.loc[df[\"Price\"] != \"0\", \"Type\"] = \"Paid\"\n",
    "\n",
    "# Xóa dòng có Category thiếu, có vẻ chỉ là 1 dòng nhiễu, không quan trọng\n",
    "df = df[~df[\"Category\"].isna()]"
   ]
  },
  {
   "cell_type": "code",
   "execution_count": 9,
   "metadata": {},
   "outputs": [
    {
     "data": {
      "text/html": [
       "<div>\n",
       "<style scoped>\n",
       "    .dataframe tbody tr th:only-of-type {\n",
       "        vertical-align: middle;\n",
       "    }\n",
       "\n",
       "    .dataframe tbody tr th {\n",
       "        vertical-align: top;\n",
       "    }\n",
       "\n",
       "    .dataframe thead th {\n",
       "        text-align: right;\n",
       "    }\n",
       "</style>\n",
       "<table border=\"1\" class=\"dataframe\">\n",
       "  <thead>\n",
       "    <tr style=\"text-align: right;\">\n",
       "      <th></th>\n",
       "      <th>App</th>\n",
       "      <th>Category</th>\n",
       "      <th>Rating</th>\n",
       "      <th>Reviews</th>\n",
       "      <th>Size</th>\n",
       "      <th>Installs</th>\n",
       "      <th>Type</th>\n",
       "      <th>Price</th>\n",
       "      <th>Content Rating</th>\n",
       "      <th>Genres</th>\n",
       "      <th>Last Updated</th>\n",
       "      <th>Current Ver</th>\n",
       "      <th>Android Ver</th>\n",
       "    </tr>\n",
       "  </thead>\n",
       "  <tbody>\n",
       "    <tr>\n",
       "      <th>missing_ratio</th>\n",
       "      <td>0.0</td>\n",
       "      <td>0.0</td>\n",
       "      <td>0.0</td>\n",
       "      <td>0.0</td>\n",
       "      <td>0.0</td>\n",
       "      <td>0.0</td>\n",
       "      <td>0.0</td>\n",
       "      <td>0.0</td>\n",
       "      <td>0.0</td>\n",
       "      <td>0.0</td>\n",
       "      <td>0.0</td>\n",
       "      <td>0.073801</td>\n",
       "      <td>0.01845</td>\n",
       "    </tr>\n",
       "  </tbody>\n",
       "</table>\n",
       "</div>"
      ],
      "text/plain": [
       "               App  Category  Rating  Reviews  Size  Installs  Type  Price  \\\n",
       "missing_ratio  0.0       0.0     0.0      0.0   0.0       0.0   0.0    0.0   \n",
       "\n",
       "               Content Rating  Genres  Last Updated  Current Ver  Android Ver  \n",
       "missing_ratio             0.0     0.0           0.0     0.073801      0.01845  "
      ]
     },
     "execution_count": 9,
     "metadata": {},
     "output_type": "execute_result"
    }
   ],
   "source": [
    "def missing_ratio(s):\n",
    "    return s.isna().mean() * 100\n",
    "df.agg([missing_ratio])"
   ]
  },
  {
   "cell_type": "markdown",
   "metadata": {},
   "source": [
    "Sau khi thực hiện xong các bước này thì ta thấy những cột quan trọng đã không còn thiếu dữ liệu nữa!"
   ]
  },
  {
   "cell_type": "markdown",
   "metadata": {
    "slideshow": {
     "slide_type": "subslide"
    }
   },
   "source": [
    "- Mô tả về ý nghĩa của mỗi cột"
   ]
  },
  {
   "cell_type": "markdown",
   "metadata": {},
   "source": [
    "|Tên cột|Ý nghĩa của cột|\n",
    "|---|---|\n",
    "|App|Tên ứng dụng|\n",
    "|Category|Thể loại của ứng dụng|\n",
    "|Rating|Đánh giá của người dùng về ứng dụng|\n",
    "|Reviews|Số lượng đánh giá của người dùng về ứng dụng|\n",
    "|Size|Kích thước của ứng dụng|\n",
    "|Installs|Số lượt tải xuống / cài đặt của người dùng cho ứng dụng|\n",
    "|Type|Ứng dụng trả phí hay miễn phí|\n",
    "|Price|Giá của ứng dụng|\n",
    "|Content Rating|Nhóm tuổi mà ứng dụng nhắm đến|\n",
    "|Genres|Ứng dụng thuộc nhiều thể loại (ngoài thể loại chính của nó).|\n",
    "|Last Updated|Ngày cập nhật của ứng dụng trên Google Play Store|\n",
    "|Current Ver|Phiên bản hiện tại của ứng dụng trên Google Play Store|\n",
    "|Android Ver|Phiên bản Android tối thiểu của máy|\n",
    "\n",
    "\n"
   ]
  },
  {
   "cell_type": "markdown",
   "metadata": {
    "slideshow": {
     "slide_type": "subslide"
    }
   },
   "source": [
    "- Mỗi cột có kiểu dữ liệu gì?"
   ]
  },
  {
   "cell_type": "code",
   "execution_count": 10,
   "metadata": {
    "slideshow": {
     "slide_type": "fragment"
    }
   },
   "outputs": [
    {
     "data": {
      "text/plain": [
       "App                object\n",
       "Category           object\n",
       "Rating            float64\n",
       "Reviews             int64\n",
       "Size               object\n",
       "Installs           object\n",
       "Type               object\n",
       "Price              object\n",
       "Content Rating     object\n",
       "Genres             object\n",
       "Last Updated       object\n",
       "Current Ver        object\n",
       "Android Ver        object\n",
       "dtype: object"
      ]
     },
     "execution_count": 10,
     "metadata": {},
     "output_type": "execute_result"
    }
   ],
   "source": [
    "df.dtypes"
   ]
  },
  {
   "cell_type": "markdown",
   "metadata": {
    "slideshow": {
     "slide_type": "fragment"
    }
   },
   "source": [
    "`Nhận xét`:\n",
    "- Cột Size, Install, Price cần chuyển cột này về kiểu dữ liệu dạng số.\n",
    "- Cột Last Updated cần chuyển cột này về kiểu dữ liệu datetime."
   ]
  },
  {
   "cell_type": "markdown",
   "metadata": {
    "slideshow": {
     "slide_type": "subslide"
    }
   },
   "source": [
    "- Với mỗi cột dữ liệu dạng số (numeric), các giá trị được phân bố như thế nào?"
   ]
  },
  {
   "cell_type": "code",
   "execution_count": 11,
   "metadata": {
    "slideshow": {
     "slide_type": "fragment"
    }
   },
   "outputs": [],
   "source": [
    "df[\"Size\"] = df[\"Size\"].apply(lambda x: x.replace(\"M\", \"e+6\").replace(\"k\",\"e+3\").replace(\"Varies with device\",\"0\"))\n",
    "df[\"Size\"] = pd.to_numeric(df[\"Size\"])"
   ]
  },
  {
   "cell_type": "code",
   "execution_count": 12,
   "metadata": {
    "slideshow": {
     "slide_type": "fragment"
    }
   },
   "outputs": [],
   "source": [
    "df[\"Installs\"] = df[\"Installs\"].apply(lambda x: x.replace(\"+\", \"\").replace(\",\",\"\"))\n",
    "df[\"Installs\"] = pd.to_numeric(df[\"Installs\"])"
   ]
  },
  {
   "cell_type": "code",
   "execution_count": 13,
   "metadata": {
    "slideshow": {
     "slide_type": "fragment"
    }
   },
   "outputs": [],
   "source": [
    "df[\"Price\"] = df[\"Price\"].apply(lambda x: x.replace(\"$\", \"\"))\n",
    "df[\"Price\"] = pd.to_numeric(df[\"Price\"])"
   ]
  },
  {
   "cell_type": "code",
   "execution_count": 14,
   "metadata": {
    "slideshow": {
     "slide_type": "fragment"
    }
   },
   "outputs": [
    {
     "data": {
      "text/html": [
       "<div>\n",
       "<style scoped>\n",
       "    .dataframe tbody tr th:only-of-type {\n",
       "        vertical-align: middle;\n",
       "    }\n",
       "\n",
       "    .dataframe tbody tr th {\n",
       "        vertical-align: top;\n",
       "    }\n",
       "\n",
       "    .dataframe thead th {\n",
       "        text-align: right;\n",
       "    }\n",
       "</style>\n",
       "<table border=\"1\" class=\"dataframe\">\n",
       "  <thead>\n",
       "    <tr style=\"text-align: right;\">\n",
       "      <th></th>\n",
       "      <th>Rating</th>\n",
       "      <th>Reviews</th>\n",
       "      <th>Size</th>\n",
       "      <th>Installs</th>\n",
       "      <th>Price</th>\n",
       "    </tr>\n",
       "  </thead>\n",
       "  <tbody>\n",
       "    <tr>\n",
       "      <th>count</th>\n",
       "      <td>10840.000000</td>\n",
       "      <td>1.084000e+04</td>\n",
       "      <td>1.084000e+04</td>\n",
       "      <td>1.084000e+04</td>\n",
       "      <td>10840.000000</td>\n",
       "    </tr>\n",
       "    <tr>\n",
       "      <th>mean</th>\n",
       "      <td>4.190454</td>\n",
       "      <td>4.441529e+05</td>\n",
       "      <td>1.815209e+07</td>\n",
       "      <td>1.546434e+07</td>\n",
       "      <td>1.027368</td>\n",
       "    </tr>\n",
       "    <tr>\n",
       "      <th>std</th>\n",
       "      <td>0.480075</td>\n",
       "      <td>2.927761e+06</td>\n",
       "      <td>2.217061e+07</td>\n",
       "      <td>8.502936e+07</td>\n",
       "      <td>15.949703</td>\n",
       "    </tr>\n",
       "    <tr>\n",
       "      <th>min</th>\n",
       "      <td>1.000000</td>\n",
       "      <td>0.000000e+00</td>\n",
       "      <td>0.000000e+00</td>\n",
       "      <td>0.000000e+00</td>\n",
       "      <td>0.000000</td>\n",
       "    </tr>\n",
       "    <tr>\n",
       "      <th>25%</th>\n",
       "      <td>4.047411</td>\n",
       "      <td>3.800000e+01</td>\n",
       "      <td>2.600000e+06</td>\n",
       "      <td>1.000000e+03</td>\n",
       "      <td>0.000000</td>\n",
       "    </tr>\n",
       "    <tr>\n",
       "      <th>50%</th>\n",
       "      <td>4.259664</td>\n",
       "      <td>2.094000e+03</td>\n",
       "      <td>9.200000e+06</td>\n",
       "      <td>1.000000e+05</td>\n",
       "      <td>0.000000</td>\n",
       "    </tr>\n",
       "    <tr>\n",
       "      <th>75%</th>\n",
       "      <td>4.500000</td>\n",
       "      <td>5.477550e+04</td>\n",
       "      <td>2.600000e+07</td>\n",
       "      <td>5.000000e+06</td>\n",
       "      <td>0.000000</td>\n",
       "    </tr>\n",
       "    <tr>\n",
       "      <th>max</th>\n",
       "      <td>5.000000</td>\n",
       "      <td>7.815831e+07</td>\n",
       "      <td>1.000000e+08</td>\n",
       "      <td>1.000000e+09</td>\n",
       "      <td>400.000000</td>\n",
       "    </tr>\n",
       "  </tbody>\n",
       "</table>\n",
       "</div>"
      ],
      "text/plain": [
       "             Rating       Reviews          Size      Installs         Price\n",
       "count  10840.000000  1.084000e+04  1.084000e+04  1.084000e+04  10840.000000\n",
       "mean       4.190454  4.441529e+05  1.815209e+07  1.546434e+07      1.027368\n",
       "std        0.480075  2.927761e+06  2.217061e+07  8.502936e+07     15.949703\n",
       "min        1.000000  0.000000e+00  0.000000e+00  0.000000e+00      0.000000\n",
       "25%        4.047411  3.800000e+01  2.600000e+06  1.000000e+03      0.000000\n",
       "50%        4.259664  2.094000e+03  9.200000e+06  1.000000e+05      0.000000\n",
       "75%        4.500000  5.477550e+04  2.600000e+07  5.000000e+06      0.000000\n",
       "max        5.000000  7.815831e+07  1.000000e+08  1.000000e+09    400.000000"
      ]
     },
     "execution_count": 14,
     "metadata": {},
     "output_type": "execute_result"
    }
   ],
   "source": [
    "num_col_df = df.select_dtypes(exclude= 'object')\n",
    "num_col_df.describe()"
   ]
  },
  {
   "cell_type": "markdown",
   "metadata": {
    "slideshow": {
     "slide_type": "subslide"
    }
   },
   "source": [
    "- Sự phân bố các cột numeric"
   ]
  },
  {
   "cell_type": "code",
   "execution_count": 15,
   "metadata": {
    "scrolled": false,
    "slideshow": {
     "slide_type": "fragment"
    }
   },
   "outputs": [
    {
     "name": "stderr",
     "output_type": "stream",
     "text": [
      "<ipython-input-15-2f9b1b529246>:3: UserWarning: To output multiple subplots, the figure containing the passed axes is being cleared\n",
      "  df[df.describe().columns].hist(ax = ax)\n"
     ]
    },
    {
     "data": {
      "image/png": "[encoded data removed]",
      "text/plain": [
       "<Figure size 1440x1080 with 6 Axes>"
      ]
     },
     "metadata": {
      "needs_background": "light"
     },
     "output_type": "display_data"
    }
   ],
   "source": [
    "fig = plt.figure(figsize = (20,15))\n",
    "ax = fig.gca()\n",
    "df[df.describe().columns].hist(ax = ax)\n",
    "plt.show()"
   ]
  },
  {
   "cell_type": "markdown",
   "metadata": {
    "slideshow": {
     "slide_type": "subslide"
    }
   },
   "source": [
    "- Chuyển cột Last Updated sang kiểu datetime"
   ]
  },
  {
   "cell_type": "code",
   "execution_count": 16,
   "metadata": {
    "slideshow": {
     "slide_type": "fragment"
    }
   },
   "outputs": [],
   "source": [
    "df[\"Last Updated\"] = pd.to_datetime(df[\"Last Updated\"], format = '%d-%b-%y', errors='coerce')"
   ]
  },
  {
   "cell_type": "markdown",
   "metadata": {
    "slideshow": {
     "slide_type": "subslide"
    }
   },
   "source": [
    "- Với mỗi cột dữ liệu dạng phân loại (categorical), các giá trị được phân bố như thế nào?"
   ]
  },
  {
   "cell_type": "code",
   "execution_count": 17,
   "metadata": {
    "slideshow": {
     "slide_type": "fragment"
    }
   },
   "outputs": [
    {
     "data": {
      "text/html": [
       "<div>\n",
       "<style scoped>\n",
       "    .dataframe tbody tr th:only-of-type {\n",
       "        vertical-align: middle;\n",
       "    }\n",
       "\n",
       "    .dataframe tbody tr th {\n",
       "        vertical-align: top;\n",
       "    }\n",
       "\n",
       "    .dataframe thead th {\n",
       "        text-align: right;\n",
       "    }\n",
       "</style>\n",
       "<table border=\"1\" class=\"dataframe\">\n",
       "  <thead>\n",
       "    <tr style=\"text-align: right;\">\n",
       "      <th></th>\n",
       "      <th>App</th>\n",
       "      <th>Category</th>\n",
       "      <th>Type</th>\n",
       "      <th>Content Rating</th>\n",
       "      <th>Genres</th>\n",
       "      <th>Current Ver</th>\n",
       "      <th>Android Ver</th>\n",
       "    </tr>\n",
       "  </thead>\n",
       "  <tbody>\n",
       "    <tr>\n",
       "      <th>count</th>\n",
       "      <td>10840</td>\n",
       "      <td>10840</td>\n",
       "      <td>10840</td>\n",
       "      <td>10840</td>\n",
       "      <td>10840</td>\n",
       "      <td>10832</td>\n",
       "      <td>10838</td>\n",
       "    </tr>\n",
       "    <tr>\n",
       "      <th>unique</th>\n",
       "      <td>9659</td>\n",
       "      <td>33</td>\n",
       "      <td>2</td>\n",
       "      <td>6</td>\n",
       "      <td>119</td>\n",
       "      <td>2783</td>\n",
       "      <td>33</td>\n",
       "    </tr>\n",
       "    <tr>\n",
       "      <th>top</th>\n",
       "      <td>ROBLOX</td>\n",
       "      <td>FAMILY</td>\n",
       "      <td>Free</td>\n",
       "      <td>Everyone</td>\n",
       "      <td>Tools</td>\n",
       "      <td>Varies with device</td>\n",
       "      <td>4.1 and up</td>\n",
       "    </tr>\n",
       "    <tr>\n",
       "      <th>freq</th>\n",
       "      <td>9</td>\n",
       "      <td>1972</td>\n",
       "      <td>10040</td>\n",
       "      <td>8714</td>\n",
       "      <td>842</td>\n",
       "      <td>1459</td>\n",
       "      <td>2451</td>\n",
       "    </tr>\n",
       "  </tbody>\n",
       "</table>\n",
       "</div>"
      ],
      "text/plain": [
       "           App Category   Type Content Rating Genres         Current Ver  \\\n",
       "count    10840    10840  10840          10840  10840               10832   \n",
       "unique    9659       33      2              6    119                2783   \n",
       "top     ROBLOX   FAMILY   Free       Everyone  Tools  Varies with device   \n",
       "freq         9     1972  10040           8714    842                1459   \n",
       "\n",
       "       Android Ver  \n",
       "count        10838  \n",
       "unique          33  \n",
       "top     4.1 and up  \n",
       "freq          2451  "
      ]
     },
     "execution_count": 17,
     "metadata": {},
     "output_type": "execute_result"
    }
   ],
   "source": [
    "cate_col_df = df.select_dtypes(include= 'object')\n",
    "cate_col_df.describe()"
   ]
  },
  {
   "cell_type": "markdown",
   "metadata": {
    "slideshow": {
     "slide_type": "slide"
    }
   },
   "source": [
    "# Các câu hỏi từ dữ liệu"
   ]
  },
  {
   "cell_type": "markdown",
   "metadata": {
    "slideshow": {
     "slide_type": "slide"
    }
   },
   "source": [
    "## Xây dựng ứng dụng về các chủ đề nào là tốt?"
   ]
  },
  {
   "cell_type": "markdown",
   "metadata": {
    "slideshow": {
     "slide_type": "subslide"
    }
   },
   "source": [
    "- Các ứng dụng hiện này theo chủ đề nào là nhiều?"
   ]
  },
  {
   "cell_type": "code",
   "execution_count": 18,
   "metadata": {
    "slideshow": {
     "slide_type": "fragment"
    }
   },
   "outputs": [
    {
     "data": {
      "text/plain": [
       "<AxesSubplot:xlabel='count', ylabel='Category'>"
      ]
     },
     "execution_count": 18,
     "metadata": {},
     "output_type": "execute_result"
    },
    {
     "data": {
      "image/png": "[encoded data removed]",
      "text/plain": [
       "<Figure size 1080x720 with 1 Axes>"
      ]
     },
     "metadata": {
      "needs_background": "light"
     },
     "output_type": "display_data"
    }
   ],
   "source": [
    "plt.figure(figsize=(15,10))\n",
    "sns.countplot(y = \"Category\", data = df, order = df['Category'].value_counts().index)"
   ]
  },
  {
   "cell_type": "markdown",
   "metadata": {
    "slideshow": {
     "slide_type": "subslide"
    }
   },
   "source": [
    "- Lượng cài đặt ứng dụng với từng chủ đề là bao nhiêu?"
   ]
  },
  {
   "cell_type": "code",
   "execution_count": 19,
   "metadata": {
    "scrolled": false,
    "slideshow": {
     "slide_type": "fragment"
    }
   },
   "outputs": [
    {
     "data": {
      "text/plain": [
       "<BarContainer object of 33 artists>"
      ]
     },
     "execution_count": 19,
     "metadata": {},
     "output_type": "execute_result"
    },
    {
     "data": {
      "image/png": "[encoded data removed]",
      "text/plain": [
       "<Figure size 1080x720 with 1 Axes>"
      ]
     },
     "metadata": {
      "needs_background": "light"
     },
     "output_type": "display_data"
    }
   ],
   "source": [
    "temp_df = df.groupby(\"Category\")[\"Installs\"].mean()\n",
    "temp_df = temp_df.sort_values(ascending = True)\n",
    "plt.figure(figsize=(15,10))\n",
    "plt.barh(temp_df.index, temp_df)"
   ]
  },
  {
   "cell_type": "markdown",
   "metadata": {
    "slideshow": {
     "slide_type": "subslide"
    }
   },
   "source": [
    "- Lấy top 5 `Category` được cài nhiều mỗi năm"
   ]
  },
  {
   "cell_type": "code",
   "execution_count": 20,
   "metadata": {
    "slideshow": {
     "slide_type": "fragment"
    }
   },
   "outputs": [
    {
     "data": {
      "text/html": [
       "<div>\n",
       "<style scoped>\n",
       "    .dataframe tbody tr th:only-of-type {\n",
       "        vertical-align: middle;\n",
       "    }\n",
       "\n",
       "    .dataframe tbody tr th {\n",
       "        vertical-align: top;\n",
       "    }\n",
       "\n",
       "    .dataframe thead th {\n",
       "        text-align: right;\n",
       "    }\n",
       "</style>\n",
       "<table border=\"1\" class=\"dataframe\">\n",
       "  <thead>\n",
       "    <tr style=\"text-align: right;\">\n",
       "      <th>Year</th>\n",
       "      <th>2010</th>\n",
       "      <th>2011</th>\n",
       "      <th>2012</th>\n",
       "      <th>2013</th>\n",
       "      <th>2014</th>\n",
       "      <th>2015</th>\n",
       "      <th>2016</th>\n",
       "      <th>2017</th>\n",
       "      <th>2018</th>\n",
       "    </tr>\n",
       "    <tr>\n",
       "      <th>Top</th>\n",
       "      <th></th>\n",
       "      <th></th>\n",
       "      <th></th>\n",
       "      <th></th>\n",
       "      <th></th>\n",
       "      <th></th>\n",
       "      <th></th>\n",
       "      <th></th>\n",
       "      <th></th>\n",
       "    </tr>\n",
       "  </thead>\n",
       "  <tbody>\n",
       "    <tr>\n",
       "      <th>1</th>\n",
       "      <td>FAMILY</td>\n",
       "      <td>TOOLS</td>\n",
       "      <td>LIBRARIES_AND_DEMO</td>\n",
       "      <td>FAMILY</td>\n",
       "      <td>FAMILY</td>\n",
       "      <td>GAME</td>\n",
       "      <td>VIDEO_PLAYERS</td>\n",
       "      <td>PHOTOGRAPHY</td>\n",
       "      <td>NEWS_AND_MAGAZINES</td>\n",
       "    </tr>\n",
       "    <tr>\n",
       "      <th>2</th>\n",
       "      <td>NaN</td>\n",
       "      <td>GAME</td>\n",
       "      <td>GAME</td>\n",
       "      <td>GAME</td>\n",
       "      <td>PERSONALIZATION</td>\n",
       "      <td>BOOKS_AND_REFERENCE</td>\n",
       "      <td>GAME</td>\n",
       "      <td>GAME</td>\n",
       "      <td>FAMILY</td>\n",
       "    </tr>\n",
       "    <tr>\n",
       "      <th>3</th>\n",
       "      <td>NaN</td>\n",
       "      <td>LIBRARIES_AND_DEMO</td>\n",
       "      <td>HEALTH_AND_FITNESS</td>\n",
       "      <td>LIBRARIES_AND_DEMO</td>\n",
       "      <td>TOOLS</td>\n",
       "      <td>PHOTOGRAPHY</td>\n",
       "      <td>TOOLS</td>\n",
       "      <td>TOOLS</td>\n",
       "      <td>VIDEO_PLAYERS</td>\n",
       "    </tr>\n",
       "    <tr>\n",
       "      <th>4</th>\n",
       "      <td>NaN</td>\n",
       "      <td>BOOKS_AND_REFERENCE</td>\n",
       "      <td>FAMILY</td>\n",
       "      <td>PRODUCTIVITY</td>\n",
       "      <td>GAME</td>\n",
       "      <td>VIDEO_PLAYERS</td>\n",
       "      <td>PRODUCTIVITY</td>\n",
       "      <td>FAMILY</td>\n",
       "      <td>PHOTOGRAPHY</td>\n",
       "    </tr>\n",
       "    <tr>\n",
       "      <th>5</th>\n",
       "      <td>NaN</td>\n",
       "      <td>LIFESTYLE</td>\n",
       "      <td>PHOTOGRAPHY</td>\n",
       "      <td>SPORTS</td>\n",
       "      <td>COMMUNICATION</td>\n",
       "      <td>FAMILY</td>\n",
       "      <td>FAMILY</td>\n",
       "      <td>SPORTS</td>\n",
       "      <td>PRODUCTIVITY</td>\n",
       "    </tr>\n",
       "  </tbody>\n",
       "</table>\n",
       "</div>"
      ],
      "text/plain": [
       "Year    2010                 2011                2012                2013  \\\n",
       "Top                                                                         \n",
       "1     FAMILY                TOOLS  LIBRARIES_AND_DEMO              FAMILY   \n",
       "2        NaN                 GAME                GAME                GAME   \n",
       "3        NaN   LIBRARIES_AND_DEMO  HEALTH_AND_FITNESS  LIBRARIES_AND_DEMO   \n",
       "4        NaN  BOOKS_AND_REFERENCE              FAMILY        PRODUCTIVITY   \n",
       "5        NaN            LIFESTYLE         PHOTOGRAPHY              SPORTS   \n",
       "\n",
       "Year             2014                 2015           2016         2017  \\\n",
       "Top                                                                      \n",
       "1              FAMILY                 GAME  VIDEO_PLAYERS  PHOTOGRAPHY   \n",
       "2     PERSONALIZATION  BOOKS_AND_REFERENCE           GAME         GAME   \n",
       "3               TOOLS          PHOTOGRAPHY          TOOLS        TOOLS   \n",
       "4                GAME        VIDEO_PLAYERS   PRODUCTIVITY       FAMILY   \n",
       "5       COMMUNICATION               FAMILY         FAMILY       SPORTS   \n",
       "\n",
       "Year                2018  \n",
       "Top                       \n",
       "1     NEWS_AND_MAGAZINES  \n",
       "2                 FAMILY  \n",
       "3          VIDEO_PLAYERS  \n",
       "4            PHOTOGRAPHY  \n",
       "5           PRODUCTIVITY  "
      ]
     },
     "execution_count": 20,
     "metadata": {},
     "output_type": "execute_result"
    }
   ],
   "source": [
    "year_df = df.copy()\n",
    "year_df[\"Year\"] = df[\"Last Updated\"].dt.year\n",
    "###\n",
    "g = year_df.groupby(\"Year\")\n",
    "res = g.apply(lambda x: x.reset_index().sort_values(by = \"Installs\", ascending=False).drop_duplicates(subset=\"Category\").head(5)[\"Category\"])\n",
    "top5_category_year_df = pd.DataFrame(res)\n",
    "top5_category_year_df = top5_category_year_df.reset_index().drop(\"level_1\", axis=1)\n",
    "top5_category_year_df.index = np.concatenate([[1],np.arange(0, 40)%5 + 1])\n",
    "top5_category_year_df = top5_category_year_df.reset_index().rename(columns={'index': 'Top'})\n",
    "top5_category_year_df = top5_category_year_df.pivot(index='Top', columns='Year', values='Category')\n",
    "top5_category_year_df"
   ]
  },
  {
   "cell_type": "markdown",
   "metadata": {
    "slideshow": {
     "slide_type": "subslide"
    }
   },
   "source": [
    "- Lấy top 5 `App` được cài đặt nhiều ứng với mỗi `Category`"
   ]
  },
  {
   "cell_type": "code",
   "execution_count": 21,
   "metadata": {
    "scrolled": false,
    "slideshow": {
     "slide_type": "fragment"
    }
   },
   "outputs": [
    {
     "data": {
      "text/html": [
       "<div>\n",
       "<style scoped>\n",
       "    .dataframe tbody tr th:only-of-type {\n",
       "        vertical-align: middle;\n",
       "    }\n",
       "\n",
       "    .dataframe tbody tr th {\n",
       "        vertical-align: top;\n",
       "    }\n",
       "\n",
       "    .dataframe thead th {\n",
       "        text-align: right;\n",
       "    }\n",
       "</style>\n",
       "<table border=\"1\" class=\"dataframe\">\n",
       "  <thead>\n",
       "    <tr style=\"text-align: right;\">\n",
       "      <th>Category</th>\n",
       "      <th>COMMUNICATION</th>\n",
       "      <th>SOCIAL</th>\n",
       "      <th>VIDEO_PLAYERS</th>\n",
       "      <th>PRODUCTIVITY</th>\n",
       "      <th>GAME</th>\n",
       "      <th>PHOTOGRAPHY</th>\n",
       "    </tr>\n",
       "    <tr>\n",
       "      <th>Top</th>\n",
       "      <th></th>\n",
       "      <th></th>\n",
       "      <th></th>\n",
       "      <th></th>\n",
       "      <th></th>\n",
       "      <th></th>\n",
       "    </tr>\n",
       "  </thead>\n",
       "  <tbody>\n",
       "    <tr>\n",
       "      <th>1</th>\n",
       "      <td>Messenger – Text and Video Chat for Free</td>\n",
       "      <td>Facebook</td>\n",
       "      <td>YouTube</td>\n",
       "      <td>Google Drive</td>\n",
       "      <td>Subway Surfers</td>\n",
       "      <td>Google Photos</td>\n",
       "    </tr>\n",
       "    <tr>\n",
       "      <th>2</th>\n",
       "      <td>Skype - free IM &amp; video calls</td>\n",
       "      <td>Google+</td>\n",
       "      <td>Google Play Movies &amp; TV</td>\n",
       "      <td>Microsoft Word</td>\n",
       "      <td>Temple Run 2</td>\n",
       "      <td>Z Camera - Photo Editor, Beauty Selfie, Collage</td>\n",
       "    </tr>\n",
       "    <tr>\n",
       "      <th>3</th>\n",
       "      <td>Google Chrome: Fast &amp; Secure</td>\n",
       "      <td>Instagram</td>\n",
       "      <td>MX Player</td>\n",
       "      <td>Google Calendar</td>\n",
       "      <td>Candy Crush Saga</td>\n",
       "      <td>YouCam Perfect - Selfie Photo Editor</td>\n",
       "    </tr>\n",
       "    <tr>\n",
       "      <th>4</th>\n",
       "      <td>Hangouts</td>\n",
       "      <td>Snapchat</td>\n",
       "      <td>VideoShow-Video Editor, Video Maker, Beauty Ca...</td>\n",
       "      <td>Dropbox</td>\n",
       "      <td>Pou</td>\n",
       "      <td>BeautyPlus - Easy Photo Editor &amp; Selfie Camera</td>\n",
       "    </tr>\n",
       "    <tr>\n",
       "      <th>5</th>\n",
       "      <td>WhatsApp Messenger</td>\n",
       "      <td>Facebook Lite</td>\n",
       "      <td>VivaVideo - Video Editor &amp; Photo Movie</td>\n",
       "      <td>Cloud Print</td>\n",
       "      <td>My Talking Tom</td>\n",
       "      <td>YouCam Makeup - Magic Selfie Makeovers</td>\n",
       "    </tr>\n",
       "  </tbody>\n",
       "</table>\n",
       "</div>"
      ],
      "text/plain": [
       "Category                             COMMUNICATION         SOCIAL  \\\n",
       "Top                                                                 \n",
       "1         Messenger – Text and Video Chat for Free       Facebook   \n",
       "2                    Skype - free IM & video calls        Google+   \n",
       "3                     Google Chrome: Fast & Secure      Instagram   \n",
       "4                                         Hangouts       Snapchat   \n",
       "5                               WhatsApp Messenger  Facebook Lite   \n",
       "\n",
       "Category                                      VIDEO_PLAYERS     PRODUCTIVITY  \\\n",
       "Top                                                                            \n",
       "1                                                   YouTube     Google Drive   \n",
       "2                                   Google Play Movies & TV   Microsoft Word   \n",
       "3                                                 MX Player  Google Calendar   \n",
       "4         VideoShow-Video Editor, Video Maker, Beauty Ca...          Dropbox   \n",
       "5                    VivaVideo - Video Editor & Photo Movie      Cloud Print   \n",
       "\n",
       "Category              GAME                                      PHOTOGRAPHY  \n",
       "Top                                                                          \n",
       "1           Subway Surfers                                    Google Photos  \n",
       "2             Temple Run 2  Z Camera - Photo Editor, Beauty Selfie, Collage  \n",
       "3         Candy Crush Saga             YouCam Perfect - Selfie Photo Editor  \n",
       "4                      Pou   BeautyPlus - Easy Photo Editor & Selfie Camera  \n",
       "5           My Talking Tom           YouCam Makeup - Magic Selfie Makeovers  "
      ]
     },
     "execution_count": 21,
     "metadata": {},
     "output_type": "execute_result"
    }
   ],
   "source": [
    "g = df.groupby(\"Category\")\n",
    "res = g.apply(lambda x: x.reset_index().sort_values(by = \"Installs\", ascending=False).drop_duplicates(subset=\"App\").head(5)[\"App\"])\n",
    "top5_app_category_df = pd.DataFrame(res)\n",
    "top5_app_category_df = top5_app_category_df.reset_index().drop(\"level_1\", axis=1)\n",
    "top5_app_category_df.index = np.arange(0, 165)%5 + 1\n",
    "top5_app_category_df = top5_app_category_df.reset_index().rename(columns={'index': 'Top'})\n",
    "top5_app_category_df = top5_app_category_df.pivot(index='Top', columns='Category', values='App')\n",
    "top5_app_category_df[[\"COMMUNICATION\", \"SOCIAL\", \"VIDEO_PLAYERS\", \"PRODUCTIVITY\", \"GAME\", \"PHOTOGRAPHY\"]]"
   ]
  },
  {
   "cell_type": "markdown",
   "metadata": {
    "slideshow": {
     "slide_type": "subslide"
    }
   },
   "source": [
    "- Trong thể loại `GAME`"
   ]
  },
  {
   "cell_type": "code",
   "execution_count": 22,
   "metadata": {
    "scrolled": false,
    "slideshow": {
     "slide_type": "fragment"
    }
   },
   "outputs": [
    {
     "data": {
      "text/plain": [
       "<AxesSubplot:xlabel='count', ylabel='Genres'>"
      ]
     },
     "execution_count": 22,
     "metadata": {},
     "output_type": "execute_result"
    },
    {
     "data": {
      "image/png": "[encoded data removed]",
      "text/plain": [
       "<Figure size 1080x720 with 1 Axes>"
      ]
     },
     "metadata": {
      "needs_background": "light"
     },
     "output_type": "display_data"
    }
   ],
   "source": [
    "cate_game_sr = df[df[\"Category\"] ==\"GAME\"][\"Genres\"]\n",
    "cate_game_sr = cate_game_sr.map(lambda x: x.split(\";\"))\n",
    "cate_game_sr = cate_game_sr.explode(\"Genres\")\n",
    "plt.figure(figsize=(15,10))\n",
    "sns.countplot(y = cate_game_sr, order = cate_game_sr.value_counts().index)"
   ]
  },
  {
   "cell_type": "markdown",
   "metadata": {
    "slideshow": {
     "slide_type": "slide"
    }
   },
   "source": [
    "## Xây dựng ứng dụng Free hay Paid."
   ]
  },
  {
   "cell_type": "markdown",
   "metadata": {
    "slideshow": {
     "slide_type": "subslide"
    }
   },
   "source": [
    "- So sánh Rating, Reviews, Size, Installs, Price, Count"
   ]
  },
  {
   "cell_type": "code",
   "execution_count": 23,
   "metadata": {
    "slideshow": {
     "slide_type": "fragment"
    }
   },
   "outputs": [
    {
     "data": {
      "text/html": [
       "<div>\n",
       "<style scoped>\n",
       "    .dataframe tbody tr th:only-of-type {\n",
       "        vertical-align: middle;\n",
       "    }\n",
       "\n",
       "    .dataframe tbody tr th {\n",
       "        vertical-align: top;\n",
       "    }\n",
       "\n",
       "    .dataframe thead th {\n",
       "        text-align: right;\n",
       "    }\n",
       "</style>\n",
       "<table border=\"1\" class=\"dataframe\">\n",
       "  <thead>\n",
       "    <tr style=\"text-align: right;\">\n",
       "      <th></th>\n",
       "      <th>Rating</th>\n",
       "      <th>Reviews</th>\n",
       "      <th>Size</th>\n",
       "      <th>Installs</th>\n",
       "      <th>Price</th>\n",
       "      <th>Count</th>\n",
       "    </tr>\n",
       "    <tr>\n",
       "      <th>Type</th>\n",
       "      <th></th>\n",
       "      <th></th>\n",
       "      <th></th>\n",
       "      <th></th>\n",
       "      <th></th>\n",
       "      <th></th>\n",
       "    </tr>\n",
       "  </thead>\n",
       "  <tbody>\n",
       "    <tr>\n",
       "      <th>Free</th>\n",
       "      <td>4.185228</td>\n",
       "      <td>478613.420618</td>\n",
       "      <td>1.820618e+07</td>\n",
       "      <td>1.668929e+07</td>\n",
       "      <td>0.000000</td>\n",
       "      <td>10040</td>\n",
       "    </tr>\n",
       "    <tr>\n",
       "      <th>Paid</th>\n",
       "      <td>4.256044</td>\n",
       "      <td>11673.312500</td>\n",
       "      <td>1.747326e+07</td>\n",
       "      <td>9.119510e+04</td>\n",
       "      <td>13.920837</td>\n",
       "      <td>800</td>\n",
       "    </tr>\n",
       "  </tbody>\n",
       "</table>\n",
       "</div>"
      ],
      "text/plain": [
       "        Rating        Reviews          Size      Installs      Price  Count\n",
       "Type                                                                       \n",
       "Free  4.185228  478613.420618  1.820618e+07  1.668929e+07   0.000000  10040\n",
       "Paid  4.256044   11673.312500  1.747326e+07  9.119510e+04  13.920837    800"
      ]
     },
     "execution_count": 23,
     "metadata": {},
     "output_type": "execute_result"
    }
   ],
   "source": [
    "type_grp=df.groupby('Type')\n",
    "type_grp=type_grp.mean()\n",
    "type_grp['Count']=df.groupby('Type')['App'].count()\n",
    "type_grp"
   ]
  },
  {
   "cell_type": "markdown",
   "metadata": {
    "slideshow": {
     "slide_type": "subslide"
    }
   },
   "source": [
    "- Với mỗi `Category` thì ta nên xây dựng ứng dụng Free hay Paid là hợp lí?"
   ]
  },
  {
   "cell_type": "markdown",
   "metadata": {
    "slideshow": {
     "slide_type": "fragment"
    }
   },
   "source": [
    "Ta sẽ đánh giá qua tỉ lệ `Rating` trung bình ứng với mỗi `Category`"
   ]
  },
  {
   "cell_type": "code",
   "execution_count": 24,
   "metadata": {
    "slideshow": {
     "slide_type": "subslide"
    }
   },
   "outputs": [
    {
     "data": {
      "image/png": "[encoded data removed]",
      "text/plain": [
       "<Figure size 1080x720 with 1 Axes>"
      ]
     },
     "metadata": {
      "needs_background": "light"
     },
     "output_type": "display_data"
    }
   ],
   "source": [
    "plt.figure(figsize=(15,10))\n",
    "temp_df_1 = df[df[\"Type\"] == \"Free\"].groupby(\"Category\")[\"Rating\"].mean()\n",
    "temp_df_2 = df[df[\"Type\"] == \"Paid\"].groupby(\"Category\")[\"Rating\"].mean()\n",
    "temp_df = temp_df_1 - temp_df_2\n",
    "temp_df= temp_df.sort_values()\n",
    "sns.barplot(x=temp_df.index, y=temp_df.values)\n",
    "plt.xticks(rotation=90)\n",
    "plt.show()"
   ]
  },
  {
   "cell_type": "markdown",
   "metadata": {
    "slideshow": {
     "slide_type": "slide"
    }
   },
   "source": [
    "## Yếu tố ảnh hưởng đến Install"
   ]
  },
  {
   "cell_type": "markdown",
   "metadata": {
    "slideshow": {
     "slide_type": "subslide"
    }
   },
   "source": [
    "- Vẽ biểu đồ quan sát `Rating`, `Reviews`, `Size`, `Price` ảnh hưởng đến `Installs` như thế nào?"
   ]
  },
  {
   "cell_type": "code",
   "execution_count": 25,
   "metadata": {
    "slideshow": {
     "slide_type": "fragment"
    }
   },
   "outputs": [
    {
     "data": {
      "image/png": "[encoded data removed]",
      "text/plain": [
       "<Figure size 1332x432 with 4 Axes>"
      ]
     },
     "metadata": {
      "needs_background": "light"
     },
     "output_type": "display_data"
    }
   ],
   "source": [
    "fig, axs = plt.subplots(1,4)\n",
    "axs[0].scatter(year_df[\"Rating\"], year_df[\"Installs\"])\n",
    "axs[1].scatter(year_df[\"Reviews\"], year_df[\"Installs\"])\n",
    "axs[2].scatter(year_df[\"Size\"], year_df[\"Installs\"])\n",
    "axs[3].scatter(year_df[\"Price\"], year_df[\"Installs\"])\n",
    "fig.set_size_inches(18.5, 6)"
   ]
  },
  {
   "cell_type": "markdown",
   "metadata": {
    "slideshow": {
     "slide_type": "subslide"
    }
   },
   "source": [
    "- Lượng install trung bình qua các năm"
   ]
  },
  {
   "cell_type": "code",
   "execution_count": 26,
   "metadata": {
    "slideshow": {
     "slide_type": "fragment"
    }
   },
   "outputs": [
    {
     "data": {
      "text/plain": [
       "<AxesSubplot:xlabel='Year'>"
      ]
     },
     "execution_count": 26,
     "metadata": {},
     "output_type": "execute_result"
    },
    {
     "data": {
      "image/png": "[encoded data removed]",
      "text/plain": [
       "<Figure size 1080x576 with 1 Axes>"
      ]
     },
     "metadata": {
      "needs_background": "light"
     },
     "output_type": "display_data"
    }
   ],
   "source": [
    "install_ysr = year_df.groupby(\"Year\")[\"Installs\"].mean()\n",
    "install_ysr.plot(kind=\"line\", marker = \"o\", figsize = (15,8))"
   ]
  },
  {
   "cell_type": "markdown",
   "metadata": {
    "slideshow": {
     "slide_type": "subslide"
    }
   },
   "source": [
    "`Nhận xét`: \n",
    "- Nhận thấy không thể qua quan sát bình thường có thể nhận thấy sự ảnh hưởng của các thuộc tính `Rating`, `Reviews`, `Size`, `Price` tới lượng `Installs`.\n",
    "- Qua từng năm thì lượng Installs các ứng dụng càng ngày càng tăng vậy `Year` có phải ảnh hưởng lớn đến lượng Install không?"
   ]
  },
  {
   "cell_type": "markdown",
   "metadata": {
    "slideshow": {
     "slide_type": "subslide"
    }
   },
   "source": [
    "- Sử dụng thuật toán RandomForestClassifier để tìm ra tầm quan trọng của các thuộc tính ảnh hưởng đến lượng `Installs`"
   ]
  },
  {
   "cell_type": "code",
   "execution_count": 27,
   "metadata": {
    "slideshow": {
     "slide_type": "fragment"
    }
   },
   "outputs": [],
   "source": [
    "year_df = year_df.dropna()\n",
    "y = year_df[\"Installs\"]\n",
    "x = year_df[[\"Rating\", \"Reviews\", \"Size\", \"Price\", \"Year\"]]"
   ]
  },
  {
   "cell_type": "code",
   "execution_count": 28,
   "metadata": {
    "slideshow": {
     "slide_type": "fragment"
    }
   },
   "outputs": [
    {
     "data": {
      "text/plain": [
       "GridSearchCV(cv=5, estimator=RandomForestClassifier(), n_jobs=8,\n",
       "             param_grid={'n_estimators': [10, 50, 100]}, scoring='f1_macro')"
      ]
     },
     "execution_count": 28,
     "metadata": {},
     "output_type": "execute_result"
    }
   ],
   "source": [
    "from sklearn.model_selection import GridSearchCV\n",
    "from sklearn.ensemble import RandomForestClassifier\n",
    "clf_base = RandomForestClassifier()\n",
    "grid = {'n_estimators': [10, 50, 100]}\n",
    "clf_rf = GridSearchCV(clf_base, grid, cv=5, n_jobs=8, scoring='f1_macro')\n",
    "\n",
    "clf_rf.fit(x, y)"
   ]
  },
  {
   "cell_type": "code",
   "execution_count": 29,
   "metadata": {
    "slideshow": {
     "slide_type": "subslide"
    }
   },
   "outputs": [
    {
     "data": {
      "text/plain": [
       "Text(0.5, 1.0, 'Random Forest Classifier Feature Importance')"
      ]
     },
     "execution_count": 29,
     "metadata": {},
     "output_type": "execute_result"
    },
    {
     "data": {
      "image/png": "[encoded data removed]",
      "text/plain": [
       "<Figure size 1080x720 with 1 Axes>"
      ]
     },
     "metadata": {
      "needs_background": "light"
     },
     "output_type": "display_data"
    }
   ],
   "source": [
    "importances = pd.DataFrame(np.zeros((x.shape[1], 1)), columns=['importance'], index = x.columns)\n",
    "\n",
    "importances.iloc[:,0] = clf_rf.best_estimator_.feature_importances_\n",
    "\n",
    "importances.sort_values(by='importance', inplace=True, ascending=False)\n",
    "importances30 = importances.head(30)\n",
    "\n",
    "plt.figure(figsize=(15, 10))\n",
    "sns.barplot(x='importance', y=importances30.index, data=importances30)\n",
    "\n",
    "plt.xlabel('')\n",
    "plt.tick_params(axis='x', labelsize=10)\n",
    "plt.tick_params(axis='y', labelsize=10)\n",
    "plt.title('Random Forest Classifier Feature Importance', size=20, weight='bold')"
   ]
  },
  {
   "cell_type": "markdown",
   "metadata": {
    "slideshow": {
     "slide_type": "subslide"
    }
   },
   "source": [
    "`Nhận xét`:\n",
    "- Quan sát kết quả của mô hình được xây dựng từ dữ liệu của chúng ta thì dường như 2 thuộc tính `Year` và `Price` không quá ảnh hưởng đến quyết định của người dùng, cụ thể ở đây là số lượt `Installs`.\n",
    "- Thay vào đó thì số lượt `Reviews` lại có vẻ như đóng một vai trò rất quan trọng đối với yếu tố `Installs`.\n",
    "- Vì vậy khi xây dựng và vận hành các ứng dụng, các nhà phát triển phải đặc biệt chú tâm tới các lượt `Reviews` thì ứng dụng của mình mới có thể phát triển tốt được."
   ]
  },
  {
   "cell_type": "markdown",
   "metadata": {
    "slideshow": {
     "slide_type": "slide"
    }
   },
   "source": [
    "## Tìm những ứng dụng được đánh giá tốt thông qua Review của khách hàng"
   ]
  },
  {
   "cell_type": "markdown",
   "metadata": {
    "slideshow": {
     "slide_type": "subslide"
    }
   },
   "source": [
    "- Đọc file dữ liệu `googleplaystore_user_reviews.csv`"
   ]
  },
  {
   "cell_type": "code",
   "execution_count": 30,
   "metadata": {
    "slideshow": {
     "slide_type": "fragment"
    }
   },
   "outputs": [
    {
     "data": {
      "text/html": [
       "<div>\n",
       "<style scoped>\n",
       "    .dataframe tbody tr th:only-of-type {\n",
       "        vertical-align: middle;\n",
       "    }\n",
       "\n",
       "    .dataframe tbody tr th {\n",
       "        vertical-align: top;\n",
       "    }\n",
       "\n",
       "    .dataframe thead th {\n",
       "        text-align: right;\n",
       "    }\n",
       "</style>\n",
       "<table border=\"1\" class=\"dataframe\">\n",
       "  <thead>\n",
       "    <tr style=\"text-align: right;\">\n",
       "      <th></th>\n",
       "      <th>App</th>\n",
       "      <th>Translated_Review</th>\n",
       "      <th>Sentiment</th>\n",
       "      <th>Sentiment_Polarity</th>\n",
       "      <th>Sentiment_Subjectivity</th>\n",
       "    </tr>\n",
       "  </thead>\n",
       "  <tbody>\n",
       "    <tr>\n",
       "      <th>0</th>\n",
       "      <td>10 Best Foods for You</td>\n",
       "      <td>I like eat delicious food. That's I'm cooking ...</td>\n",
       "      <td>Positive</td>\n",
       "      <td>1.00</td>\n",
       "      <td>0.533333</td>\n",
       "    </tr>\n",
       "    <tr>\n",
       "      <th>1</th>\n",
       "      <td>10 Best Foods for You</td>\n",
       "      <td>This help eating healthy exercise regular basis</td>\n",
       "      <td>Positive</td>\n",
       "      <td>0.25</td>\n",
       "      <td>0.288462</td>\n",
       "    </tr>\n",
       "    <tr>\n",
       "      <th>2</th>\n",
       "      <td>10 Best Foods for You</td>\n",
       "      <td>NaN</td>\n",
       "      <td>NaN</td>\n",
       "      <td>NaN</td>\n",
       "      <td>NaN</td>\n",
       "    </tr>\n",
       "    <tr>\n",
       "      <th>3</th>\n",
       "      <td>10 Best Foods for You</td>\n",
       "      <td>Works great especially going grocery store</td>\n",
       "      <td>Positive</td>\n",
       "      <td>0.40</td>\n",
       "      <td>0.875000</td>\n",
       "    </tr>\n",
       "    <tr>\n",
       "      <th>4</th>\n",
       "      <td>10 Best Foods for You</td>\n",
       "      <td>Best idea us</td>\n",
       "      <td>Positive</td>\n",
       "      <td>1.00</td>\n",
       "      <td>0.300000</td>\n",
       "    </tr>\n",
       "    <tr>\n",
       "      <th>...</th>\n",
       "      <td>...</td>\n",
       "      <td>...</td>\n",
       "      <td>...</td>\n",
       "      <td>...</td>\n",
       "      <td>...</td>\n",
       "    </tr>\n",
       "    <tr>\n",
       "      <th>64290</th>\n",
       "      <td>Houzz Interior Design Ideas</td>\n",
       "      <td>NaN</td>\n",
       "      <td>NaN</td>\n",
       "      <td>NaN</td>\n",
       "      <td>NaN</td>\n",
       "    </tr>\n",
       "    <tr>\n",
       "      <th>64291</th>\n",
       "      <td>Houzz Interior Design Ideas</td>\n",
       "      <td>NaN</td>\n",
       "      <td>NaN</td>\n",
       "      <td>NaN</td>\n",
       "      <td>NaN</td>\n",
       "    </tr>\n",
       "    <tr>\n",
       "      <th>64292</th>\n",
       "      <td>Houzz Interior Design Ideas</td>\n",
       "      <td>NaN</td>\n",
       "      <td>NaN</td>\n",
       "      <td>NaN</td>\n",
       "      <td>NaN</td>\n",
       "    </tr>\n",
       "    <tr>\n",
       "      <th>64293</th>\n",
       "      <td>Houzz Interior Design Ideas</td>\n",
       "      <td>NaN</td>\n",
       "      <td>NaN</td>\n",
       "      <td>NaN</td>\n",
       "      <td>NaN</td>\n",
       "    </tr>\n",
       "    <tr>\n",
       "      <th>64294</th>\n",
       "      <td>Houzz Interior Design Ideas</td>\n",
       "      <td>NaN</td>\n",
       "      <td>NaN</td>\n",
       "      <td>NaN</td>\n",
       "      <td>NaN</td>\n",
       "    </tr>\n",
       "  </tbody>\n",
       "</table>\n",
       "<p>64295 rows × 5 columns</p>\n",
       "</div>"
      ],
      "text/plain": [
       "                               App  \\\n",
       "0            10 Best Foods for You   \n",
       "1            10 Best Foods for You   \n",
       "2            10 Best Foods for You   \n",
       "3            10 Best Foods for You   \n",
       "4            10 Best Foods for You   \n",
       "...                            ...   \n",
       "64290  Houzz Interior Design Ideas   \n",
       "64291  Houzz Interior Design Ideas   \n",
       "64292  Houzz Interior Design Ideas   \n",
       "64293  Houzz Interior Design Ideas   \n",
       "64294  Houzz Interior Design Ideas   \n",
       "\n",
       "                                       Translated_Review Sentiment  \\\n",
       "0      I like eat delicious food. That's I'm cooking ...  Positive   \n",
       "1        This help eating healthy exercise regular basis  Positive   \n",
       "2                                                    NaN       NaN   \n",
       "3             Works great especially going grocery store  Positive   \n",
       "4                                           Best idea us  Positive   \n",
       "...                                                  ...       ...   \n",
       "64290                                                NaN       NaN   \n",
       "64291                                                NaN       NaN   \n",
       "64292                                                NaN       NaN   \n",
       "64293                                                NaN       NaN   \n",
       "64294                                                NaN       NaN   \n",
       "\n",
       "       Sentiment_Polarity  Sentiment_Subjectivity  \n",
       "0                    1.00                0.533333  \n",
       "1                    0.25                0.288462  \n",
       "2                     NaN                     NaN  \n",
       "3                    0.40                0.875000  \n",
       "4                    1.00                0.300000  \n",
       "...                   ...                     ...  \n",
       "64290                 NaN                     NaN  \n",
       "64291                 NaN                     NaN  \n",
       "64292                 NaN                     NaN  \n",
       "64293                 NaN                     NaN  \n",
       "64294                 NaN                     NaN  \n",
       "\n",
       "[64295 rows x 5 columns]"
      ]
     },
     "execution_count": 30,
     "metadata": {},
     "output_type": "execute_result"
    }
   ],
   "source": [
    "df2 = pd.read_csv(\"data\\googleplaystore_user_reviews.csv\")\n",
    "df2"
   ]
  },
  {
   "cell_type": "markdown",
   "metadata": {
    "slideshow": {
     "slide_type": "subslide"
    }
   },
   "source": [
    "- Dữ liệu có bao nhiêu dòng, cột?"
   ]
  },
  {
   "cell_type": "code",
   "execution_count": 31,
   "metadata": {
    "slideshow": {
     "slide_type": "fragment"
    }
   },
   "outputs": [
    {
     "data": {
      "text/plain": [
       "(64295, 5)"
      ]
     },
     "execution_count": 31,
     "metadata": {},
     "output_type": "execute_result"
    }
   ],
   "source": [
    "df2.shape"
   ]
  },
  {
   "cell_type": "markdown",
   "metadata": {
    "slideshow": {
     "slide_type": "subslide"
    }
   },
   "source": [
    "- Thông tin mỗi cột"
   ]
  },
  {
   "cell_type": "markdown",
   "metadata": {
    "slideshow": {
     "slide_type": "fragment"
    }
   },
   "source": [
    "File này là dữ liệu về các lượt đánh giá (`Reviews`) của các ứng dụng (đã phiên dịch sang tiếng anh) và các thông tin hữu ích được rút trích ra từ các lượt đánh giá đó. Đầu tiên ta tìm hiểu những cột có ý nghĩa còn mơ hồ:\n",
    "- `Sentiment`: Là thái độ của người đánh giá dựa vào việc phân tích câu đánh giá, được phân làm 3 loại là Positive, Negative, Neutral.\n",
    "- `Sentiment_Polarity`: Là thái độ của người đánh giá được chuyển về dạng số với giới hạn trong khoảng [-1, 1] với các giá trị càng gần -1 là càng tiêu cực và ngược lại càng về 1 là càng tích cực.\n",
    "- `Sentiment_Subjectivity`: Là mức độ chủ quan trong lời đánh giá của người viết, giới hạn trong khoảng [0, 1] với các giá trị càng gần 1 thì mức độ chủ quan càng cao.\n",
    "\n",
    "Công việc bây giờ của chúng ta là từ những cột giá trị trên để tìm hiểu xem những ứng dụng nào được xem là tốt nhất từ tất cả các lời đánh giá (`Reviews`) của người dùng."
   ]
  },
  {
   "cell_type": "markdown",
   "metadata": {
    "slideshow": {
     "slide_type": "subslide"
    }
   },
   "source": [
    "- Tạo cột mới `Sentiment_Objectivity` để đánh giá Review đó có thực sự chính xác hay không?\n",
    "\n",
    "Giá trị của cột này sẽ được coi là thái độ khách quan của người dùng đối với ứng dụng qua lời đánh giá."
   ]
  },
  {
   "cell_type": "code",
   "execution_count": 32,
   "metadata": {
    "slideshow": {
     "slide_type": "fragment"
    }
   },
   "outputs": [
    {
     "data": {
      "text/html": [
       "<div>\n",
       "<style scoped>\n",
       "    .dataframe tbody tr th:only-of-type {\n",
       "        vertical-align: middle;\n",
       "    }\n",
       "\n",
       "    .dataframe tbody tr th {\n",
       "        vertical-align: top;\n",
       "    }\n",
       "\n",
       "    .dataframe thead th {\n",
       "        text-align: right;\n",
       "    }\n",
       "</style>\n",
       "<table border=\"1\" class=\"dataframe\">\n",
       "  <thead>\n",
       "    <tr style=\"text-align: right;\">\n",
       "      <th></th>\n",
       "      <th>App</th>\n",
       "      <th>Translated_Review</th>\n",
       "      <th>Sentiment</th>\n",
       "      <th>Sentiment_Polarity</th>\n",
       "      <th>Sentiment_Subjectivity</th>\n",
       "      <th>Sentiment_Objectivity</th>\n",
       "    </tr>\n",
       "  </thead>\n",
       "  <tbody>\n",
       "    <tr>\n",
       "      <th>0</th>\n",
       "      <td>10 Best Foods for You</td>\n",
       "      <td>I like eat delicious food. That's I'm cooking ...</td>\n",
       "      <td>Positive</td>\n",
       "      <td>1.000000</td>\n",
       "      <td>0.533333</td>\n",
       "      <td>1.874996</td>\n",
       "    </tr>\n",
       "    <tr>\n",
       "      <th>1</th>\n",
       "      <td>10 Best Foods for You</td>\n",
       "      <td>This help eating healthy exercise regular basis</td>\n",
       "      <td>Positive</td>\n",
       "      <td>0.250000</td>\n",
       "      <td>0.288462</td>\n",
       "      <td>0.866664</td>\n",
       "    </tr>\n",
       "    <tr>\n",
       "      <th>3</th>\n",
       "      <td>10 Best Foods for You</td>\n",
       "      <td>Works great especially going grocery store</td>\n",
       "      <td>Positive</td>\n",
       "      <td>0.400000</td>\n",
       "      <td>0.875000</td>\n",
       "      <td>0.457142</td>\n",
       "    </tr>\n",
       "    <tr>\n",
       "      <th>4</th>\n",
       "      <td>10 Best Foods for You</td>\n",
       "      <td>Best idea us</td>\n",
       "      <td>Positive</td>\n",
       "      <td>1.000000</td>\n",
       "      <td>0.300000</td>\n",
       "      <td>3.333322</td>\n",
       "    </tr>\n",
       "    <tr>\n",
       "      <th>5</th>\n",
       "      <td>10 Best Foods for You</td>\n",
       "      <td>Best way</td>\n",
       "      <td>Positive</td>\n",
       "      <td>1.000000</td>\n",
       "      <td>0.300000</td>\n",
       "      <td>3.333322</td>\n",
       "    </tr>\n",
       "    <tr>\n",
       "      <th>...</th>\n",
       "      <td>...</td>\n",
       "      <td>...</td>\n",
       "      <td>...</td>\n",
       "      <td>...</td>\n",
       "      <td>...</td>\n",
       "      <td>...</td>\n",
       "    </tr>\n",
       "    <tr>\n",
       "      <th>64222</th>\n",
       "      <td>Housing-Real Estate &amp; Property</td>\n",
       "      <td>Most ads older many agents ..not much owner po...</td>\n",
       "      <td>Positive</td>\n",
       "      <td>0.173333</td>\n",
       "      <td>0.486667</td>\n",
       "      <td>0.356164</td>\n",
       "    </tr>\n",
       "    <tr>\n",
       "      <th>64223</th>\n",
       "      <td>Housing-Real Estate &amp; Property</td>\n",
       "      <td>If photos posted portal load, fit purpose. I'm...</td>\n",
       "      <td>Positive</td>\n",
       "      <td>0.225000</td>\n",
       "      <td>0.447222</td>\n",
       "      <td>0.503104</td>\n",
       "    </tr>\n",
       "    <tr>\n",
       "      <th>64226</th>\n",
       "      <td>Housing-Real Estate &amp; Property</td>\n",
       "      <td>Dumb app, I wanted post property rent give opt...</td>\n",
       "      <td>Negative</td>\n",
       "      <td>-0.287500</td>\n",
       "      <td>0.250000</td>\n",
       "      <td>-1.149995</td>\n",
       "    </tr>\n",
       "    <tr>\n",
       "      <th>64227</th>\n",
       "      <td>Housing-Real Estate &amp; Property</td>\n",
       "      <td>I property business got link SMS happy perform...</td>\n",
       "      <td>Positive</td>\n",
       "      <td>0.800000</td>\n",
       "      <td>1.000000</td>\n",
       "      <td>0.799999</td>\n",
       "    </tr>\n",
       "    <tr>\n",
       "      <th>64230</th>\n",
       "      <td>Housing-Real Estate &amp; Property</td>\n",
       "      <td>Useless app, I searched flats kondapur, Hydera...</td>\n",
       "      <td>Negative</td>\n",
       "      <td>-0.316667</td>\n",
       "      <td>0.400000</td>\n",
       "      <td>-0.791665</td>\n",
       "    </tr>\n",
       "  </tbody>\n",
       "</table>\n",
       "<p>37427 rows × 6 columns</p>\n",
       "</div>"
      ],
      "text/plain": [
       "                                  App  \\\n",
       "0               10 Best Foods for You   \n",
       "1               10 Best Foods for You   \n",
       "3               10 Best Foods for You   \n",
       "4               10 Best Foods for You   \n",
       "5               10 Best Foods for You   \n",
       "...                               ...   \n",
       "64222  Housing-Real Estate & Property   \n",
       "64223  Housing-Real Estate & Property   \n",
       "64226  Housing-Real Estate & Property   \n",
       "64227  Housing-Real Estate & Property   \n",
       "64230  Housing-Real Estate & Property   \n",
       "\n",
       "                                       Translated_Review Sentiment  \\\n",
       "0      I like eat delicious food. That's I'm cooking ...  Positive   \n",
       "1        This help eating healthy exercise regular basis  Positive   \n",
       "3             Works great especially going grocery store  Positive   \n",
       "4                                           Best idea us  Positive   \n",
       "5                                               Best way  Positive   \n",
       "...                                                  ...       ...   \n",
       "64222  Most ads older many agents ..not much owner po...  Positive   \n",
       "64223  If photos posted portal load, fit purpose. I'm...  Positive   \n",
       "64226  Dumb app, I wanted post property rent give opt...  Negative   \n",
       "64227  I property business got link SMS happy perform...  Positive   \n",
       "64230  Useless app, I searched flats kondapur, Hydera...  Negative   \n",
       "\n",
       "       Sentiment_Polarity  Sentiment_Subjectivity  Sentiment_Objectivity  \n",
       "0                1.000000                0.533333               1.874996  \n",
       "1                0.250000                0.288462               0.866664  \n",
       "3                0.400000                0.875000               0.457142  \n",
       "4                1.000000                0.300000               3.333322  \n",
       "5                1.000000                0.300000               3.333322  \n",
       "...                   ...                     ...                    ...  \n",
       "64222            0.173333                0.486667               0.356164  \n",
       "64223            0.225000                0.447222               0.503104  \n",
       "64226           -0.287500                0.250000              -1.149995  \n",
       "64227            0.800000                1.000000               0.799999  \n",
       "64230           -0.316667                0.400000              -0.791665  \n",
       "\n",
       "[37427 rows x 6 columns]"
      ]
     },
     "execution_count": 32,
     "metadata": {},
     "output_type": "execute_result"
    }
   ],
   "source": [
    "df2.dropna(inplace=True)\n",
    "df2[\"Sentiment_Objectivity\"] = df2[\"Sentiment_Polarity\"] / (df2[\"Sentiment_Subjectivity\"]+0.000001)\n",
    "df2"
   ]
  },
  {
   "cell_type": "markdown",
   "metadata": {
    "slideshow": {
     "slide_type": "subslide"
    }
   },
   "source": [
    "- Ghép 2 DataFrame lại với nhau để lấy thông tin về thể loại của mỗi ứng dụng."
   ]
  },
  {
   "cell_type": "code",
   "execution_count": 33,
   "metadata": {
    "slideshow": {
     "slide_type": "fragment"
    }
   },
   "outputs": [
    {
     "data": {
      "text/html": [
       "<div>\n",
       "<style scoped>\n",
       "    .dataframe tbody tr th:only-of-type {\n",
       "        vertical-align: middle;\n",
       "    }\n",
       "\n",
       "    .dataframe tbody tr th {\n",
       "        vertical-align: top;\n",
       "    }\n",
       "\n",
       "    .dataframe thead th {\n",
       "        text-align: right;\n",
       "    }\n",
       "</style>\n",
       "<table border=\"1\" class=\"dataframe\">\n",
       "  <thead>\n",
       "    <tr style=\"text-align: right;\">\n",
       "      <th></th>\n",
       "      <th>App</th>\n",
       "      <th>Category</th>\n",
       "      <th>Sentiment_Objectivity</th>\n",
       "    </tr>\n",
       "  </thead>\n",
       "  <tbody>\n",
       "    <tr>\n",
       "      <th>0</th>\n",
       "      <td>10 Best Foods for You</td>\n",
       "      <td>HEALTH_AND_FITNESS</td>\n",
       "      <td>-102.148813</td>\n",
       "    </tr>\n",
       "    <tr>\n",
       "      <th>1</th>\n",
       "      <td>11st</td>\n",
       "      <td>SHOPPING</td>\n",
       "      <td>0.195005</td>\n",
       "    </tr>\n",
       "    <tr>\n",
       "      <th>2</th>\n",
       "      <td>1800 Contacts - Lens Store</td>\n",
       "      <td>MEDICAL</td>\n",
       "      <td>0.400902</td>\n",
       "    </tr>\n",
       "    <tr>\n",
       "      <th>3</th>\n",
       "      <td>1LINE – One Line with One Touch</td>\n",
       "      <td>GAME</td>\n",
       "      <td>0.304564</td>\n",
       "    </tr>\n",
       "    <tr>\n",
       "      <th>4</th>\n",
       "      <td>2018Emoji Keyboard 😂 Emoticons Lite -sticker&amp;gif</td>\n",
       "      <td>PERSONALIZATION</td>\n",
       "      <td>0.833469</td>\n",
       "    </tr>\n",
       "    <tr>\n",
       "      <th>...</th>\n",
       "      <td>...</td>\n",
       "      <td>...</td>\n",
       "      <td>...</td>\n",
       "    </tr>\n",
       "    <tr>\n",
       "      <th>843</th>\n",
       "      <td>Hotels.com: Book Hotel Rooms &amp; Find Vacation D...</td>\n",
       "      <td>TRAVEL_AND_LOCAL</td>\n",
       "      <td>0.213013</td>\n",
       "    </tr>\n",
       "    <tr>\n",
       "      <th>844</th>\n",
       "      <td>Hotspot Shield Free VPN Proxy &amp; Wi-Fi Security</td>\n",
       "      <td>TOOLS</td>\n",
       "      <td>0.456832</td>\n",
       "    </tr>\n",
       "    <tr>\n",
       "      <th>845</th>\n",
       "      <td>Hotstar</td>\n",
       "      <td>ENTERTAINMENT</td>\n",
       "      <td>0.053837</td>\n",
       "    </tr>\n",
       "    <tr>\n",
       "      <th>846</th>\n",
       "      <td>Hotwire Hotel &amp; Car Rental App</td>\n",
       "      <td>TRAVEL_AND_LOCAL</td>\n",
       "      <td>0.321771</td>\n",
       "    </tr>\n",
       "    <tr>\n",
       "      <th>847</th>\n",
       "      <td>Housing-Real Estate &amp; Property</td>\n",
       "      <td>LIFESTYLE</td>\n",
       "      <td>-0.281928</td>\n",
       "    </tr>\n",
       "  </tbody>\n",
       "</table>\n",
       "<p>848 rows × 3 columns</p>\n",
       "</div>"
      ],
      "text/plain": [
       "                                                   App            Category  \\\n",
       "0                                10 Best Foods for You  HEALTH_AND_FITNESS   \n",
       "1                                                 11st            SHOPPING   \n",
       "2                           1800 Contacts - Lens Store             MEDICAL   \n",
       "3                      1LINE – One Line with One Touch                GAME   \n",
       "4     2018Emoji Keyboard 😂 Emoticons Lite -sticker&gif     PERSONALIZATION   \n",
       "..                                                 ...                 ...   \n",
       "843  Hotels.com: Book Hotel Rooms & Find Vacation D...    TRAVEL_AND_LOCAL   \n",
       "844     Hotspot Shield Free VPN Proxy & Wi-Fi Security               TOOLS   \n",
       "845                                            Hotstar       ENTERTAINMENT   \n",
       "846                     Hotwire Hotel & Car Rental App    TRAVEL_AND_LOCAL   \n",
       "847                     Housing-Real Estate & Property           LIFESTYLE   \n",
       "\n",
       "     Sentiment_Objectivity  \n",
       "0              -102.148813  \n",
       "1                 0.195005  \n",
       "2                 0.400902  \n",
       "3                 0.304564  \n",
       "4                 0.833469  \n",
       "..                     ...  \n",
       "843               0.213013  \n",
       "844               0.456832  \n",
       "845               0.053837  \n",
       "846               0.321771  \n",
       "847              -0.281928  \n",
       "\n",
       "[848 rows x 3 columns]"
      ]
     },
     "execution_count": 33,
     "metadata": {},
     "output_type": "execute_result"
    }
   ],
   "source": [
    "new_df = df2.merge(df, how = \"left\", on = \"App\")[[\"App\", \"Sentiment_Objectivity\", \"Category\"]]\n",
    "new_df = new_df.groupby([\"App\", \"Category\"])[\"Sentiment_Objectivity\"].mean().reset_index()\n",
    "new_df"
   ]
  },
  {
   "cell_type": "markdown",
   "metadata": {
    "slideshow": {
     "slide_type": "subslide"
    }
   },
   "source": [
    "- Sau đó ta sẽ hiển thị những ứng dụng được 'đánh giá tốt nhất' trong mỗi thể loại trong dữ liệu."
   ]
  },
  {
   "cell_type": "code",
   "execution_count": 34,
   "metadata": {
    "slideshow": {
     "slide_type": "fragment"
    }
   },
   "outputs": [
    {
     "data": {
      "text/html": [
       "<div>\n",
       "<style scoped>\n",
       "    .dataframe tbody tr th:only-of-type {\n",
       "        vertical-align: middle;\n",
       "    }\n",
       "\n",
       "    .dataframe tbody tr th {\n",
       "        vertical-align: top;\n",
       "    }\n",
       "\n",
       "    .dataframe thead th {\n",
       "        text-align: right;\n",
       "    }\n",
       "</style>\n",
       "<table border=\"1\" class=\"dataframe\">\n",
       "  <thead>\n",
       "    <tr style=\"text-align: right;\">\n",
       "      <th>Category</th>\n",
       "      <th>ART_AND_DESIGN</th>\n",
       "      <th>AUTO_AND_VEHICLES</th>\n",
       "      <th>BEAUTY</th>\n",
       "      <th>BOOKS_AND_REFERENCE</th>\n",
       "      <th>BUSINESS</th>\n",
       "      <th>COMICS</th>\n",
       "      <th>COMMUNICATION</th>\n",
       "      <th>DATING</th>\n",
       "      <th>EDUCATION</th>\n",
       "      <th>ENTERTAINMENT</th>\n",
       "      <th>...</th>\n",
       "      <th>PERSONALIZATION</th>\n",
       "      <th>PHOTOGRAPHY</th>\n",
       "      <th>PRODUCTIVITY</th>\n",
       "      <th>SHOPPING</th>\n",
       "      <th>SOCIAL</th>\n",
       "      <th>SPORTS</th>\n",
       "      <th>TOOLS</th>\n",
       "      <th>TRAVEL_AND_LOCAL</th>\n",
       "      <th>VIDEO_PLAYERS</th>\n",
       "      <th>WEATHER</th>\n",
       "    </tr>\n",
       "  </thead>\n",
       "  <tbody>\n",
       "    <tr>\n",
       "      <th>App</th>\n",
       "      <td>Canva: Poster, banner, card maker &amp; graphic de...</td>\n",
       "      <td>AutoScout24 Switzerland – Find your new car</td>\n",
       "      <td>Hairstyles step by step</td>\n",
       "      <td>Golden Dictionary (EN-AR)</td>\n",
       "      <td>Google My Business</td>\n",
       "      <td>DC Comics</td>\n",
       "      <td>Contacts+</td>\n",
       "      <td>Chat Rooms, Avatars, Date - Galaxy</td>\n",
       "      <td>Edmodo</td>\n",
       "      <td>Amazon Prime Video</td>\n",
       "      <td>...</td>\n",
       "      <td>APUS Launcher - Theme, Wallpaper, Hide Apps</td>\n",
       "      <td>Cameringo Lite. Filters Camera</td>\n",
       "      <td>AutoCAD - DWG Viewer &amp; Editor</td>\n",
       "      <td>Flipp - Weekly Shopping</td>\n",
       "      <td>Badoo - Free Chat &amp; Dating App</td>\n",
       "      <td>All Football - Latest News &amp; Videos</td>\n",
       "      <td>App vault</td>\n",
       "      <td>Google Trips - Travel Planner</td>\n",
       "      <td>All Video Downloader 2018</td>\n",
       "      <td>APE Weather ( Live Forecast)</td>\n",
       "    </tr>\n",
       "  </tbody>\n",
       "</table>\n",
       "<p>1 rows × 33 columns</p>\n",
       "</div>"
      ],
      "text/plain": [
       "Category                                     ART_AND_DESIGN  \\\n",
       "App       Canva: Poster, banner, card maker & graphic de...   \n",
       "\n",
       "Category                            AUTO_AND_VEHICLES  \\\n",
       "App       AutoScout24 Switzerland – Find your new car   \n",
       "\n",
       "Category                   BEAUTY        BOOKS_AND_REFERENCE  \\\n",
       "App       Hairstyles step by step  Golden Dictionary (EN-AR)   \n",
       "\n",
       "Category            BUSINESS     COMICS COMMUNICATION  \\\n",
       "App       Google My Business  DC Comics     Contacts+   \n",
       "\n",
       "Category                              DATING EDUCATION       ENTERTAINMENT  \\\n",
       "App       Chat Rooms, Avatars, Date - Galaxy    Edmodo  Amazon Prime Video   \n",
       "\n",
       "Category  ...                              PERSONALIZATION  \\\n",
       "App       ...  APUS Launcher - Theme, Wallpaper, Hide Apps   \n",
       "\n",
       "Category                     PHOTOGRAPHY                   PRODUCTIVITY  \\\n",
       "App       Cameringo Lite. Filters Camera  AutoCAD - DWG Viewer & Editor   \n",
       "\n",
       "Category                 SHOPPING                          SOCIAL  \\\n",
       "App       Flipp - Weekly Shopping  Badoo - Free Chat & Dating App   \n",
       "\n",
       "Category                               SPORTS      TOOLS  \\\n",
       "App       All Football - Latest News & Videos  App vault   \n",
       "\n",
       "Category               TRAVEL_AND_LOCAL              VIDEO_PLAYERS  \\\n",
       "App       Google Trips - Travel Planner  All Video Downloader 2018   \n",
       "\n",
       "Category                       WEATHER  \n",
       "App       APE Weather ( Live Forecast)  \n",
       "\n",
       "[1 rows x 33 columns]"
      ]
     },
     "execution_count": 34,
     "metadata": {},
     "output_type": "execute_result"
    }
   ],
   "source": [
    "g = new_df.groupby(\"Category\")\n",
    "res = g.apply(lambda x: x.sort_values(by = \"Sentiment_Objectivity\", ascending=False).drop_duplicates(subset=\"App\").head(1)[\"App\"])\n",
    "temp_df = pd.DataFrame(res)\n",
    "temp_df = temp_df.reset_index().drop(\"level_1\", axis=1).set_index(\"Category\")\n",
    "temp_df.T"
   ]
  },
  {
   "cell_type": "markdown",
   "metadata": {
    "slideshow": {
     "slide_type": "subslide"
    }
   },
   "source": [
    "`Nhận xét`:\n",
    "- Qua việc trả lời câu hỏi trên, ta có thể tìm được ứng dụng nào được xem là làm hài lòng người sử dụng nhất ở mỗi thể loại. Điều này sẽ có ích cho cả các nhà phát triển ứng dụng lẫn người sử dụng.\n",
    "- Với những người lập trình, phát triển ứng dụng, khi cần xây dựng ứng dụng thuộc một thể loại nào đó. Người ta có thể tham khảo những ứng dụng được đánh giá cao để học hỏi.\n",
    "- Còn với người sử dụng, khi có nhu cầu về một loại ứng dụng nào, có thể dễ dàng dựa vào đây để tìm sản phẩm phù hợp cho mình. Mà không phí thời gian, tiền của vào những ứng dụng không đáng."
   ]
  },
  {
   "cell_type": "markdown",
   "metadata": {
    "slideshow": {
     "slide_type": "subslide"
    }
   },
   "source": [
    "`Nhận xét`:\n",
    "- Ta thấy hiện nay trên thị trường thì lượng ứng dụng Free là chiếm phần lớn, nhiều hơn ứng dụng Paid rất nhiều.\n",
    "- Về Size của cả 2 không chênh lệch.\n",
    "- Về lượng Rating thì ta thấy ứng dụng Paid sẽ có tỉ lệ Rating cao hơn nhưng không nhiều.\n",
    "- Hai yếu tố để thu về lợi nhuận là lượng Installs và Price thì với ứng dụng Free sẽ có lượng Installs trung bình cao hơn còn về Price thì ứng dụng Paid sẽ cao hơn."
   ]
  }
 ],
 "metadata": {
  "celltoolbar": "Slideshow",
  "kernelspec": {
   "display_name": "Python 3",
   "language": "python",
   "name": "python3"
  },
  "language_info": {
   "codemirror_mode": {
    "name": "ipython",
    "version": 3
   },
   "file_extension": ".py",
   "mimetype": "text/x-python",
   "name": "python",
   "nbconvert_exporter": "python",
   "pygments_lexer": "ipython3",
   "version": "3.8.8"
  },
  "toc": {
   "base_numbering": 1,
   "nav_menu": {},
   "number_sections": true,
   "sideBar": true,
   "skip_h1_title": false,
   "title_cell": "Table of Contents",
   "title_sidebar": "Contents",
   "toc_cell": true,
   "toc_position": {},
   "toc_section_display": true,
   "toc_window_display": false
  }
 },
 "nbformat": 4,
 "nbformat_minor": 4
}
